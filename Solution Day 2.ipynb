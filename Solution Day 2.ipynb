{
 "cells": [
  {
   "cell_type": "markdown",
   "metadata": {},
   "source": [
    "# Assigment 2"
   ]
  },
  {
   "cell_type": "markdown",
   "metadata": {},
   "source": [
    "## Data Augmentation: Edgar filings\n",
    "---"
   ]
  },
  {
   "cell_type": "markdown",
   "metadata": {},
   "source": [
    "The purpose of this assignment is to extract valuable information from text and convert it into variables where the initial input is a list of companies in a dataset, the idea will be to reproduce into certain extent what is revised in the notebooks 2.1, 2.2 as well as taking in consideration the block 1 which objective will be to augment/create knowledge of each company/entry.\n",
    "\n",
    "The following assignment is divided into 3 parts: Text features creations, Dataset augmentation and Preliminary analysis where is each part will be asked to create functions or routines for data processing.  \n",
    "\n",
    "The expected output of this notebook is a rich, structured data in table format as well as exporatory analysis:\n",
    "\n",
    "1. **Core Dataset** - Table formated data ready for analytics\n",
    "2. **Analysis** - Be creative!! here you have the freedom to perform any data analysis of your preference"
   ]
  },
  {
   "cell_type": "markdown",
   "metadata": {},
   "source": [
    "EDGAR filings text analysis resources: [Github repo](https://github.com/rohitharitash/EDGAR-reports-Text-Analysis), [OpenEDGAR paper](https://arxiv.org/pdf/1806.04973.pdf) and [Code](https://github.com/LexPredict/openedgar)"
   ]
  },
  {
   "cell_type": "markdown",
   "metadata": {},
   "source": [
    "---\n",
    "## Part 1: Text features creation"
   ]
  },
  {
   "cell_type": "markdown",
   "metadata": {},
   "source": [
    "1. Create a function or procedure that perform the NLP tasks revised in Section 2.2.1. (Stopwords adding, Stemming, Tokenization, etc.) feel free to add additional steps found in different resources"
   ]
  },
  {
   "cell_type": "code",
   "execution_count": 1,
   "metadata": {},
   "outputs": [],
   "source": [
    "import pandas as pd\n",
    "import pickle"
   ]
  },
  {
   "cell_type": "code",
   "execution_count": 2,
   "metadata": {},
   "outputs": [
    {
     "data": {
      "text/html": [
       "<div>\n",
       "<style scoped>\n",
       "    .dataframe tbody tr th:only-of-type {\n",
       "        vertical-align: middle;\n",
       "    }\n",
       "\n",
       "    .dataframe tbody tr th {\n",
       "        vertical-align: top;\n",
       "    }\n",
       "\n",
       "    .dataframe thead th {\n",
       "        text-align: right;\n",
       "    }\n",
       "</style>\n",
       "<table border=\"1\" class=\"dataframe\">\n",
       "  <thead>\n",
       "    <tr style=\"text-align: right;\">\n",
       "      <th></th>\n",
       "      <th>cik</th>\n",
       "      <th>exchange</th>\n",
       "      <th>irs</th>\n",
       "      <th>name</th>\n",
       "      <th>sic</th>\n",
       "      <th>ticker</th>\n",
       "      <th>file</th>\n",
       "    </tr>\n",
       "  </thead>\n",
       "  <tbody>\n",
       "    <tr>\n",
       "      <th>196</th>\n",
       "      <td>1470177</td>\n",
       "      <td>OTC</td>\n",
       "      <td>611585332</td>\n",
       "      <td>Axiologix Education Corp</td>\n",
       "      <td>7372</td>\n",
       "      <td>AXLX</td>\n",
       "      <td>https://www.sec.gov/Archives/edgar/data/147017...</td>\n",
       "    </tr>\n",
       "    <tr>\n",
       "      <th>1090</th>\n",
       "      <td>59527</td>\n",
       "      <td>NASDAQ</td>\n",
       "      <td>340359955</td>\n",
       "      <td>Lincoln Electric Holdings Inc</td>\n",
       "      <td>3540</td>\n",
       "      <td>LECO</td>\n",
       "      <td>https://www.sec.gov/Archives/edgar/data/59527/...</td>\n",
       "    </tr>\n",
       "  </tbody>\n",
       "</table>\n",
       "</div>"
      ],
      "text/plain": [
       "          cik exchange        irs                           name   sic ticker  \\\n",
       "196   1470177      OTC  611585332       Axiologix Education Corp  7372   AXLX   \n",
       "1090    59527   NASDAQ  340359955  Lincoln Electric Holdings Inc  3540   LECO   \n",
       "\n",
       "                                                   file  \n",
       "196   https://www.sec.gov/Archives/edgar/data/147017...  \n",
       "1090  https://www.sec.gov/Archives/edgar/data/59527/...  "
      ]
     },
     "execution_count": 2,
     "metadata": {},
     "output_type": "execute_result"
    }
   ],
   "source": [
    "df = pd.read_csv('datasets/table_companies_short.csv',sep=',', index_col=0)\n",
    "tickers = list(df['ticker'])\n",
    "df.head()"
   ]
  },
  {
   "cell_type": "code",
   "execution_count": 3,
   "metadata": {
    "collapsed": true
   },
   "outputs": [],
   "source": [
    "# Load pickled files\n",
    "import lxml.html.clean \n",
    "data = {}\n",
    "for i, t in enumerate(tickers):\n",
    "    with open(\"reports/\" + t + \".txt\", \"rb\") as file:\n",
    "        data[t] = lxml.html.clean.clean_html(pickle.load(file))"
   ]
  },
  {
   "cell_type": "code",
   "execution_count": 4,
   "metadata": {},
   "outputs": [],
   "source": [
    "# Define stopwrods\n",
    "from nltk.corpus import stopwords\n",
    "\n",
    "english_stop_words = stopwords.words('english')\n",
    "stopwordsfile = \"dictionaries/financial_stopwrods.txt\"\n",
    "file = open(stopwordsfile, \"r\")\n",
    "financial_stop_words = file.read().split('\\n')\n",
    "stopwords = []\n",
    "stopwords.extend(english_stop_words)\n",
    "stopwords.extend(financial_stop_words)\n",
    "stopwords = list(set(stopwords))"
   ]
  },
  {
   "cell_type": "code",
   "execution_count": 5,
   "metadata": {},
   "outputs": [
    {
     "name": "stdout",
     "output_type": "stream",
     "text": [
      "<div>0001654954-19-003723.txt : 20190401\n",
      "0001654954-19-003723.hdr.sgml : 20190401\n",
      "20190329181508\n",
      "ACCESSION NUMBER:\t\t0001654954-19-003723\n",
      "CONFORMED SUBMISSION TYPE:\t10-K\n",
      "PUBLIC DOCUMENT COUNT:\t\t45\n",
      "CONFORMED PERIOD OF REPORT:\t20181231\n",
      "FILED AS OF DATE:\t\t20190401\n",
      "DATE AS OF CHANGE:\t\t20190329\n",
      "\n",
      "FILER:\n",
      "\n",
      "\tCOMPANY DATA:\t\n",
      "\t\tCOMPANY CONFORMED NAME:\t\t\tAdvantego Corp\n",
      "\t\tCENTRAL INDEX KEY:\t\t\t0000869531\n",
      "\t\tSTANDARD INDUSTRIAL CLASSIFICATION:\tSERVICES-COMPUTER PROCESSING &amp; DATA PREPARATION [7374]\n",
      "\t\tIRS NUMBER:\t\t\t\t841116515\n",
      "\t\tSTATE OF INCORPORATION:\t\t\tCO\n",
      "\t\tFISCAL YEAR END:\t\t\t1231\n",
      "\n",
      "\tFILING VALUES:\n",
      "\t\tFORM TYP\n"
     ]
    }
   ],
   "source": [
    "print(data['AXLX'][0:600])"
   ]
  },
  {
   "cell_type": "code",
   "execution_count": 6,
   "metadata": {},
   "outputs": [],
   "source": [
    "from utils import *\n",
    "for r in data.keys():\n",
    "    report = data[r]\n",
    "    report = clean_text(report)\n",
    "    report = removeStopWords(report, stopwords)\n",
    "    data[r] = [report] #pandas format"
   ]
  },
  {
   "cell_type": "code",
   "execution_count": 7,
   "metadata": {},
   "outputs": [
    {
     "name": "stdout",
     "output_type": "stream",
     "text": [
      "txt hdr sgml accession number conformed submission type kpublic document count conformed period filed date date change filer data conformed name advantego corpcentral index key standard industrial classification services computer processing amp data preparation irs number state incorporation cofiscal end filing values form type ksec act actsec file number film number address street east florida ave street suite city denverstate cozip phone mail address street east florida ave street suite city denverstate cozip former former conformed name golden eagle international incdate name change former \n"
     ]
    }
   ],
   "source": [
    "print(data['AXLX'][0][0:600])"
   ]
  },
  {
   "cell_type": "markdown",
   "metadata": {},
   "source": [
    "All the NLP tasks are in sentiment_scores.py"
   ]
  },
  {
   "cell_type": "markdown",
   "metadata": {},
   "source": [
    "3. Use the function `read_dictionary` revised on 2.2.1 to read the dictionaries:\n",
    "    - positive_words.txt\n",
    "    - negative_words.txt\n",
    "    - uncertainty_dictionary.txt\n",
    "    - constraining_dictionary.txt\n",
    "    \n",
    "Importing the file `sentiment_scores.py` calculate the respective scores. Do not forget that this module uses `nltk`"
   ]
  },
  {
   "cell_type": "code",
   "execution_count": 8,
   "metadata": {},
   "outputs": [],
   "source": [
    "from sentiment_scores import *\n",
    "\n",
    "positive_words = read_dictionary('dictionaries/positive_words.txt')\n",
    "negative_words = read_dictionary('dictionaries/negative_words.txt')\n",
    "uncertainty_dict = read_dictionary('dictionaries/uncertainty_dictionary.txt')\n",
    "constraining_dict = read_dictionary('dictionaries/constraining_dictionary.txt')"
   ]
  },
  {
   "cell_type": "markdown",
   "metadata": {},
   "source": [
    "4. Create a formula or method that calculate the relative scores:  $\\frac{absoluteScore}{wordsReport}$"
   ]
  },
  {
   "cell_type": "code",
   "execution_count": 9,
   "metadata": {},
   "outputs": [],
   "source": [
    "# Relative score function\n",
    "def relative_score(score, wordcount):\n",
    "    return round(score / wordcount,4) if wordcount != 0 else 0"
   ]
  },
  {
   "cell_type": "markdown",
   "metadata": {},
   "source": [
    "5. Test all the functions created on one text/report, example:"
   ]
  },
  {
   "cell_type": "markdown",
   "metadata": {},
   "source": [
    "```python\n",
    "positive_score = generate_score(report, positive_words)\n",
    "negative_score = generate_score(report, negative_words)\n",
    "count_tokens = total_word_count(report)\n",
    "polarity = polarity_score(positive_score, negative_score)\n",
    "uncertainty_score = generate_score(report, uncertainty_dict)\n",
    "constraining_score = generate_score(report, constraining_dict)\n",
    "avg_sentence_length = average_sentence_length(report)\n",
    "perc_complex_word = percentage_complex_word(report)\n",
    "fog_index = calculate_fog_index(avg_sentence_length, perc_complex_word)\n",
    "positive_relative = relative_score(positive_score, count_tokens)\n",
    "negative_relative = relative_score(negative_score, count_tokens)\n",
    "uncertainty_relative = relative_score(uncertainty_score, count_tokens)\n",
    "constraining_relative = relative_score(constraining_score, count_tokens)\n",
    "```"
   ]
  },
  {
   "cell_type": "markdown",
   "metadata": {},
   "source": [
    "---\n",
    "## Part 2: Dataset augmentation\n"
   ]
  },
  {
   "cell_type": "markdown",
   "metadata": {},
   "source": [
    "6. Apply that function to each report in `EDGAR_corpus.pkl` and update the text for each company   \n",
    "**IMPORTANT: for at least 5 companies since the process might take time to compute** "
   ]
  },
  {
   "cell_type": "code",
   "execution_count": 10,
   "metadata": {},
   "outputs": [
    {
     "name": "stdout",
     "output_type": "stream",
     "text": [
      "txt hdr sgml accession number conformed submission type kpublic document count conformed period filed date date change filer data conformed name advantego corpcentral index key standard industrial classification services computer processing amp data preparation irs number state incorporation cofiscal end filing values form type ksec act actsec file number film number address street east florida ave street suite city denverstate cozip phone mail address street east florida ave street suite city denverstate cozip former former conformed name golden eagle international incdate name change former \n"
     ]
    }
   ],
   "source": [
    "print(data['AXLX'][0][0:600])"
   ]
  },
  {
   "cell_type": "code",
   "execution_count": 11,
   "metadata": {},
   "outputs": [],
   "source": [
    "data = pd.DataFrame\\\n",
    "    .from_dict(data)\\\n",
    "    .transpose()\\\n",
    "    .sort_index()\\\n",
    "    .rename(columns = {0:'report'})"
   ]
  },
  {
   "cell_type": "code",
   "execution_count": 13,
   "metadata": {},
   "outputs": [
    {
     "name": "stdout",
     "output_type": "stream",
     "text": [
      "--- 9.997459888458252 seconds ---\n"
     ]
    }
   ],
   "source": [
    "import time\n",
    "start_time = time.time()\n",
    "#---  seconds ---\n",
    "\n",
    "data['count_tokens'] = data.report.apply(total_word_count)\n",
    "data['percentage_complex_word'] = data.report.apply(percentage_complex_word)\n",
    "data['positive_score'] = data.report.apply(lambda x: generate_score(x, positive_words))\n",
    "data['negative_score'] = data.report.apply(lambda x: generate_score(x, negative_words))\n",
    "data['uncertainty_score'] = data.report.apply(lambda x: generate_score(x, uncertainty_dict))\n",
    "data['constraining_score'] = data.report.apply(lambda x: generate_score(x, constraining_dict))\n",
    "data['relative_positive'] = [relative_score(x, y)*10 for x, y in zip(data['positive_score'], data['count_tokens'])]\n",
    "data['relative_negative'] = [relative_score(x, y)*10 for x, y in zip(data['negative_score'], data['count_tokens'])]\n",
    "data['relative_uncertainty'] = [relative_score(x, y)*10 for x, y in zip(data['uncertainty_score'], data['count_tokens'])]\n",
    "data['relative_constraining'] = [relative_score(x, y)*10 for x, y in zip(data['constraining_score'], data['count_tokens'])]\n",
    "data['fog_index'] = [calculate_fog_index(x, y) for x, y in zip(data['count_tokens'], data['percentage_complex_word'])]\n",
    "\n",
    "print(\"--- %s seconds ---\" % (time.time() - start_time))"
   ]
  },
  {
   "cell_type": "code",
   "execution_count": 14,
   "metadata": {},
   "outputs": [
    {
     "data": {
      "text/html": [
       "<div>\n",
       "<style scoped>\n",
       "    .dataframe tbody tr th:only-of-type {\n",
       "        vertical-align: middle;\n",
       "    }\n",
       "\n",
       "    .dataframe tbody tr th {\n",
       "        vertical-align: top;\n",
       "    }\n",
       "\n",
       "    .dataframe thead th {\n",
       "        text-align: right;\n",
       "    }\n",
       "</style>\n",
       "<table border=\"1\" class=\"dataframe\">\n",
       "  <thead>\n",
       "    <tr style=\"text-align: right;\">\n",
       "      <th></th>\n",
       "      <th>report</th>\n",
       "      <th>count_tokens</th>\n",
       "      <th>percentage_complex_word</th>\n",
       "      <th>positive_score</th>\n",
       "      <th>negative_score</th>\n",
       "      <th>uncertainty_score</th>\n",
       "      <th>constraining_score</th>\n",
       "      <th>relative_positive</th>\n",
       "      <th>relative_negative</th>\n",
       "      <th>relative_uncertainty</th>\n",
       "      <th>relative_constraining</th>\n",
       "      <th>fog_index</th>\n",
       "    </tr>\n",
       "  </thead>\n",
       "  <tbody>\n",
       "    <tr>\n",
       "      <th>AXLX</th>\n",
       "      <td>txt hdr sgml accession number conformed submis...</td>\n",
       "      <td>60540</td>\n",
       "      <td>0.184374</td>\n",
       "      <td>55</td>\n",
       "      <td>277</td>\n",
       "      <td>229</td>\n",
       "      <td>40</td>\n",
       "      <td>0.009</td>\n",
       "      <td>0.046</td>\n",
       "      <td>0.038</td>\n",
       "      <td>0.007</td>\n",
       "      <td>24216.074</td>\n",
       "    </tr>\n",
       "    <tr>\n",
       "      <th>LECO</th>\n",
       "      <td>google gbar guser font size padding top import...</td>\n",
       "      <td>259</td>\n",
       "      <td>0.158301</td>\n",
       "      <td>0</td>\n",
       "      <td>0</td>\n",
       "      <td>0</td>\n",
       "      <td>0</td>\n",
       "      <td>0.000</td>\n",
       "      <td>0.000</td>\n",
       "      <td>0.000</td>\n",
       "      <td>0.000</td>\n",
       "      <td>103.663</td>\n",
       "    </tr>\n",
       "  </tbody>\n",
       "</table>\n",
       "</div>"
      ],
      "text/plain": [
       "                                                 report  count_tokens  \\\n",
       "AXLX  txt hdr sgml accession number conformed submis...         60540   \n",
       "LECO  google gbar guser font size padding top import...           259   \n",
       "\n",
       "      percentage_complex_word  positive_score  negative_score  \\\n",
       "AXLX                 0.184374              55             277   \n",
       "LECO                 0.158301               0               0   \n",
       "\n",
       "      uncertainty_score  constraining_score  relative_positive  \\\n",
       "AXLX                229                  40              0.009   \n",
       "LECO                  0                   0              0.000   \n",
       "\n",
       "      relative_negative  relative_uncertainty  relative_constraining  \\\n",
       "AXLX              0.046                 0.038                  0.007   \n",
       "LECO              0.000                 0.000                  0.000   \n",
       "\n",
       "      fog_index  \n",
       "AXLX  24216.074  \n",
       "LECO    103.663  "
      ]
     },
     "execution_count": 14,
     "metadata": {},
     "output_type": "execute_result"
    }
   ],
   "source": [
    "data.head()"
   ]
  },
  {
   "cell_type": "code",
   "execution_count": 15,
   "metadata": {},
   "outputs": [],
   "source": [
    "companies = list(data.index)"
   ]
  },
  {
   "cell_type": "markdown",
   "metadata": {},
   "source": [
    "7. Re-use the procedure created in Section 1.4.3 and add the risk-loss features to our core dataset"
   ]
  },
  {
   "cell_type": "code",
   "execution_count": 16,
   "metadata": {},
   "outputs": [],
   "source": [
    "#data_matrix = pd.read_pickle('pickle/EDGAR_matrix.pkl')\n",
    "#data_matrix.head()\n",
    "#data_risk_words = data_matrix[['risk', 'loss']]"
   ]
  },
  {
   "cell_type": "code",
   "execution_count": 32,
   "metadata": {},
   "outputs": [],
   "source": [
    "#data['report'][0]"
   ]
  },
  {
   "cell_type": "code",
   "execution_count": 18,
   "metadata": {},
   "outputs": [],
   "source": [
    "from flashtext import KeywordProcessor\n",
    "kp_risk_words = KeywordProcessor()\n",
    "kp_risk_words.add_keywords_from_list([\"risk\", \"loss\"])"
   ]
  },
  {
   "cell_type": "code",
   "execution_count": 19,
   "metadata": {},
   "outputs": [
    {
     "data": {
      "text/plain": [
       "102"
      ]
     },
     "execution_count": 19,
     "metadata": {},
     "output_type": "execute_result"
    }
   ],
   "source": [
    "len(kp_risk_words.extract_keywords(data['report'][0]))"
   ]
  },
  {
   "cell_type": "markdown",
   "metadata": {},
   "source": [
    "8. Create a relative **risk** score as follows: $\\frac{wordsRisk+wordsLoss}{wordsReport}$ add the score to the core table"
   ]
  },
  {
   "cell_type": "code",
   "execution_count": 20,
   "metadata": {},
   "outputs": [],
   "source": [
    "data['risk_loss'] = [len(kp_risk_words.extract_keywords(data.loc[i,'report'])) for i in data.index]\n",
    "data['relative_risk'] = [relative_score(x, y)*100 for x, y in zip(data['risk_loss'], data['count_tokens'])]"
   ]
  },
  {
   "cell_type": "code",
   "execution_count": 21,
   "metadata": {},
   "outputs": [],
   "source": [
    "avg = data.count_tokens.mean()\n",
    "data['prop_of_average'] = [round(i/avg,2) for i in data.count_tokens]"
   ]
  },
  {
   "cell_type": "markdown",
   "metadata": {},
   "source": [
    "9. Save the final table, the columns should look more or less like this:\n",
    "```python\n",
    "['company_name', 'count_tokens', 'average_sentence_length',\n",
    "       'percentage_complex_word', 'positive_score', 'negative_score',\n",
    "       'uncertainty_score', 'constraining_score', 'relative_positive',\n",
    "       'relative_negative', 'relative_uncertainty', 'fog_index',\n",
    "       'relative_constraining', 'risk_loss', 'relative_risk']\n",
    "```"
   ]
  },
  {
   "cell_type": "code",
   "execution_count": 22,
   "metadata": {},
   "outputs": [
    {
     "data": {
      "text/plain": [
       "Index(['report', 'count_tokens', 'percentage_complex_word', 'positive_score',\n",
       "       'negative_score', 'uncertainty_score', 'constraining_score',\n",
       "       'relative_positive', 'relative_negative', 'relative_uncertainty',\n",
       "       'relative_constraining', 'fog_index', 'risk_loss', 'relative_risk',\n",
       "       'prop_of_average'],\n",
       "      dtype='object')"
      ]
     },
     "execution_count": 22,
     "metadata": {},
     "output_type": "execute_result"
    }
   ],
   "source": [
    "data.columns"
   ]
  },
  {
   "cell_type": "code",
   "execution_count": 23,
   "metadata": {},
   "outputs": [],
   "source": [
    "data.drop(columns=['report']).to_csv('data_short.csv')"
   ]
  },
  {
   "cell_type": "code",
   "execution_count": 24,
   "metadata": {},
   "outputs": [
    {
     "data": {
      "text/html": [
       "<div>\n",
       "<style scoped>\n",
       "    .dataframe tbody tr th:only-of-type {\n",
       "        vertical-align: middle;\n",
       "    }\n",
       "\n",
       "    .dataframe tbody tr th {\n",
       "        vertical-align: top;\n",
       "    }\n",
       "\n",
       "    .dataframe thead th {\n",
       "        text-align: right;\n",
       "    }\n",
       "</style>\n",
       "<table border=\"1\" class=\"dataframe\">\n",
       "  <thead>\n",
       "    <tr style=\"text-align: right;\">\n",
       "      <th></th>\n",
       "      <th>count_tokens</th>\n",
       "      <th>percentage_complex_word</th>\n",
       "      <th>positive_score</th>\n",
       "      <th>negative_score</th>\n",
       "      <th>uncertainty_score</th>\n",
       "      <th>constraining_score</th>\n",
       "      <th>relative_positive</th>\n",
       "      <th>relative_negative</th>\n",
       "      <th>relative_uncertainty</th>\n",
       "      <th>relative_constraining</th>\n",
       "      <th>fog_index</th>\n",
       "      <th>risk_loss</th>\n",
       "      <th>relative_risk</th>\n",
       "      <th>prop_of_average</th>\n",
       "    </tr>\n",
       "  </thead>\n",
       "  <tbody>\n",
       "    <tr>\n",
       "      <th>count</th>\n",
       "      <td>2.000000</td>\n",
       "      <td>2.000000</td>\n",
       "      <td>2.000000</td>\n",
       "      <td>2.000000</td>\n",
       "      <td>2.000000</td>\n",
       "      <td>2.000000</td>\n",
       "      <td>2.000000</td>\n",
       "      <td>2.000000</td>\n",
       "      <td>2.00000</td>\n",
       "      <td>2.00000</td>\n",
       "      <td>2.000000</td>\n",
       "      <td>2.000000</td>\n",
       "      <td>2.000000</td>\n",
       "      <td>2.000000</td>\n",
       "    </tr>\n",
       "    <tr>\n",
       "      <th>mean</th>\n",
       "      <td>30399.500000</td>\n",
       "      <td>0.171338</td>\n",
       "      <td>27.500000</td>\n",
       "      <td>138.500000</td>\n",
       "      <td>114.500000</td>\n",
       "      <td>20.000000</td>\n",
       "      <td>0.004500</td>\n",
       "      <td>0.023000</td>\n",
       "      <td>0.01900</td>\n",
       "      <td>0.00350</td>\n",
       "      <td>12159.868500</td>\n",
       "      <td>51.000000</td>\n",
       "      <td>0.085000</td>\n",
       "      <td>1.000000</td>\n",
       "    </tr>\n",
       "    <tr>\n",
       "      <th>std</th>\n",
       "      <td>42625.103877</td>\n",
       "      <td>0.018436</td>\n",
       "      <td>38.890873</td>\n",
       "      <td>195.868578</td>\n",
       "      <td>161.927453</td>\n",
       "      <td>28.284271</td>\n",
       "      <td>0.006364</td>\n",
       "      <td>0.032527</td>\n",
       "      <td>0.02687</td>\n",
       "      <td>0.00495</td>\n",
       "      <td>17050.049329</td>\n",
       "      <td>72.124892</td>\n",
       "      <td>0.120208</td>\n",
       "      <td>1.400071</td>\n",
       "    </tr>\n",
       "    <tr>\n",
       "      <th>min</th>\n",
       "      <td>259.000000</td>\n",
       "      <td>0.158301</td>\n",
       "      <td>0.000000</td>\n",
       "      <td>0.000000</td>\n",
       "      <td>0.000000</td>\n",
       "      <td>0.000000</td>\n",
       "      <td>0.000000</td>\n",
       "      <td>0.000000</td>\n",
       "      <td>0.00000</td>\n",
       "      <td>0.00000</td>\n",
       "      <td>103.663000</td>\n",
       "      <td>0.000000</td>\n",
       "      <td>0.000000</td>\n",
       "      <td>0.010000</td>\n",
       "    </tr>\n",
       "    <tr>\n",
       "      <th>25%</th>\n",
       "      <td>15329.250000</td>\n",
       "      <td>0.164819</td>\n",
       "      <td>13.750000</td>\n",
       "      <td>69.250000</td>\n",
       "      <td>57.250000</td>\n",
       "      <td>10.000000</td>\n",
       "      <td>0.002250</td>\n",
       "      <td>0.011500</td>\n",
       "      <td>0.00950</td>\n",
       "      <td>0.00175</td>\n",
       "      <td>6131.765750</td>\n",
       "      <td>25.500000</td>\n",
       "      <td>0.042500</td>\n",
       "      <td>0.505000</td>\n",
       "    </tr>\n",
       "    <tr>\n",
       "      <th>50%</th>\n",
       "      <td>30399.500000</td>\n",
       "      <td>0.171338</td>\n",
       "      <td>27.500000</td>\n",
       "      <td>138.500000</td>\n",
       "      <td>114.500000</td>\n",
       "      <td>20.000000</td>\n",
       "      <td>0.004500</td>\n",
       "      <td>0.023000</td>\n",
       "      <td>0.01900</td>\n",
       "      <td>0.00350</td>\n",
       "      <td>12159.868500</td>\n",
       "      <td>51.000000</td>\n",
       "      <td>0.085000</td>\n",
       "      <td>1.000000</td>\n",
       "    </tr>\n",
       "    <tr>\n",
       "      <th>75%</th>\n",
       "      <td>45469.750000</td>\n",
       "      <td>0.177856</td>\n",
       "      <td>41.250000</td>\n",
       "      <td>207.750000</td>\n",
       "      <td>171.750000</td>\n",
       "      <td>30.000000</td>\n",
       "      <td>0.006750</td>\n",
       "      <td>0.034500</td>\n",
       "      <td>0.02850</td>\n",
       "      <td>0.00525</td>\n",
       "      <td>18187.971250</td>\n",
       "      <td>76.500000</td>\n",
       "      <td>0.127500</td>\n",
       "      <td>1.495000</td>\n",
       "    </tr>\n",
       "    <tr>\n",
       "      <th>max</th>\n",
       "      <td>60540.000000</td>\n",
       "      <td>0.184374</td>\n",
       "      <td>55.000000</td>\n",
       "      <td>277.000000</td>\n",
       "      <td>229.000000</td>\n",
       "      <td>40.000000</td>\n",
       "      <td>0.009000</td>\n",
       "      <td>0.046000</td>\n",
       "      <td>0.03800</td>\n",
       "      <td>0.00700</td>\n",
       "      <td>24216.074000</td>\n",
       "      <td>102.000000</td>\n",
       "      <td>0.170000</td>\n",
       "      <td>1.990000</td>\n",
       "    </tr>\n",
       "  </tbody>\n",
       "</table>\n",
       "</div>"
      ],
      "text/plain": [
       "       count_tokens  percentage_complex_word  positive_score  negative_score  \\\n",
       "count      2.000000                 2.000000        2.000000        2.000000   \n",
       "mean   30399.500000                 0.171338       27.500000      138.500000   \n",
       "std    42625.103877                 0.018436       38.890873      195.868578   \n",
       "min      259.000000                 0.158301        0.000000        0.000000   \n",
       "25%    15329.250000                 0.164819       13.750000       69.250000   \n",
       "50%    30399.500000                 0.171338       27.500000      138.500000   \n",
       "75%    45469.750000                 0.177856       41.250000      207.750000   \n",
       "max    60540.000000                 0.184374       55.000000      277.000000   \n",
       "\n",
       "       uncertainty_score  constraining_score  relative_positive  \\\n",
       "count           2.000000            2.000000           2.000000   \n",
       "mean          114.500000           20.000000           0.004500   \n",
       "std           161.927453           28.284271           0.006364   \n",
       "min             0.000000            0.000000           0.000000   \n",
       "25%            57.250000           10.000000           0.002250   \n",
       "50%           114.500000           20.000000           0.004500   \n",
       "75%           171.750000           30.000000           0.006750   \n",
       "max           229.000000           40.000000           0.009000   \n",
       "\n",
       "       relative_negative  relative_uncertainty  relative_constraining  \\\n",
       "count           2.000000               2.00000                2.00000   \n",
       "mean            0.023000               0.01900                0.00350   \n",
       "std             0.032527               0.02687                0.00495   \n",
       "min             0.000000               0.00000                0.00000   \n",
       "25%             0.011500               0.00950                0.00175   \n",
       "50%             0.023000               0.01900                0.00350   \n",
       "75%             0.034500               0.02850                0.00525   \n",
       "max             0.046000               0.03800                0.00700   \n",
       "\n",
       "          fog_index   risk_loss  relative_risk  prop_of_average  \n",
       "count      2.000000    2.000000       2.000000         2.000000  \n",
       "mean   12159.868500   51.000000       0.085000         1.000000  \n",
       "std    17050.049329   72.124892       0.120208         1.400071  \n",
       "min      103.663000    0.000000       0.000000         0.010000  \n",
       "25%     6131.765750   25.500000       0.042500         0.505000  \n",
       "50%    12159.868500   51.000000       0.085000         1.000000  \n",
       "75%    18187.971250   76.500000       0.127500         1.495000  \n",
       "max    24216.074000  102.000000       0.170000         1.990000  "
      ]
     },
     "execution_count": 24,
     "metadata": {},
     "output_type": "execute_result"
    }
   ],
   "source": [
    "data.describe()"
   ]
  },
  {
   "cell_type": "markdown",
   "metadata": {},
   "source": [
    "---\n",
    "## Part 3: Preliminary analysis\n"
   ]
  },
  {
   "cell_type": "markdown",
   "metadata": {},
   "source": [
    "10. With the dataset clean and ready, conduct an exploratory data analysis, there are no rules neither recipies"
   ]
  },
  {
   "cell_type": "code",
   "execution_count": 25,
   "metadata": {},
   "outputs": [],
   "source": [
    "import matplotlib.pyplot as plt\n",
    "%matplotlib inline"
   ]
  },
  {
   "cell_type": "code",
   "execution_count": 26,
   "metadata": {},
   "outputs": [
    {
     "data": {
      "image/png": "[encoded data removed]",
      "text/plain": [
       "<Figure size 1152x1152 with 1 Axes>"
      ]
     },
     "metadata": {
      "needs_background": "light"
     },
     "output_type": "display_data"
    }
   ],
   "source": [
    "plt.rcParams['figure.figsize'] = [16, 16]\n",
    "\n",
    "for i, company in enumerate(data.index):\n",
    "    x = round(data.relative_risk.loc[company],2)\n",
    "    y = round(data.relative_uncertainty.loc[company],2)\n",
    "    s = round(data.prop_of_average.loc[company],2)\n",
    "    plt.scatter(x, y, color='#FF3844', alpha=.8, s=s*150)\n",
    "    plt.text(x+0.1, y+0.1, data.index[i][0:-11], fontsize=8)\n",
    "    \n",
    "plt.title('Number of Risk-Loss Terms Used in Document per Thousand Words', fontsize=20)\n",
    "plt.xlabel('Risk mentions', fontsize=15)\n",
    "plt.ylabel('Loss mentions', fontsize=15)\n",
    "#plt.savefig('risk_loss.png')\n",
    "plt.show()"
   ]
  },
  {
   "cell_type": "markdown",
   "metadata": {},
   "source": [
    "You can get some inspiration from [here](https://towardsdatascience.com/a-complete-exploratory-data-analysis-and-visualization-for-text-data-29fb1b96fb6a)"
   ]
  },
  {
   "cell_type": "code",
   "execution_count": 27,
   "metadata": {},
   "outputs": [],
   "source": [
    "data['invest'] = [1 if i < data.relative_uncertainty.median() else 0 for i in data.relative_uncertainty]"
   ]
  },
  {
   "cell_type": "code",
   "execution_count": 28,
   "metadata": {},
   "outputs": [
    {
     "data": {
      "text/html": [
       "<div>\n",
       "<style scoped>\n",
       "    .dataframe tbody tr th:only-of-type {\n",
       "        vertical-align: middle;\n",
       "    }\n",
       "\n",
       "    .dataframe tbody tr th {\n",
       "        vertical-align: top;\n",
       "    }\n",
       "\n",
       "    .dataframe thead th {\n",
       "        text-align: right;\n",
       "    }\n",
       "</style>\n",
       "<table border=\"1\" class=\"dataframe\">\n",
       "  <thead>\n",
       "    <tr style=\"text-align: right;\">\n",
       "      <th></th>\n",
       "      <th>report</th>\n",
       "      <th>count_tokens</th>\n",
       "      <th>percentage_complex_word</th>\n",
       "      <th>positive_score</th>\n",
       "      <th>negative_score</th>\n",
       "      <th>uncertainty_score</th>\n",
       "      <th>constraining_score</th>\n",
       "      <th>relative_positive</th>\n",
       "      <th>relative_negative</th>\n",
       "      <th>relative_uncertainty</th>\n",
       "      <th>relative_constraining</th>\n",
       "      <th>fog_index</th>\n",
       "      <th>risk_loss</th>\n",
       "      <th>relative_risk</th>\n",
       "      <th>prop_of_average</th>\n",
       "      <th>invest</th>\n",
       "    </tr>\n",
       "  </thead>\n",
       "  <tbody>\n",
       "    <tr>\n",
       "      <th>AXLX</th>\n",
       "      <td>txt hdr sgml accession number conformed submis...</td>\n",
       "      <td>60540</td>\n",
       "      <td>0.184374</td>\n",
       "      <td>55</td>\n",
       "      <td>277</td>\n",
       "      <td>229</td>\n",
       "      <td>40</td>\n",
       "      <td>0.009</td>\n",
       "      <td>0.046</td>\n",
       "      <td>0.038</td>\n",
       "      <td>0.007</td>\n",
       "      <td>24216.074</td>\n",
       "      <td>102</td>\n",
       "      <td>0.17</td>\n",
       "      <td>1.99</td>\n",
       "      <td>0</td>\n",
       "    </tr>\n",
       "    <tr>\n",
       "      <th>LECO</th>\n",
       "      <td>google gbar guser font size padding top import...</td>\n",
       "      <td>259</td>\n",
       "      <td>0.158301</td>\n",
       "      <td>0</td>\n",
       "      <td>0</td>\n",
       "      <td>0</td>\n",
       "      <td>0</td>\n",
       "      <td>0.000</td>\n",
       "      <td>0.000</td>\n",
       "      <td>0.000</td>\n",
       "      <td>0.000</td>\n",
       "      <td>103.663</td>\n",
       "      <td>0</td>\n",
       "      <td>0.00</td>\n",
       "      <td>0.01</td>\n",
       "      <td>1</td>\n",
       "    </tr>\n",
       "  </tbody>\n",
       "</table>\n",
       "</div>"
      ],
      "text/plain": [
       "                                                 report  count_tokens  \\\n",
       "AXLX  txt hdr sgml accession number conformed submis...         60540   \n",
       "LECO  google gbar guser font size padding top import...           259   \n",
       "\n",
       "      percentage_complex_word  positive_score  negative_score  \\\n",
       "AXLX                 0.184374              55             277   \n",
       "LECO                 0.158301               0               0   \n",
       "\n",
       "      uncertainty_score  constraining_score  relative_positive  \\\n",
       "AXLX                229                  40              0.009   \n",
       "LECO                  0                   0              0.000   \n",
       "\n",
       "      relative_negative  relative_uncertainty  relative_constraining  \\\n",
       "AXLX              0.046                 0.038                  0.007   \n",
       "LECO              0.000                 0.000                  0.000   \n",
       "\n",
       "      fog_index  risk_loss  relative_risk  prop_of_average  invest  \n",
       "AXLX  24216.074        102           0.17             1.99       0  \n",
       "LECO    103.663          0           0.00             0.01       1  "
      ]
     },
     "execution_count": 28,
     "metadata": {},
     "output_type": "execute_result"
    }
   ],
   "source": [
    "data"
   ]
  },
  {
   "cell_type": "code",
   "execution_count": 29,
   "metadata": {},
   "outputs": [
    {
     "name": "stderr",
     "output_type": "stream",
     "text": [
      "/Users/pedrohserrano/anaconda3/envs/py37/lib/python3.7/site-packages/pandas/core/indexing.py:1494: FutureWarning: \n",
      "Passing list-likes to .loc or [] with any missing label will raise\n",
      "KeyError in the future, you can use .reindex() as an alternative.\n",
      "\n",
      "See the documentation here:\n",
      "https://pandas.pydata.org/pandas-docs/stable/indexing.html#deprecate-loc-reindex-listlike\n",
      "  return self._getitem_tuple(key)\n",
      "/Users/pedrohserrano/anaconda3/envs/py37/lib/python3.7/site-packages/sklearn/utils/extmath.py:776: RuntimeWarning: invalid value encountered in true_divide\n",
      "  updated_mean = (last_sum + new_sum) / updated_sample_count\n",
      "/Users/pedrohserrano/anaconda3/envs/py37/lib/python3.7/site-packages/sklearn/utils/extmath.py:781: RuntimeWarning: Degrees of freedom <= 0 for slice.\n",
      "  new_unnormalized_variance = np.nanvar(X, axis=0) * new_sample_count\n"
     ]
    }
   ],
   "source": [
    "# Importing the dataset\n",
    "X = data.loc[:, ['count_tokens','average_sentence_length', 'percentage_complex_word','constraining_score',\n",
    "                    'relative_positive','relative_negative','relative_risk','fog_index']].values\n",
    "y = data.loc[:,'invest'].values\n",
    "\n",
    "# Splitting the dataset into the Training set and Test set\n",
    "from sklearn.model_selection import train_test_split\n",
    "X_train, X_test, y_train, y_test = train_test_split(X, y, test_size = 0.25, random_state = 467)\n",
    "\n",
    "from sklearn import preprocessing\n",
    "# label encode the target variable \n",
    "encoder = preprocessing.LabelEncoder()\n",
    "y_train = encoder.fit_transform(y_train)\n",
    "y_test = encoder.fit_transform(y_test)\n",
    "\n",
    "# Feature Scaling\n",
    "from sklearn.preprocessing import StandardScaler\n",
    "sc = StandardScaler()\n",
    "X_train = sc.fit_transform(X_train)\n",
    "X_test = sc.transform(X_test)"
   ]
  },
  {
   "cell_type": "code",
   "execution_count": 30,
   "metadata": {},
   "outputs": [
    {
     "data": {
      "text/plain": [
       "array([0])"
      ]
     },
     "execution_count": 30,
     "metadata": {},
     "output_type": "execute_result"
    }
   ],
   "source": [
    "y_train"
   ]
  },
  {
   "cell_type": "code",
   "execution_count": null,
   "metadata": {},
   "outputs": [],
   "source": [
    "from sklearn.naive_bayes import MultinomialNB\n",
    "clf = MultinomialNB()\n",
    "clf.fit(X_train,y_train)\n",
    "clf.score(X_test,y_test)\n",
    "y_pred = clf.predict(X_test)\n",
    "print(classification_report(y_test, y_pred))"
   ]
  }
 ],
 "metadata": {
  "kernelspec": {
   "display_name": "Python 3",
   "language": "python",
   "name": "python3"
  },
  "language_info": {
   "codemirror_mode": {
    "name": "ipython",
    "version": 3
   },
   "file_extension": ".py",
   "mimetype": "text/x-python",
   "name": "python",
   "nbconvert_exporter": "python",
   "pygments_lexer": "ipython3",
   "version": "3.7.3"
  }
 },
 "nbformat": 4,
 "nbformat_minor": 2
}
