{
 "cells": [
  {
   "cell_type": "markdown",
   "metadata": {},
   "source": [
    "# Assigment 2"
   ]
  },
  {
   "cell_type": "markdown",
   "metadata": {},
   "source": [
    "## Data Augmentation: Edgar filings\n",
    "---"
   ]
  },
  {
   "cell_type": "markdown",
   "metadata": {},
   "source": [
    "The purpose of this assignment is to extract valuable information from text and convert it into variables where the initial input is a list of companies in a dataset, the idea will be to reproduce into certain extent what is revised in the notebooks 2.1, 2.2 as well as taking in consideration the block 1 which objective will be to augment/create knowledge of each company/entry.\n",
    "\n",
    "The following assignment is divided into 3 parts: Text features creations, Dataset augmentation and Preliminary analysis where is each part will be asked to create functions or routines for data processing.  \n",
    "\n",
    "The expected output of this notebook is a rich, structured data in table format as well as exporatory analysis:\n",
    "\n",
    "1. **Core Dataset** - Table formated data ready for analytics\n",
    "2. **Analysis** - Be creative!! here you have the freedom to perform any data analysis of your preference"
   ]
  },
  {
   "cell_type": "markdown",
   "metadata": {},
   "source": [
    "EDGAR filings text analysis resources: [Github repo](https://github.com/rohitharitash/EDGAR-reports-Text-Analysis), [OpenEDGAR paper](https://arxiv.org/pdf/1806.04973.pdf) and [Code](https://github.com/LexPredict/openedgar)"
   ]
  },
  {
   "cell_type": "markdown",
   "metadata": {},
   "source": [
    "---\n",
    "## Part 1: Text features creation"
   ]
  },
  {
   "cell_type": "markdown",
   "metadata": {},
   "source": [
    "1. Create a function or procedure that perform the NLP tasks revised in Section 2.2.1. (Stopwords adding, Stemming, Tokenization, etc.) feel free to add additional steps found in different resources"
   ]
  },
  {
   "cell_type": "code",
   "execution_count": 1,
   "metadata": {},
   "outputs": [],
   "source": [
    "import pandas as pd\n",
    "import pickle"
   ]
  },
  {
   "cell_type": "code",
   "execution_count": 2,
   "metadata": {},
   "outputs": [
    {
     "data": {
      "text/html": [
       "<div>\n",
       "<style scoped>\n",
       "    .dataframe tbody tr th:only-of-type {\n",
       "        vertical-align: middle;\n",
       "    }\n",
       "\n",
       "    .dataframe tbody tr th {\n",
       "        vertical-align: top;\n",
       "    }\n",
       "\n",
       "    .dataframe thead th {\n",
       "        text-align: right;\n",
       "    }\n",
       "</style>\n",
       "<table border=\"1\" class=\"dataframe\">\n",
       "  <thead>\n",
       "    <tr style=\"text-align: right;\">\n",
       "      <th></th>\n",
       "      <th>cik</th>\n",
       "      <th>exchange</th>\n",
       "      <th>irs</th>\n",
       "      <th>name</th>\n",
       "      <th>sic</th>\n",
       "      <th>ticker</th>\n",
       "      <th>file</th>\n",
       "    </tr>\n",
       "  </thead>\n",
       "  <tbody>\n",
       "    <tr>\n",
       "      <th>196</th>\n",
       "      <td>1470177</td>\n",
       "      <td>OTC</td>\n",
       "      <td>611585332</td>\n",
       "      <td>Axiologix Education Corp</td>\n",
       "      <td>7372</td>\n",
       "      <td>AXLX</td>\n",
       "      <td>https://www.sec.gov/Archives/edgar/data/147017...</td>\n",
       "    </tr>\n",
       "    <tr>\n",
       "      <th>1090</th>\n",
       "      <td>59527</td>\n",
       "      <td>NASDAQ</td>\n",
       "      <td>340359955</td>\n",
       "      <td>Lincoln Electric Holdings Inc</td>\n",
       "      <td>3540</td>\n",
       "      <td>LECO</td>\n",
       "      <td>https://www.sec.gov/Archives/edgar/data/59527/...</td>\n",
       "    </tr>\n",
       "  </tbody>\n",
       "</table>\n",
       "</div>"
      ],
      "text/plain": [
       "          cik exchange        irs                           name   sic ticker  \\\n",
       "196   1470177      OTC  611585332       Axiologix Education Corp  7372   AXLX   \n",
       "1090    59527   NASDAQ  340359955  Lincoln Electric Holdings Inc  3540   LECO   \n",
       "\n",
       "                                                   file  \n",
       "196   https://www.sec.gov/Archives/edgar/data/147017...  \n",
       "1090  https://www.sec.gov/Archives/edgar/data/59527/...  "
      ]
     },
     "execution_count": 2,
     "metadata": {},
     "output_type": "execute_result"
    }
   ],
   "source": [
    "df = pd.read_csv('datasets/table_companies_short.csv',sep=',', index_col=0)\n",
    "tickers = list(df['ticker'])\n",
    "df.head()"
   ]
  },
  {
   "cell_type": "code",
   "execution_count": 3,
   "metadata": {
    "collapsed": true
   },
   "outputs": [],
   "source": [
    "# Load pickled files\n",
    "import lxml.html.clean \n",
    "data = {}\n",
    "for i, t in enumerate(tickers):\n",
    "    with open(\"reports/\" + t + \".txt\", \"rb\") as file:\n",
    "        data[t] = lxml.html.clean.clean_html(pickle.load(file))"
   ]
  },
  {
   "cell_type": "code",
   "execution_count": 4,
   "metadata": {},
   "outputs": [],
   "source": [
    "# Define stopwrods\n",
    "from nltk.corpus import stopwords\n",
    "\n",
    "english_stop_words = stopwords.words('english')\n",
    "stopwordsfile = \"dictionaries/financial_stopwrods.txt\"\n",
    "file = open(stopwordsfile, \"r\")\n",
    "financial_stop_words = file.read().split('\\n')\n",
    "stopwords = []\n",
    "stopwords.extend(english_stop_words)\n",
    "stopwords.extend(financial_stop_words)\n",
    "stopwords = list(set(stopwords))"
   ]
  },
  {
   "cell_type": "code",
   "execution_count": 5,
   "metadata": {},
   "outputs": [
    {
     "name": "stdout",
     "output_type": "stream",
     "text": [
      "<div>0001654954-19-003723.txt : 20190401\n",
      "0001654954-19-003723.hdr.sgml : 20190401\n",
      "20190329181508\n",
      "ACCESSION NUMBER:\t\t0001654954-19-003723\n",
      "CONFORMED SUBMISSION TYPE:\t10-K\n",
      "PUBLIC DOCUMENT COUNT:\t\t45\n",
      "CONFORMED PERIOD OF REPORT:\t20181231\n",
      "FILED AS OF DATE:\t\t20190401\n",
      "DATE AS OF CHANGE:\t\t20190329\n",
      "\n",
      "FILER:\n",
      "\n",
      "\tCOMPANY DATA:\t\n",
      "\t\tCOMPANY CONFORMED NAME:\t\t\tAdvantego Corp\n",
      "\t\tCENTRAL INDEX KEY:\t\t\t0000869531\n",
      "\t\tSTANDARD INDUSTRIAL CLASSIFICATION:\tSERVICES-COMPUTER PROCESSING &amp; DATA PREPARATION [7374]\n",
      "\t\tIRS NUMBER:\t\t\t\t841116515\n",
      "\t\tSTATE OF INCORPORATION:\t\t\tCO\n",
      "\t\tFISCAL YEAR END:\t\t\t1231\n",
      "\n",
      "\tFILING VALUES:\n",
      "\t\tFORM TYP\n"
     ]
    }
   ],
   "source": [
    "print(data['AXLX'][0:600])"
   ]
  },
  {
   "cell_type": "code",
   "execution_count": 6,
   "metadata": {},
   "outputs": [],
   "source": [
    "from utils import *\n",
    "for r in data.keys():\n",
    "    report = data[r]\n",
    "    report = clean_text(report)\n",
    "    report = removeStopWords(report, stopwords)\n",
    "    data[r] = [report] #pandas format"
   ]
  },
  {
   "cell_type": "code",
   "execution_count": 8,
   "metadata": {},
   "outputs": [
    {
     "name": "stdout",
     "output_type": "stream",
     "text": [
      "       txt          hdr sgml     accession number      conformed submission type   kpublic document count  conformed period  filed date  date change  filer data conformed name advantego corpcentral index key  standard industrial classification services computer processing  amp  data preparation  irs number  state incorporation cofiscal end  filing values form type   ksec act   actsec file number    film number  address street     east florida ave street   suite  city denverstate cozip  phone        mail address street     east florida ave street   suite  city denverstate cozip  former former c\n"
     ]
    }
   ],
   "source": [
    "print(data['AXLX'][0][0:600])"
   ]
  },
  {
   "cell_type": "markdown",
   "metadata": {},
   "source": [
    "All the NLP tasks are in sentiment_scores.py"
   ]
  },
  {
   "cell_type": "markdown",
   "metadata": {},
   "source": [
    "3. Use the function `read_dictionary` revised on 2.2.1 to read the dictionaries:\n",
    "    - positive_words.txt\n",
    "    - negative_words.txt\n",
    "    - uncertainty_dictionary.txt\n",
    "    - constraining_dictionary.txt\n",
    "    \n",
    "Importing the file `sentiment_scores.py` calculate the respective scores. Do not forget that this module uses `nltk`"
   ]
  },
  {
   "cell_type": "code",
   "execution_count": 9,
   "metadata": {},
   "outputs": [],
   "source": [
    "from sentiment_scores import *\n",
    "\n",
    "positive_words = read_dictionary('dictionaries/positive_words.txt')\n",
    "negative_words = read_dictionary('dictionaries/negative_words.txt')\n",
    "uncertainty_dict = read_dictionary('dictionaries/uncertainty_dictionary.txt')\n",
    "constraining_dict = read_dictionary('dictionaries/constraining_dictionary.txt')"
   ]
  },
  {
   "cell_type": "markdown",
   "metadata": {},
   "source": [
    "4. Create a formula or method that calculate the relative scores:  $\\frac{absoluteScore}{wordsReport}$"
   ]
  },
  {
   "cell_type": "code",
   "execution_count": 10,
   "metadata": {},
   "outputs": [],
   "source": [
    "# Relative score function\n",
    "def relative_score(score, wordcount):\n",
    "    return round(score / wordcount,4) if wordcount != 0 else 0"
   ]
  },
  {
   "cell_type": "markdown",
   "metadata": {},
   "source": [
    "5. Test all the functions created on one text/report, example:"
   ]
  },
  {
   "cell_type": "markdown",
   "metadata": {},
   "source": [
    "```python\n",
    "positive_score = generate_score(report, positive_words)\n",
    "negative_score = generate_score(report, negative_words)\n",
    "count_tokens = total_word_count(report)\n",
    "polarity = polarity_score(positive_score, negative_score)\n",
    "uncertainty_score = generate_score(report, uncertainty_dict)\n",
    "constraining_score = generate_score(report, constraining_dict)\n",
    "avg_sentence_length = average_sentence_length(report)\n",
    "perc_complex_word = percentage_complex_word(report)\n",
    "fog_index = calculate_fog_index(avg_sentence_length, perc_complex_word)\n",
    "positive_relative = relative_score(positive_score, count_tokens)\n",
    "negative_relative = relative_score(negative_score, count_tokens)\n",
    "uncertainty_relative = relative_score(uncertainty_score, count_tokens)\n",
    "constraining_relative = relative_score(constraining_score, count_tokens)\n",
    "```"
   ]
  },
  {
   "cell_type": "markdown",
   "metadata": {},
   "source": [
    "---\n",
    "## Part 2: Dataset augmentation\n"
   ]
  },
  {
   "cell_type": "markdown",
   "metadata": {},
   "source": [
    "6. Apply that function to each report in `EDGAR_corpus.pkl` and update the text for each company   \n",
    "**IMPORTANT: for at least 5 companies since the process might take time to compute** "
   ]
  },
  {
   "cell_type": "code",
   "execution_count": 11,
   "metadata": {},
   "outputs": [
    {
     "name": "stdout",
     "output_type": "stream",
     "text": [
      "       txt          hdr sgml     accession number      conformed submission type   kpublic document count  conformed period  filed date  date change  filer data conformed name advantego corpcentral index key  standard industrial classification services computer processing  amp  data preparation  irs number  state incorporation cofiscal end  filing values form type   ksec act   actsec file number    film number  address street     east florida ave street   suite  city denverstate cozip  phone        mail address street     east florida ave street   suite  city denverstate cozip  former former c\n"
     ]
    }
   ],
   "source": [
    "print(data['AXLX'][0][0:600])"
   ]
  },
  {
   "cell_type": "code",
   "execution_count": 14,
   "metadata": {},
   "outputs": [],
   "source": [
    "data = pd.DataFrame\\\n",
    "    .from_dict(data)\\\n",
    "    .transpose()\\\n",
    "    .sort_index()\\\n",
    "    .rename(columns = {0:'report'})"
   ]
  },
  {
   "cell_type": "code",
   "execution_count": 16,
   "metadata": {},
   "outputs": [
    {
     "name": "stdout",
     "output_type": "stream",
     "text": [
      "--- 12.621342897415161 seconds ---\n"
     ]
    }
   ],
   "source": [
    "import time\n",
    "start_time = time.time()\n",
    "#---  seconds ---\n",
    "\n",
    "data['count_tokens'] = data.report.apply(total_word_count)\n",
    "data['percentage_complex_word'] = data.report.apply(percentage_complex_word)\n",
    "data['positive_score'] = data.report.apply(lambda x: generate_score(x, positive_words))\n",
    "data['negative_score'] = data.report.apply(lambda x: generate_score(x, negative_words))\n",
    "data['uncertainty_score'] = data.report.apply(lambda x: generate_score(x, uncertainty_dict))\n",
    "data['constraining_score'] = data.report.apply(lambda x: generate_score(x, constraining_dict))\n",
    "data['relative_positive'] = [relative_score(x, y)*10 for x, y in zip(data['positive_score'], data['count_tokens'])]\n",
    "data['relative_negative'] = [relative_score(x, y)*10 for x, y in zip(data['negative_score'], data['count_tokens'])]\n",
    "data['relative_uncertainty'] = [relative_score(x, y)*10 for x, y in zip(data['uncertainty_score'], data['count_tokens'])]\n",
    "data['relative_constraining'] = [relative_score(x, y)*10 for x, y in zip(data['constraining_score'], data['count_tokens'])]\n",
    "data['fog_index'] = [calculate_fog_index(x, y) for x, y in zip(data['average_sentence_length'], data['percentage_complex_word'])]\n",
    "\n",
    "print(\"--- %s seconds ---\" % (time.time() - start_time))"
   ]
  },
  {
   "cell_type": "code",
   "execution_count": 17,
   "metadata": {},
   "outputs": [
    {
     "data": {
      "text/html": [
       "<div>\n",
       "<style scoped>\n",
       "    .dataframe tbody tr th:only-of-type {\n",
       "        vertical-align: middle;\n",
       "    }\n",
       "\n",
       "    .dataframe tbody tr th {\n",
       "        vertical-align: top;\n",
       "    }\n",
       "\n",
       "    .dataframe thead th {\n",
       "        text-align: right;\n",
       "    }\n",
       "</style>\n",
       "<table border=\"1\" class=\"dataframe\">\n",
       "  <thead>\n",
       "    <tr style=\"text-align: right;\">\n",
       "      <th></th>\n",
       "      <th>report</th>\n",
       "      <th>count_tokens</th>\n",
       "      <th>average_sentence_length</th>\n",
       "      <th>percentage_complex_word</th>\n",
       "      <th>positive_score</th>\n",
       "      <th>negative_score</th>\n",
       "      <th>uncertainty_score</th>\n",
       "      <th>constraining_score</th>\n",
       "      <th>relative_positive</th>\n",
       "      <th>relative_negative</th>\n",
       "      <th>relative_uncertainty</th>\n",
       "      <th>relative_constraining</th>\n",
       "      <th>fog_index</th>\n",
       "    </tr>\n",
       "  </thead>\n",
       "  <tbody>\n",
       "    <tr>\n",
       "      <th>AXLX</th>\n",
       "      <td>txt          hdr sgml     accession num...</td>\n",
       "      <td>94843</td>\n",
       "      <td>94843</td>\n",
       "      <td>0.117795</td>\n",
       "      <td>55</td>\n",
       "      <td>277</td>\n",
       "      <td>229</td>\n",
       "      <td>40</td>\n",
       "      <td>0.006</td>\n",
       "      <td>0.029</td>\n",
       "      <td>0.024</td>\n",
       "      <td>0.004</td>\n",
       "      <td>37937.247</td>\n",
       "    </tr>\n",
       "    <tr>\n",
       "      <th>LECO</th>\n",
       "      <td>google  gbar  guser font size   padding top  ...</td>\n",
       "      <td>276</td>\n",
       "      <td>276</td>\n",
       "      <td>0.148551</td>\n",
       "      <td>0</td>\n",
       "      <td>0</td>\n",
       "      <td>0</td>\n",
       "      <td>0</td>\n",
       "      <td>0.000</td>\n",
       "      <td>0.000</td>\n",
       "      <td>0.000</td>\n",
       "      <td>0.000</td>\n",
       "      <td>110.459</td>\n",
       "    </tr>\n",
       "  </tbody>\n",
       "</table>\n",
       "</div>"
      ],
      "text/plain": [
       "                                                 report  count_tokens  \\\n",
       "AXLX         txt          hdr sgml     accession num...         94843   \n",
       "LECO   google  gbar  guser font size   padding top  ...           276   \n",
       "\n",
       "      average_sentence_length  percentage_complex_word  positive_score  \\\n",
       "AXLX                    94843                 0.117795              55   \n",
       "LECO                      276                 0.148551               0   \n",
       "\n",
       "      negative_score  uncertainty_score  constraining_score  \\\n",
       "AXLX             277                229                  40   \n",
       "LECO               0                  0                   0   \n",
       "\n",
       "      relative_positive  relative_negative  relative_uncertainty  \\\n",
       "AXLX              0.006              0.029                 0.024   \n",
       "LECO              0.000              0.000                 0.000   \n",
       "\n",
       "      relative_constraining  fog_index  \n",
       "AXLX                  0.004  37937.247  \n",
       "LECO                  0.000    110.459  "
      ]
     },
     "execution_count": 17,
     "metadata": {},
     "output_type": "execute_result"
    }
   ],
   "source": [
    "data.head()"
   ]
  },
  {
   "cell_type": "code",
   "execution_count": 23,
   "metadata": {},
   "outputs": [],
   "source": [
    "companies = list(data.index)"
   ]
  },
  {
   "cell_type": "markdown",
   "metadata": {},
   "source": [
    "7. Re-use the procedure created in Section 1.4.3 and add the risk-loss features to our core dataset"
   ]
  },
  {
   "cell_type": "code",
   "execution_count": 18,
   "metadata": {},
   "outputs": [
    {
     "data": {
      "text/html": [
       "<div>\n",
       "<style scoped>\n",
       "    .dataframe tbody tr th:only-of-type {\n",
       "        vertical-align: middle;\n",
       "    }\n",
       "\n",
       "    .dataframe tbody tr th {\n",
       "        vertical-align: top;\n",
       "    }\n",
       "\n",
       "    .dataframe thead th {\n",
       "        text-align: right;\n",
       "    }\n",
       "</style>\n",
       "<table border=\"1\" class=\"dataframe\">\n",
       "  <thead>\n",
       "    <tr style=\"text-align: right;\">\n",
       "      <th></th>\n",
       "      <th>aa</th>\n",
       "      <th>aaa</th>\n",
       "      <th>aaaa</th>\n",
       "      <th>aaaawyi</th>\n",
       "      <th>aaab</th>\n",
       "      <th>aaabc</th>\n",
       "      <th>aaabf</th>\n",
       "      <th>aaabq</th>\n",
       "      <th>aaabs</th>\n",
       "      <th>aaac</th>\n",
       "      <th>...</th>\n",
       "      <th>zzzutreoh</th>\n",
       "      <th>zzzw</th>\n",
       "      <th>zzzwbme</th>\n",
       "      <th>zzzwql</th>\n",
       "      <th>zzzx</th>\n",
       "      <th>zzzxpe</th>\n",
       "      <th>zzzxzl</th>\n",
       "      <th>zzzyv</th>\n",
       "      <th>zzzz</th>\n",
       "      <th>zzzzx</th>\n",
       "    </tr>\n",
       "  </thead>\n",
       "  <tbody>\n",
       "    <tr>\n",
       "      <th>AAIIQ</th>\n",
       "      <td>0</td>\n",
       "      <td>0</td>\n",
       "      <td>0</td>\n",
       "      <td>0</td>\n",
       "      <td>0</td>\n",
       "      <td>0</td>\n",
       "      <td>0</td>\n",
       "      <td>0</td>\n",
       "      <td>0</td>\n",
       "      <td>0</td>\n",
       "      <td>...</td>\n",
       "      <td>0</td>\n",
       "      <td>0</td>\n",
       "      <td>0</td>\n",
       "      <td>0</td>\n",
       "      <td>0</td>\n",
       "      <td>0</td>\n",
       "      <td>0</td>\n",
       "      <td>0</td>\n",
       "      <td>0</td>\n",
       "      <td>0</td>\n",
       "    </tr>\n",
       "    <tr>\n",
       "      <th>ADK</th>\n",
       "      <td>49</td>\n",
       "      <td>0</td>\n",
       "      <td>0</td>\n",
       "      <td>0</td>\n",
       "      <td>0</td>\n",
       "      <td>0</td>\n",
       "      <td>0</td>\n",
       "      <td>0</td>\n",
       "      <td>0</td>\n",
       "      <td>0</td>\n",
       "      <td>...</td>\n",
       "      <td>0</td>\n",
       "      <td>0</td>\n",
       "      <td>0</td>\n",
       "      <td>0</td>\n",
       "      <td>0</td>\n",
       "      <td>0</td>\n",
       "      <td>0</td>\n",
       "      <td>0</td>\n",
       "      <td>0</td>\n",
       "      <td>0</td>\n",
       "    </tr>\n",
       "    <tr>\n",
       "      <th>AMRC</th>\n",
       "      <td>22</td>\n",
       "      <td>0</td>\n",
       "      <td>0</td>\n",
       "      <td>0</td>\n",
       "      <td>0</td>\n",
       "      <td>0</td>\n",
       "      <td>0</td>\n",
       "      <td>0</td>\n",
       "      <td>0</td>\n",
       "      <td>0</td>\n",
       "      <td>...</td>\n",
       "      <td>0</td>\n",
       "      <td>0</td>\n",
       "      <td>0</td>\n",
       "      <td>0</td>\n",
       "      <td>0</td>\n",
       "      <td>0</td>\n",
       "      <td>0</td>\n",
       "      <td>0</td>\n",
       "      <td>0</td>\n",
       "      <td>0</td>\n",
       "    </tr>\n",
       "    <tr>\n",
       "      <th>ARX</th>\n",
       "      <td>44</td>\n",
       "      <td>2</td>\n",
       "      <td>0</td>\n",
       "      <td>0</td>\n",
       "      <td>0</td>\n",
       "      <td>0</td>\n",
       "      <td>1</td>\n",
       "      <td>0</td>\n",
       "      <td>0</td>\n",
       "      <td>0</td>\n",
       "      <td>...</td>\n",
       "      <td>0</td>\n",
       "      <td>0</td>\n",
       "      <td>0</td>\n",
       "      <td>0</td>\n",
       "      <td>0</td>\n",
       "      <td>0</td>\n",
       "      <td>0</td>\n",
       "      <td>0</td>\n",
       "      <td>0</td>\n",
       "      <td>0</td>\n",
       "    </tr>\n",
       "    <tr>\n",
       "      <th>AWIN</th>\n",
       "      <td>0</td>\n",
       "      <td>0</td>\n",
       "      <td>0</td>\n",
       "      <td>0</td>\n",
       "      <td>0</td>\n",
       "      <td>0</td>\n",
       "      <td>0</td>\n",
       "      <td>0</td>\n",
       "      <td>0</td>\n",
       "      <td>0</td>\n",
       "      <td>...</td>\n",
       "      <td>0</td>\n",
       "      <td>0</td>\n",
       "      <td>0</td>\n",
       "      <td>0</td>\n",
       "      <td>0</td>\n",
       "      <td>0</td>\n",
       "      <td>0</td>\n",
       "      <td>0</td>\n",
       "      <td>0</td>\n",
       "      <td>0</td>\n",
       "    </tr>\n",
       "  </tbody>\n",
       "</table>\n",
       "<p>5 rows × 623277 columns</p>\n",
       "</div>"
      ],
      "text/plain": [
       "       aa  aaa  aaaa  aaaawyi  aaab  aaabc  aaabf  aaabq  aaabs  aaac  ...  \\\n",
       "AAIIQ   0    0     0        0     0      0      0      0      0     0  ...   \n",
       "ADK    49    0     0        0     0      0      0      0      0     0  ...   \n",
       "AMRC   22    0     0        0     0      0      0      0      0     0  ...   \n",
       "ARX    44    2     0        0     0      0      1      0      0     0  ...   \n",
       "AWIN    0    0     0        0     0      0      0      0      0     0  ...   \n",
       "\n",
       "       zzzutreoh  zzzw  zzzwbme  zzzwql  zzzx  zzzxpe  zzzxzl  zzzyv  zzzz  \\\n",
       "AAIIQ          0     0        0       0     0       0       0      0     0   \n",
       "ADK            0     0        0       0     0       0       0      0     0   \n",
       "AMRC           0     0        0       0     0       0       0      0     0   \n",
       "ARX            0     0        0       0     0       0       0      0     0   \n",
       "AWIN           0     0        0       0     0       0       0      0     0   \n",
       "\n",
       "       zzzzx  \n",
       "AAIIQ      0  \n",
       "ADK        0  \n",
       "AMRC       0  \n",
       "ARX        0  \n",
       "AWIN       0  \n",
       "\n",
       "[5 rows x 623277 columns]"
      ]
     },
     "execution_count": 18,
     "metadata": {},
     "output_type": "execute_result"
    }
   ],
   "source": [
    "data_matrix = pd.read_pickle('pickle/EDGAR_matrix.pkl')\n",
    "data_matrix.head()"
   ]
  },
  {
   "cell_type": "code",
   "execution_count": 19,
   "metadata": {},
   "outputs": [],
   "source": [
    "# Let's isolate just these risk words\n",
    "data_risk_words = data_matrix[['risk', 'loss']]"
   ]
  },
  {
   "cell_type": "markdown",
   "metadata": {},
   "source": [
    "8. Create a relative **risk** score as follows: $\\frac{wordsRisk+wordsLoss}{wordsReport}$ add the score to the core table"
   ]
  },
  {
   "cell_type": "code",
   "execution_count": null,
   "metadata": {},
   "outputs": [],
   "source": [
    "data_risk_words['risk_loss'] = data_risk_words['risk'] + data_risk_words['loss']"
   ]
  },
  {
   "cell_type": "code",
   "execution_count": 21,
   "metadata": {},
   "outputs": [
    {
     "data": {
      "text/plain": [
       "False"
      ]
     },
     "execution_count": 21,
     "metadata": {},
     "output_type": "execute_result"
    }
   ],
   "source": [
    "len(data_risk_words.index) ==  len(data.index)"
   ]
  },
  {
   "cell_type": "code",
   "execution_count": 82,
   "metadata": {},
   "outputs": [],
   "source": [
    "data = pd.merge(data, data_risk_words['risk_loss'], how='inner', right_index=True, left_index=True)"
   ]
  },
  {
   "cell_type": "code",
   "execution_count": 86,
   "metadata": {},
   "outputs": [],
   "source": [
    "data['relative_risk'] = [relative_score(x, y)*100 for x, y in zip(data['risk_loss'], data['count_tokens'])]"
   ]
  },
  {
   "cell_type": "markdown",
   "metadata": {},
   "source": [
    "9. Save the final table, the columns should look more or less like this:\n",
    "```python\n",
    "['company_name', 'count_tokens', 'average_sentence_length',\n",
    "       'percentage_complex_word', 'positive_score', 'negative_score',\n",
    "       'uncertainty_score', 'constraining_score', 'relative_positive',\n",
    "       'relative_negative', 'relative_uncertainty', 'fog_index',\n",
    "       'relative_constraining', 'risk_loss', 'relative_risk']\n",
    "```"
   ]
  },
  {
   "cell_type": "code",
   "execution_count": 90,
   "metadata": {},
   "outputs": [
    {
     "data": {
      "text/plain": [
       "Index(['report', 'company_name', 'count_tokens', 'average_sentence_length',\n",
       "       'percentage_complex_word', 'positive_score', 'negative_score',\n",
       "       'uncertainty_score', 'constraining_score', 'relative_positive',\n",
       "       'relative_negative', 'relative_uncertainty', 'fog_index',\n",
       "       'relative_constraining', 'risk_loss', 'relative_risk'],\n",
       "      dtype='object')"
      ]
     },
     "execution_count": 90,
     "metadata": {},
     "output_type": "execute_result"
    }
   ],
   "source": [
    "data.columns"
   ]
  },
  {
   "cell_type": "code",
   "execution_count": 89,
   "metadata": {},
   "outputs": [],
   "source": [
    "data.drop(columns=['report']).to_csv('data.csv')"
   ]
  },
  {
   "cell_type": "code",
   "execution_count": 91,
   "metadata": {},
   "outputs": [
    {
     "data": {
      "text/html": [
       "<div>\n",
       "<style scoped>\n",
       "    .dataframe tbody tr th:only-of-type {\n",
       "        vertical-align: middle;\n",
       "    }\n",
       "\n",
       "    .dataframe tbody tr th {\n",
       "        vertical-align: top;\n",
       "    }\n",
       "\n",
       "    .dataframe thead th {\n",
       "        text-align: right;\n",
       "    }\n",
       "</style>\n",
       "<table border=\"1\" class=\"dataframe\">\n",
       "  <thead>\n",
       "    <tr style=\"text-align: right;\">\n",
       "      <th></th>\n",
       "      <th>count_tokens</th>\n",
       "      <th>average_sentence_length</th>\n",
       "      <th>percentage_complex_word</th>\n",
       "      <th>positive_score</th>\n",
       "      <th>negative_score</th>\n",
       "      <th>uncertainty_score</th>\n",
       "      <th>constraining_score</th>\n",
       "      <th>relative_positive</th>\n",
       "      <th>relative_negative</th>\n",
       "      <th>relative_uncertainty</th>\n",
       "      <th>fog_index</th>\n",
       "      <th>relative_constraining</th>\n",
       "      <th>risk_loss</th>\n",
       "      <th>relative_risk</th>\n",
       "    </tr>\n",
       "  </thead>\n",
       "  <tbody>\n",
       "    <tr>\n",
       "      <th>count</th>\n",
       "      <td>8.000000e+01</td>\n",
       "      <td>8.000000e+01</td>\n",
       "      <td>80.000000</td>\n",
       "      <td>80.000000</td>\n",
       "      <td>80.000000</td>\n",
       "      <td>80.000000</td>\n",
       "      <td>80.00000</td>\n",
       "      <td>80.000000</td>\n",
       "      <td>80.000000</td>\n",
       "      <td>80.000000</td>\n",
       "      <td>8.000000e+01</td>\n",
       "      <td>80.000000</td>\n",
       "      <td>80.000000</td>\n",
       "      <td>80.000000</td>\n",
       "    </tr>\n",
       "    <tr>\n",
       "      <th>mean</th>\n",
       "      <td>1.293325e+06</td>\n",
       "      <td>1.293325e+06</td>\n",
       "      <td>0.099494</td>\n",
       "      <td>5810.762500</td>\n",
       "      <td>2969.212500</td>\n",
       "      <td>6099.925000</td>\n",
       "      <td>831.06250</td>\n",
       "      <td>0.046225</td>\n",
       "      <td>0.035450</td>\n",
       "      <td>0.035863</td>\n",
       "      <td>5.173302e+05</td>\n",
       "      <td>0.010675</td>\n",
       "      <td>370.650000</td>\n",
       "      <td>0.039000</td>\n",
       "    </tr>\n",
       "    <tr>\n",
       "      <th>std</th>\n",
       "      <td>1.457535e+06</td>\n",
       "      <td>1.457535e+06</td>\n",
       "      <td>0.038554</td>\n",
       "      <td>5548.068687</td>\n",
       "      <td>4550.427324</td>\n",
       "      <td>12273.515243</td>\n",
       "      <td>803.39289</td>\n",
       "      <td>0.028009</td>\n",
       "      <td>0.030588</td>\n",
       "      <td>0.035875</td>\n",
       "      <td>5.830139e+05</td>\n",
       "      <td>0.010237</td>\n",
       "      <td>377.607495</td>\n",
       "      <td>0.037131</td>\n",
       "    </tr>\n",
       "    <tr>\n",
       "      <th>min</th>\n",
       "      <td>1.542000e+03</td>\n",
       "      <td>1.542000e+03</td>\n",
       "      <td>0.008385</td>\n",
       "      <td>0.000000</td>\n",
       "      <td>8.000000</td>\n",
       "      <td>2.000000</td>\n",
       "      <td>0.00000</td>\n",
       "      <td>0.000000</td>\n",
       "      <td>0.002000</td>\n",
       "      <td>0.001000</td>\n",
       "      <td>6.168790e+02</td>\n",
       "      <td>0.000000</td>\n",
       "      <td>0.000000</td>\n",
       "      <td>0.000000</td>\n",
       "    </tr>\n",
       "    <tr>\n",
       "      <th>25%</th>\n",
       "      <td>1.655762e+05</td>\n",
       "      <td>1.655762e+05</td>\n",
       "      <td>0.075790</td>\n",
       "      <td>313.000000</td>\n",
       "      <td>507.500000</td>\n",
       "      <td>414.250000</td>\n",
       "      <td>189.00000</td>\n",
       "      <td>0.024750</td>\n",
       "      <td>0.017000</td>\n",
       "      <td>0.011000</td>\n",
       "      <td>6.623053e+04</td>\n",
       "      <td>0.005000</td>\n",
       "      <td>96.750000</td>\n",
       "      <td>0.020000</td>\n",
       "    </tr>\n",
       "    <tr>\n",
       "      <th>50%</th>\n",
       "      <td>7.805190e+05</td>\n",
       "      <td>7.805190e+05</td>\n",
       "      <td>0.103172</td>\n",
       "      <td>4952.500000</td>\n",
       "      <td>1915.000000</td>\n",
       "      <td>1121.500000</td>\n",
       "      <td>581.00000</td>\n",
       "      <td>0.045500</td>\n",
       "      <td>0.025000</td>\n",
       "      <td>0.020000</td>\n",
       "      <td>3.122076e+05</td>\n",
       "      <td>0.007500</td>\n",
       "      <td>271.000000</td>\n",
       "      <td>0.035000</td>\n",
       "    </tr>\n",
       "    <tr>\n",
       "      <th>75%</th>\n",
       "      <td>2.118047e+06</td>\n",
       "      <td>2.118047e+06</td>\n",
       "      <td>0.113531</td>\n",
       "      <td>9618.500000</td>\n",
       "      <td>3826.250000</td>\n",
       "      <td>8044.750000</td>\n",
       "      <td>1299.00000</td>\n",
       "      <td>0.064750</td>\n",
       "      <td>0.041000</td>\n",
       "      <td>0.050250</td>\n",
       "      <td>8.472189e+05</td>\n",
       "      <td>0.011000</td>\n",
       "      <td>560.500000</td>\n",
       "      <td>0.050000</td>\n",
       "    </tr>\n",
       "    <tr>\n",
       "      <th>max</th>\n",
       "      <td>6.235294e+06</td>\n",
       "      <td>6.235294e+06</td>\n",
       "      <td>0.263065</td>\n",
       "      <td>19981.000000</td>\n",
       "      <td>37090.000000</td>\n",
       "      <td>70583.000000</td>\n",
       "      <td>3771.00000</td>\n",
       "      <td>0.110000</td>\n",
       "      <td>0.170000</td>\n",
       "      <td>0.155000</td>\n",
       "      <td>2.494118e+06</td>\n",
       "      <td>0.049000</td>\n",
       "      <td>1590.000000</td>\n",
       "      <td>0.230000</td>\n",
       "    </tr>\n",
       "  </tbody>\n",
       "</table>\n",
       "</div>"
      ],
      "text/plain": [
       "       count_tokens  average_sentence_length  percentage_complex_word  \\\n",
       "count  8.000000e+01             8.000000e+01                80.000000   \n",
       "mean   1.293325e+06             1.293325e+06                 0.099494   \n",
       "std    1.457535e+06             1.457535e+06                 0.038554   \n",
       "min    1.542000e+03             1.542000e+03                 0.008385   \n",
       "25%    1.655762e+05             1.655762e+05                 0.075790   \n",
       "50%    7.805190e+05             7.805190e+05                 0.103172   \n",
       "75%    2.118047e+06             2.118047e+06                 0.113531   \n",
       "max    6.235294e+06             6.235294e+06                 0.263065   \n",
       "\n",
       "       positive_score  negative_score  uncertainty_score  constraining_score  \\\n",
       "count       80.000000       80.000000          80.000000            80.00000   \n",
       "mean      5810.762500     2969.212500        6099.925000           831.06250   \n",
       "std       5548.068687     4550.427324       12273.515243           803.39289   \n",
       "min          0.000000        8.000000           2.000000             0.00000   \n",
       "25%        313.000000      507.500000         414.250000           189.00000   \n",
       "50%       4952.500000     1915.000000        1121.500000           581.00000   \n",
       "75%       9618.500000     3826.250000        8044.750000          1299.00000   \n",
       "max      19981.000000    37090.000000       70583.000000          3771.00000   \n",
       "\n",
       "       relative_positive  relative_negative  relative_uncertainty  \\\n",
       "count          80.000000          80.000000             80.000000   \n",
       "mean            0.046225           0.035450              0.035863   \n",
       "std             0.028009           0.030588              0.035875   \n",
       "min             0.000000           0.002000              0.001000   \n",
       "25%             0.024750           0.017000              0.011000   \n",
       "50%             0.045500           0.025000              0.020000   \n",
       "75%             0.064750           0.041000              0.050250   \n",
       "max             0.110000           0.170000              0.155000   \n",
       "\n",
       "          fog_index  relative_constraining    risk_loss  relative_risk  \n",
       "count  8.000000e+01              80.000000    80.000000      80.000000  \n",
       "mean   5.173302e+05               0.010675   370.650000       0.039000  \n",
       "std    5.830139e+05               0.010237   377.607495       0.037131  \n",
       "min    6.168790e+02               0.000000     0.000000       0.000000  \n",
       "25%    6.623053e+04               0.005000    96.750000       0.020000  \n",
       "50%    3.122076e+05               0.007500   271.000000       0.035000  \n",
       "75%    8.472189e+05               0.011000   560.500000       0.050000  \n",
       "max    2.494118e+06               0.049000  1590.000000       0.230000  "
      ]
     },
     "execution_count": 91,
     "metadata": {},
     "output_type": "execute_result"
    }
   ],
   "source": [
    "data.describe()"
   ]
  },
  {
   "cell_type": "markdown",
   "metadata": {},
   "source": [
    "---\n",
    "## Part 3: Preliminary analysis\n"
   ]
  },
  {
   "cell_type": "markdown",
   "metadata": {},
   "source": [
    "10. With the dataset clean and ready, conduct an exploratory data analysis, there are no rules neither recipies"
   ]
  },
  {
   "cell_type": "code",
   "execution_count": 11,
   "metadata": {},
   "outputs": [
    {
     "data": {
      "text/plain": [
       "['Pierre', 'Vinken', ',', '61', 'years', 'old', 'will', 'join', 'the', 'board']"
      ]
     },
     "execution_count": 11,
     "metadata": {},
     "output_type": "execute_result"
    }
   ],
   "source": [
    "plt.rcParams['figure.figsize'] = [16, 16]\n",
    "\n",
    "for i, company in enumerate(data_risk_words.index):\n",
    "    x = round(data_risk_words.relative_risk.loc[company],2)\n",
    "    y = round(data_risk_words.relative_loss.loc[company],2)\n",
    "    s = round(data_risk_words.distance_average.loc[company],2)\n",
    "    plt.scatter(x, y, color='#FF3844', alpha=.8, s=s*150)\n",
    "    plt.text(x+0.1, y+0.1, data_risk_words.index[i][0:-11], fontsize=8)\n",
    "    \n",
    "plt.title('Number of Risk-Loss Terms Used in Document per Thousand Words', fontsize=20)\n",
    "plt.xlabel('Risk mentions', fontsize=15)\n",
    "plt.ylabel('Loss mentions', fontsize=15)\n",
    "plt.savefig('risk_loss.png')\n",
    "plt.show()"
   ]
  },
  {
   "cell_type": "markdown",
   "metadata": {},
   "source": [
    "You can get some inspiration from [here](https://towardsdatascience.com/a-complete-exploratory-data-analysis-and-visualization-for-text-data-29fb1b96fb6a)"
   ]
  },
  {
   "cell_type": "code",
   "execution_count": 94,
   "metadata": {},
   "outputs": [
    {
     "data": {
      "image/png": "[encoded data removed]",
      "text/plain": [
       "<Figure size 1152x864 with 1 Axes>"
      ]
     },
     "metadata": {
      "needs_background": "light"
     },
     "output_type": "display_data"
    }
   ],
   "source": [
    "# Let's plot the results\n",
    "import matplotlib.pyplot as plt\n",
    "%matplotlib inline\n",
    "\n",
    "plt.rcParams['figure.figsize'] = [16, 12]\n",
    "\n",
    "for index, company in enumerate(data.index):\n",
    "    x = - data.relative_uncertainty.loc[company]\n",
    "    y = - data.relative_risk.loc[company]\n",
    "    plt.scatter(x, y, color='#008080', s=120, alpha=.8)\n",
    "    plt.text(x+.001, y+.001, data['company_name'][index], fontsize=8)\n",
    "    #plt.xlim(-.01, .12) \n",
    "    \n",
    "plt.title('Sentiment Analysis', fontsize=20)\n",
    "plt.xlabel('<-- More -- Uncertainty -- Less -->', fontsize=20)\n",
    "plt.ylabel('<-- More -- Risk -- Less -->', fontsize=20)\n",
    "\n",
    "plt.show()"
   ]
  },
  {
   "cell_type": "code",
   "execution_count": 96,
   "metadata": {},
   "outputs": [
    {
     "data": {
      "text/html": [
       "<div>\n",
       "<style scoped>\n",
       "    .dataframe tbody tr th:only-of-type {\n",
       "        vertical-align: middle;\n",
       "    }\n",
       "\n",
       "    .dataframe tbody tr th {\n",
       "        vertical-align: top;\n",
       "    }\n",
       "\n",
       "    .dataframe thead th {\n",
       "        text-align: right;\n",
       "    }\n",
       "</style>\n",
       "<table border=\"1\" class=\"dataframe\">\n",
       "  <thead>\n",
       "    <tr style=\"text-align: right;\">\n",
       "      <th></th>\n",
       "      <th>report</th>\n",
       "      <th>company_name</th>\n",
       "      <th>count_tokens</th>\n",
       "      <th>average_sentence_length</th>\n",
       "      <th>percentage_complex_word</th>\n",
       "      <th>positive_score</th>\n",
       "      <th>negative_score</th>\n",
       "      <th>uncertainty_score</th>\n",
       "      <th>constraining_score</th>\n",
       "      <th>relative_positive</th>\n",
       "      <th>relative_negative</th>\n",
       "      <th>relative_uncertainty</th>\n",
       "      <th>fog_index</th>\n",
       "      <th>relative_constraining</th>\n",
       "      <th>risk_loss</th>\n",
       "      <th>relative_risk</th>\n",
       "    </tr>\n",
       "  </thead>\n",
       "  <tbody>\n",
       "    <tr>\n",
       "      <th>AAIIQ</th>\n",
       "      <td>begin privacy enhanced message      proc ...</td>\n",
       "      <td>Nortem NV</td>\n",
       "      <td>218399</td>\n",
       "      <td>218399</td>\n",
       "      <td>0.116548</td>\n",
       "      <td>458</td>\n",
       "      <td>2278</td>\n",
       "      <td>1077</td>\n",
       "      <td>658</td>\n",
       "      <td>0.021</td>\n",
       "      <td>0.104</td>\n",
       "      <td>0.049</td>\n",
       "      <td>87359.647</td>\n",
       "      <td>0.03</td>\n",
       "      <td>134</td>\n",
       "      <td>0.06</td>\n",
       "    </tr>\n",
       "    <tr>\n",
       "      <th>ADK</th>\n",
       "      <td>sec document       txt      sec header       ...</td>\n",
       "      <td>BPZ Resources Inc</td>\n",
       "      <td>3596084</td>\n",
       "      <td>3596084</td>\n",
       "      <td>0.084405</td>\n",
       "      <td>15859</td>\n",
       "      <td>11807</td>\n",
       "      <td>45740</td>\n",
       "      <td>3771</td>\n",
       "      <td>0.044</td>\n",
       "      <td>0.033</td>\n",
       "      <td>0.127</td>\n",
       "      <td>1438433.634</td>\n",
       "      <td>0.01</td>\n",
       "      <td>506</td>\n",
       "      <td>0.01</td>\n",
       "    </tr>\n",
       "  </tbody>\n",
       "</table>\n",
       "</div>"
      ],
      "text/plain": [
       "                                                  report       company_name  \\\n",
       "AAIIQ       begin privacy enhanced message      proc ...          Nortem NV   \n",
       "ADK     sec document       txt      sec header       ...  BPZ Resources Inc   \n",
       "\n",
       "       count_tokens  average_sentence_length  percentage_complex_word  \\\n",
       "AAIIQ        218399                   218399                 0.116548   \n",
       "ADK         3596084                  3596084                 0.084405   \n",
       "\n",
       "       positive_score  negative_score  uncertainty_score  constraining_score  \\\n",
       "AAIIQ             458            2278               1077                 658   \n",
       "ADK             15859           11807              45740                3771   \n",
       "\n",
       "       relative_positive  relative_negative  relative_uncertainty  \\\n",
       "AAIIQ              0.021              0.104                 0.049   \n",
       "ADK                0.044              0.033                 0.127   \n",
       "\n",
       "         fog_index  relative_constraining  risk_loss  relative_risk  \n",
       "AAIIQ    87359.647                   0.03        134           0.06  \n",
       "ADK    1438433.634                   0.01        506           0.01  "
      ]
     },
     "execution_count": 96,
     "metadata": {},
     "output_type": "execute_result"
    }
   ],
   "source": [
    "data.head(2)"
   ]
  },
  {
   "cell_type": "code",
   "execution_count": 97,
   "metadata": {},
   "outputs": [],
   "source": [
    "data['invest'] = [1 if i < data.relative_uncertainty.median() else 0 for i in data.relative_uncertainty]"
   ]
  },
  {
   "cell_type": "code",
   "execution_count": 100,
   "metadata": {},
   "outputs": [],
   "source": [
    "# Importing the dataset\n",
    "X = data.loc[:, ['count_tokens','average_sentence_length', 'percentage_complex_word','constraining_score',\n",
    "                    'relative_positive','relative_negative','relative_risk','fog_index']].values\n",
    "y = data.loc[:,'invest'].values\n",
    "\n",
    "# Splitting the dataset into the Training set and Test set\n",
    "from sklearn.model_selection import train_test_split\n",
    "X_train, X_test, y_train, y_test = train_test_split(X, y, test_size = 0.25, random_state = 467)\n",
    "\n",
    "from sklearn import preprocessing\n",
    "# label encode the target variable \n",
    "encoder = preprocessing.LabelEncoder()\n",
    "y_train = encoder.fit_transform(y_train)\n",
    "y_test = encoder.fit_transform(y_test)\n",
    "\n",
    "# Feature Scaling\n",
    "from sklearn.preprocessing import StandardScaler\n",
    "sc = StandardScaler()\n",
    "X_train = sc.fit_transform(X_train)\n",
    "X_test = sc.transform(X_test)"
   ]
  },
  {
   "cell_type": "code",
   "execution_count": 104,
   "metadata": {},
   "outputs": [
    {
     "data": {
      "text/plain": [
       "array([1, 1, 1, 1, 1, 1, 1, 0, 0, 1, 1, 1, 1, 1, 0, 1, 0, 0, 1, 1, 0, 1,\n",
       "       0, 0, 0, 0, 0, 1, 1, 0, 1, 0, 1, 1, 0, 1, 1, 1, 1, 1, 0, 0, 0, 0,\n",
       "       1, 1, 0, 0, 0, 0, 1, 0, 0, 0, 1, 0, 0, 0, 1, 1])"
      ]
     },
     "execution_count": 104,
     "metadata": {},
     "output_type": "execute_result"
    }
   ],
   "source": [
    "y_train"
   ]
  }
 ],
 "metadata": {
  "kernelspec": {
   "display_name": "Python 3",
   "language": "python",
   "name": "python3"
  },
  "language_info": {
   "codemirror_mode": {
    "name": "ipython",
    "version": 3
   },
   "file_extension": ".py",
   "mimetype": "text/x-python",
   "name": "python",
   "nbconvert_exporter": "python",
   "pygments_lexer": "ipython3",
   "version": "3.7.3"
  }
 },
 "nbformat": 4,
 "nbformat_minor": 2
}
