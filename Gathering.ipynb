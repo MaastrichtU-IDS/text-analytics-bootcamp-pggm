{
 "cells": [
  {
   "cell_type": "code",
   "execution_count": null,
   "metadata": {},
   "outputs": [],
   "source": []
  },
  {
   "cell_type": "code",
   "execution_count": 6,
   "metadata": {},
   "outputs": [],
   "source": [
    "#https://mapping-api.herokuapp.com/exchange/NASDAQ\n",
    "#https://mapping-api.herokuapp.com"
   ]
  },
  {
   "cell_type": "code",
   "execution_count": 2,
   "metadata": {},
   "outputs": [],
   "source": [
    "import pandas as pd"
   ]
  },
  {
   "cell_type": "markdown",
   "metadata": {},
   "source": [
    "List of companies and CIK and Exchange  \n",
    "http://rankandfiled.com/#/data/tickers (downaloadable)\n",
    "\n",
    "yet another ticker mappings https://dan.vonkohorn.com/2016/07/03/cik-ticker-mappings/"
   ]
  },
  {
   "cell_type": "code",
   "execution_count": 3,
   "metadata": {},
   "outputs": [],
   "source": [
    "names = pd.read_csv('cik_ticker.csv', sep='|')"
   ]
  },
  {
   "cell_type": "code",
   "execution_count": 4,
   "metadata": {},
   "outputs": [
    {
     "data": {
      "text/plain": [
       "array(['NYSE', nan, 'OTC', 'NASDAQ', 'OTCBB', 'NYSE ARCA', 'NYSE MKT',\n",
       "       'BATS'], dtype=object)"
      ]
     },
     "execution_count": 4,
     "metadata": {},
     "output_type": "execute_result"
    }
   ],
   "source": [
    "names.Exchange.unique()"
   ]
  },
  {
   "cell_type": "code",
   "execution_count": 5,
   "metadata": {},
   "outputs": [
    {
     "data": {
      "text/plain": [
       "2139"
      ]
     },
     "execution_count": 5,
     "metadata": {},
     "output_type": "execute_result"
    }
   ],
   "source": [
    "NASDAQ = pd.read_json('https://mapping-api.herokuapp.com/exchange/NASDAQ')\n",
    "len(NASDAQ)"
   ]
  },
  {
   "cell_type": "code",
   "execution_count": 6,
   "metadata": {},
   "outputs": [
    {
     "data": {
      "text/plain": [
       "2191"
      ]
     },
     "execution_count": 6,
     "metadata": {},
     "output_type": "execute_result"
    }
   ],
   "source": [
    "OTC = pd.read_json('https://mapping-api.herokuapp.com/exchange/OTC')\n",
    "len(OTC)"
   ]
  },
  {
   "cell_type": "code",
   "execution_count": 7,
   "metadata": {},
   "outputs": [
    {
     "data": {
      "text/plain": [
       "2736"
      ]
     },
     "execution_count": 7,
     "metadata": {},
     "output_type": "execute_result"
    }
   ],
   "source": [
    "NYSE = pd.read_json('https://mapping-api.herokuapp.com/exchange/NYSE')\n",
    "len(NYSE)"
   ]
  },
  {
   "cell_type": "code",
   "execution_count": 8,
   "metadata": {},
   "outputs": [],
   "source": [
    "df = pd.DataFrame()\n",
    "df = df.append(NASDAQ)\n",
    "df = df.append(OTC)\n",
    "df = df.append(NYSE)"
   ]
  },
  {
   "cell_type": "code",
   "execution_count": 9,
   "metadata": {},
   "outputs": [
    {
     "data": {
      "text/html": [
       "<div>\n",
       "<style scoped>\n",
       "    .dataframe tbody tr th:only-of-type {\n",
       "        vertical-align: middle;\n",
       "    }\n",
       "\n",
       "    .dataframe tbody tr th {\n",
       "        vertical-align: top;\n",
       "    }\n",
       "\n",
       "    .dataframe thead th {\n",
       "        text-align: right;\n",
       "    }\n",
       "</style>\n",
       "<table border=\"1\" class=\"dataframe\">\n",
       "  <thead>\n",
       "    <tr style=\"text-align: right;\">\n",
       "      <th></th>\n",
       "      <th>cik</th>\n",
       "      <th>exchange</th>\n",
       "      <th>irs</th>\n",
       "      <th>name</th>\n",
       "      <th>sic</th>\n",
       "      <th>ticker</th>\n",
       "    </tr>\n",
       "  </thead>\n",
       "  <tbody>\n",
       "    <tr>\n",
       "      <th>0</th>\n",
       "      <td>1099290</td>\n",
       "      <td>NASDAQ</td>\n",
       "      <td>593404233</td>\n",
       "      <td>Sinocoking Coal &amp; Coke Chemical Industries Inc</td>\n",
       "      <td>3312</td>\n",
       "      <td>AAC</td>\n",
       "    </tr>\n",
       "    <tr>\n",
       "      <th>1</th>\n",
       "      <td>6201</td>\n",
       "      <td>NASDAQ</td>\n",
       "      <td>751825172</td>\n",
       "      <td>American Airlines Group Inc</td>\n",
       "      <td>4512</td>\n",
       "      <td>AAL</td>\n",
       "    </tr>\n",
       "    <tr>\n",
       "      <th>2</th>\n",
       "      <td>8177</td>\n",
       "      <td>NASDAQ</td>\n",
       "      <td>581027114</td>\n",
       "      <td>Atlantic American Corp</td>\n",
       "      <td>6311</td>\n",
       "      <td>AAME</td>\n",
       "    </tr>\n",
       "    <tr>\n",
       "      <th>3</th>\n",
       "      <td>1158114</td>\n",
       "      <td>NASDAQ</td>\n",
       "      <td>760533927</td>\n",
       "      <td>Applied Optoelectronics Inc</td>\n",
       "      <td>3674</td>\n",
       "      <td>AAOI</td>\n",
       "    </tr>\n",
       "    <tr>\n",
       "      <th>4</th>\n",
       "      <td>320193</td>\n",
       "      <td>NASDAQ</td>\n",
       "      <td>942404110</td>\n",
       "      <td>Apple Inc</td>\n",
       "      <td>3571</td>\n",
       "      <td>AAPL</td>\n",
       "    </tr>\n",
       "  </tbody>\n",
       "</table>\n",
       "</div>"
      ],
      "text/plain": [
       "       cik exchange        irs  \\\n",
       "0  1099290   NASDAQ  593404233   \n",
       "1     6201   NASDAQ  751825172   \n",
       "2     8177   NASDAQ  581027114   \n",
       "3  1158114   NASDAQ  760533927   \n",
       "4   320193   NASDAQ  942404110   \n",
       "\n",
       "                                             name   sic ticker  \n",
       "0  Sinocoking Coal & Coke Chemical Industries Inc  3312    AAC  \n",
       "1                     American Airlines Group Inc  4512    AAL  \n",
       "2                          Atlantic American Corp  6311   AAME  \n",
       "3                     Applied Optoelectronics Inc  3674   AAOI  \n",
       "4                                       Apple Inc  3571   AAPL  "
      ]
     },
     "execution_count": 9,
     "metadata": {},
     "output_type": "execute_result"
    }
   ],
   "source": [
    "df.head()"
   ]
  },
  {
   "cell_type": "code",
   "execution_count": 10,
   "metadata": {},
   "outputs": [
    {
     "data": {
      "text/plain": [
       "7066"
      ]
     },
     "execution_count": 10,
     "metadata": {},
     "output_type": "execute_result"
    }
   ],
   "source": [
    "len(df)"
   ]
  },
  {
   "cell_type": "code",
   "execution_count": 11,
   "metadata": {},
   "outputs": [
    {
     "data": {
      "text/plain": [
       "7066"
      ]
     },
     "execution_count": 11,
     "metadata": {},
     "output_type": "execute_result"
    }
   ],
   "source": [
    "len(df.cik.unique())"
   ]
  },
  {
   "cell_type": "code",
   "execution_count": 12,
   "metadata": {},
   "outputs": [],
   "source": [
    "cik_codes = list(df.cik.unique())"
   ]
  },
  {
   "cell_type": "code",
   "execution_count": 13,
   "metadata": {},
   "outputs": [
    {
     "data": {
      "text/plain": [
       "[1099290, 6201, 8177, 1158114]"
      ]
     },
     "execution_count": 13,
     "metadata": {},
     "output_type": "execute_result"
    }
   ],
   "source": [
    "cik_codes[:4]"
   ]
  },
  {
   "cell_type": "code",
   "execution_count": 14,
   "metadata": {},
   "outputs": [],
   "source": [
    "#edgar data shape /edgar/data/<CIK> / 0123456789-AB-CDEFGH.txt\n",
    "#apple example https://www.sec.gov/Archives/edgar/data/320193/000032019319000119/0000320193-19-000119.txt"
   ]
  },
  {
   "cell_type": "code",
   "execution_count": 15,
   "metadata": {},
   "outputs": [],
   "source": [
    "#browsig CIK\n",
    "#https://www.sec.gov/cgi-bin/browse-edgar?CIK=1158114&owner=exclude&action=getcompany&Find=Search\n",
    "#THIS ONE here is where the magic happens\n",
    "#https://www.sec.gov/cgi-bin/browse-edgar?CIK=0000006201&type=10-K"
   ]
  },
  {
   "cell_type": "code",
   "execution_count": 52,
   "metadata": {},
   "outputs": [],
   "source": [
    "#beautiful soup \n",
    "#https://www.digitalocean.com/community/tutorials/how-to-scrape-web-pages-with-beautiful-soup-and-python-3"
   ]
  },
  {
   "cell_type": "markdown",
   "metadata": {},
   "source": [
    "---"
   ]
  },
  {
   "cell_type": "code",
   "execution_count": 19,
   "metadata": {},
   "outputs": [],
   "source": [
    "import requests\n",
    "from bs4 import BeautifulSoup\n",
    "import re"
   ]
  },
  {
   "cell_type": "code",
   "execution_count": 2,
   "metadata": {},
   "outputs": [],
   "source": [
    "page = requests.get('https://www.sec.gov/cgi-bin/browse-edgar?CIK=6201&type=10-K')"
   ]
  },
  {
   "cell_type": "code",
   "execution_count": 3,
   "metadata": {},
   "outputs": [],
   "source": [
    "#object\n",
    "soup = BeautifulSoup(page.text, 'html.parser')"
   ]
  },
  {
   "cell_type": "code",
   "execution_count": 4,
   "metadata": {},
   "outputs": [],
   "source": [
    "## Pull all text from the table div\n",
    "results_table = soup.find(class_='tableFile2')"
   ]
  },
  {
   "cell_type": "code",
   "execution_count": 5,
   "metadata": {},
   "outputs": [],
   "source": [
    "# Pull text from all instances of <a> tag within BodyText div\n",
    "results_items = results_table.find_all('a')"
   ]
  },
  {
   "cell_type": "code",
   "execution_count": 6,
   "metadata": {},
   "outputs": [],
   "source": [
    "first_file = results_items[0].prettify()"
   ]
  },
  {
   "cell_type": "code",
   "execution_count": 7,
   "metadata": {},
   "outputs": [
    {
     "data": {
      "text/plain": [
       "'<a href=\"/Archives/edgar/data/6201/000000620119000009/0000006201-19-000009-index.htm\" id=\"documentsbutton\">\\n Documents\\n</a>\\n'"
      ]
     },
     "execution_count": 7,
     "metadata": {},
     "output_type": "execute_result"
    }
   ],
   "source": [
    "first_file"
   ]
  },
  {
   "cell_type": "code",
   "execution_count": 8,
   "metadata": {},
   "outputs": [],
   "source": [
    "matches=re.findall(r'\\\"(.+?)\\\"',first_file) #in python is r' '\n",
    "#.+? is the \"non-greedy\" version of .+. It makes the regular expression match the smallest number of characters it can instead of the most characters it can"
   ]
  },
  {
   "cell_type": "code",
   "execution_count": 9,
   "metadata": {},
   "outputs": [],
   "source": [
    "url_txt = 'https://www.sec.gov'+matches[0]\n",
    "url_txt = url_txt.replace('-index.htm','.txt')"
   ]
  },
  {
   "cell_type": "code",
   "execution_count": 10,
   "metadata": {},
   "outputs": [
    {
     "data": {
      "text/plain": [
       "'https://www.sec.gov/Archives/edgar/data/6201/000000620119000009/0000006201-19-000009.txt'"
      ]
     },
     "execution_count": 10,
     "metadata": {},
     "output_type": "execute_result"
    }
   ],
   "source": [
    "url_txt"
   ]
  },
  {
   "cell_type": "code",
   "execution_count": null,
   "metadata": {},
   "outputs": [],
   "source": []
  },
  {
   "cell_type": "code",
   "execution_count": null,
   "metadata": {},
   "outputs": [],
   "source": []
  },
  {
   "cell_type": "markdown",
   "metadata": {},
   "source": [
    "---\n",
    "## Scrape Edgar"
   ]
  },
  {
   "cell_type": "code",
   "execution_count": null,
   "metadata": {},
   "outputs": [],
   "source": []
  },
  {
   "cell_type": "code",
   "execution_count": 35,
   "metadata": {},
   "outputs": [
    {
     "data": {
      "text/plain": [
       "[1099290, 6201, 8177, 1158114, 320193]"
      ]
     },
     "execution_count": 35,
     "metadata": {},
     "output_type": "execute_result"
    }
   ],
   "source": [
    "cik_codes[0:20]"
   ]
  },
  {
   "cell_type": "code",
   "execution_count": null,
   "metadata": {},
   "outputs": [],
   "source": []
  },
  {
   "cell_type": "code",
   "execution_count": null,
   "metadata": {},
   "outputs": [],
   "source": []
  },
  {
   "cell_type": "code",
   "execution_count": null,
   "metadata": {},
   "outputs": [],
   "source": []
  },
  {
   "cell_type": "code",
   "execution_count": 64,
   "metadata": {},
   "outputs": [],
   "source": [
    "def get_url(query):\n",
    "    page = requests.get(query)\n",
    "    page_parsed = BeautifulSoup(page.text, 'html.parser')\n",
    "    results_table = page_parsed.find(class_='tableFile2')\n",
    "    return results_table.find_all('a')"
   ]
  },
  {
   "cell_type": "code",
   "execution_count": null,
   "metadata": {},
   "outputs": [],
   "source": [
    "def get_txt_files(cik_codes):\n",
    "    # INPUT = list of CIK codes\n",
    "    docs_urls = []\n",
    "    for cik in cik_codes:\n",
    "        query = 'https://www.sec.gov/cgi-bin/browse-edgar?CIK='+str(cik)+'&type=10-K'\n",
    "        results_files = get_url(query)\n",
    "        #if there is no files in the registry means the table and list are empty\n",
    "        if results_files != []:\n",
    "            #print(str(query))\n",
    "            results_items = results_files[0].prettify()  #here access the company\n",
    "            raw_url = 'https://www.sec.gov'+re.findall(r'\\\"(.+?)\\\"',results_items)[0]\n",
    "            url = raw_url.replace('-index.htm','.txt')\n",
    "            docs_urls.append(url)\n",
    "        else:\n",
    "            docs_urls.append('no-url')\n",
    "    return docs_urls"
   ]
  },
  {
   "cell_type": "code",
   "execution_count": null,
   "metadata": {},
   "outputs": [],
   "source": []
  },
  {
   "cell_type": "code",
   "execution_count": null,
   "metadata": {},
   "outputs": [],
   "source": []
  },
  {
   "cell_type": "code",
   "execution_count": null,
   "metadata": {},
   "outputs": [],
   "source": []
  },
  {
   "cell_type": "code",
   "execution_count": null,
   "metadata": {},
   "outputs": [],
   "source": []
  },
  {
   "cell_type": "code",
   "execution_count": null,
   "metadata": {},
   "outputs": [],
   "source": [
    "import time; start_time = time.monotonic()\n",
    "from datetime import datetime, timedelta\n",
    "docs_urls = []\n",
    "for code in cik_codes:\n",
    "    query = 'https://www.sec.gov/cgi-bin/browse-edgar?CIK='+str(code)+'&type=10-K'\n",
    " #   print(query)#\n",
    "    page = requests.get(query)\n",
    "    page_parsed = BeautifulSoup(page.text, 'html.parser')\n",
    "    results_table = page_parsed.find(class_='tableFile2')\n",
    "    results_files = results_table.find_all('a')\n",
    "    if results_files != []: #if there is no files in the registry means the table and list are empty\n",
    "        #print(str(query))\n",
    "        results_items = results_files[0].prettify()  #here access the company\n",
    "        raw_url = re.findall(r'\\\"(.+?)\\\"',results_items)[0]\n",
    "        url_txt = 'https://www.sec.gov'+raw_url\n",
    "        url_doc = url_txt.replace('-index.htm','.txt')\n",
    "        docs_urls.append(url_doc)\n",
    "    else:\n",
    "        docs_urls.append('no-url')\n",
    "\n",
    "sttime = datetime.now().strftime('%Y%m%d_%H:%M_')\n",
    "end_time = time.monotonic()\n",
    "ex_time = timedelta(seconds=end_time - start_time)\n",
    "print(\"Execution time: {}\".format(ex_time))"
   ]
  },
  {
   "cell_type": "code",
   "execution_count": 41,
   "metadata": {},
   "outputs": [],
   "source": [
    "#put runing time\n",
    "#este duro como 40 mins"
   ]
  },
  {
   "cell_type": "code",
   "execution_count": null,
   "metadata": {},
   "outputs": [],
   "source": []
  },
  {
   "cell_type": "code",
   "execution_count": null,
   "metadata": {},
   "outputs": [],
   "source": []
  },
  {
   "cell_type": "code",
   "execution_count": null,
   "metadata": {},
   "outputs": [],
   "source": []
  },
  {
   "cell_type": "markdown",
   "metadata": {},
   "source": [
    "---"
   ]
  },
  {
   "cell_type": "code",
   "execution_count": 11,
   "metadata": {},
   "outputs": [],
   "source": [
    "response = requests.get(url_txt)\n",
    "data = response.text"
   ]
  },
  {
   "cell_type": "code",
   "execution_count": 19,
   "metadata": {},
   "outputs": [
    {
     "data": {
      "text/plain": [
       "'<SEC-DOCUMENT>0000006201-19-000009.txt : 20190225\\n<SEC-HEADER>0000006201-19-000009.hdr.sgml : 20190225\\n<ACCEPTANCE-DATETIME>20190225073134\\nACCESSION NUMBER:\\t\\t0000006201-19-000009\\nCONFORMED SUBMISSION TYPE:\\t10-K\\nPUBLIC DOCUMENT COUNT:\\t\\t140\\nCONFORMED PERIOD OF REPORT:\\t20181231\\nFILED AS OF DATE:\\t\\t20190225\\nDATE AS OF CHANGE:\\t\\t20190225\\n\\nFILER:\\n\\n\\tCOMPANY DATA:\\t\\n\\t\\tCOMPANY CONFORMED NAME:\\t\\t\\tAmerican Airlines Group Inc.\\n\\t\\tCENTRAL INDEX KEY:\\t\\t\\t0000006201\\n\\t\\tSTANDARD INDUSTRIAL CLASSIFICATION:\\tAIR TRANSPORTATION, SCHEDULED [4512]\\n\\t\\tIRS NUMBER:\\t\\t\\t\\t751825172\\n\\t\\tSTATE OF INCORPORATION:\\t\\t\\tDE\\n\\t\\tFISCAL YEAR END:\\t\\t\\t1231\\n\\n\\tFILING VALUES:\\n\\t\\tFORM TYPE:\\t\\t10-K\\n\\t\\tSEC ACT:\\t\\t1934 Act\\n\\t\\tSEC FILE NUMBER:\\t001-08400\\n\\t\\tFILM NUMBER:\\t\\t19628071\\n\\n\\tBUSINESS ADDRESS:\\t\\n\\t\\tSTREET 1:\\t\\t4333 AMON CARTER BLVD\\n\\t\\tCITY:\\t\\t\\tFORT WORTH\\n\\t\\tSTATE:\\t\\t\\tTX\\n\\t\\tZIP:\\t\\t\\t76155\\n\\t\\tBUSINESS PHONE:\\t\\t8179631234\\n\\n\\tMAIL ADDRESS:\\t\\n\\t\\tSTREET 1:\\t\\t4333 AMON CARTER BLVD\\n\\t\\tCITY:\\t\\t\\tFORT WORTH\\n\\t\\tSTATE:\\t\\t\\tTX\\n\\t\\tZIP:\\t\\t\\t75261-9616\\n\\n\\tFORMER COMPANY:\\t\\n\\t\\tFORMER CONFORMED '"
      ]
     },
     "execution_count": 19,
     "metadata": {},
     "output_type": "execute_result"
    }
   ],
   "source": [
    "data[:1000]"
   ]
  },
  {
   "cell_type": "code",
   "execution_count": 18,
   "metadata": {},
   "outputs": [
    {
     "data": {
      "text/plain": [
       "30572408"
      ]
     },
     "execution_count": 18,
     "metadata": {},
     "output_type": "execute_result"
    }
   ],
   "source": [
    "file = open('company.txt','w')\n",
    "file.write(data)"
   ]
  },
  {
   "cell_type": "code",
   "execution_count": 21,
   "metadata": {},
   "outputs": [],
   "source": [
    "def getReadableEntity(text):\n",
    "    text = text.replace(\"\\\\n\", \"\\n\")\n",
    "    text = text.replace(\"\\\\r\\\\n\", \" \")\n",
    "    text = text.replace(\"\\\\xc3\\\\xbc\", \"u\")\n",
    "    text = text.replace(\"\\\\xc3\\\\xa4\", \"a\")\n",
    "    text = text.replace(\"\\\\xc2\\\\xa7\", \"\")\n",
    "    text = text.replace(\"\\\\xc3\\\\x9f\", \"ss\")\n",
    "    text = text.replace(\"\\\\xc3\\\\xb6\", \"o\")\n",
    "    text = text.replace(\"\\\\xc3\\\\x84\", \"A\")\n",
    "    text = text.replace(\"\\\\xc3\\\\x9c\", \"U\")\n",
    "    text = text.replace(\"\\\\xc3\\\\xa9\", \"e\")\n",
    "    text = text.replace(\"\\\\xc3\\\\xa8\", \"e\")\n",
    "    text = text.replace(\"\\\\xc3\\\\x96\", \"O\")\n",
    "    text = text.replace(\"\\\\xc3\\\\xa0\", \"a\")\n",
    "\n",
    "    text = text.replace(\"\\r\\n\", \" \")\n",
    "    text = text.replace(\"\\xc3\\xbc\", \"u\")\n",
    "    text = text.replace(\"\\xc3\\xa4\", \"a\")\n",
    "    text = text.replace(\"\\xc2\\xa7\", \"\")\n",
    "    text = text.replace(\"\\xc3\\x9f\", \"ss\")\n",
    "    text = text.replace(\"\\xc3\\xb6\", \"o\")\n",
    "    text = text.replace(\"\\xc3\\x84\", \"A\")\n",
    "    text = text.replace(\"\\xc3\\x9c\", \"U\")\n",
    "    text = text.replace(\"\\xc3\\xa9\", \"e\")\n",
    "    text = text.replace(\"\\xc3\\xa8\", \"e\")\n",
    "    text = text.replace(\"\\xc3\\x96\", \"O\")\n",
    "    text = text.replace(\"\\xc3\\xa0\", \"a\")\n",
    "    return text"
   ]
  },
  {
   "cell_type": "code",
   "execution_count": 23,
   "metadata": {},
   "outputs": [
    {
     "name": "stdout",
     "output_type": "stream",
     "text": [
      "<SEC-DOCUMENT>0000006201-19-000009.txt : 20190225\n",
      "<SEC-HEADER>0000006201-19-000009.hdr.sgml : 20190225\n",
      "<ACCEPTANCE-DATETIME>20190225073134\n",
      "ACCESSION NUMBER:\t\t0000006201-19-000009\n",
      "CONFORMED SUBMISSION TYPE:\t10-K\n",
      "PUBLIC DOCUMENT COUNT:\t\t140\n",
      "CONFORMED PERIOD OF REPORT:\t20181231\n",
      "FILED AS OF DATE:\t\t20190225\n",
      "DATE AS OF CHANGE:\t\t20190225\n",
      "\n",
      "FILER:\n",
      "\n",
      "\tCOMPANY DATA:\t\n",
      "\t\tCOMPANY CONFORMED NAME:\t\t\tAmerican Airlines Group Inc.\n",
      "\t\tCENTRAL INDEX KEY:\t\t\t0000006201\n",
      "\t\tSTANDARD INDUSTRIAL CLASSIFICATION:\tAIR TRANSPORTATION, SCHEDULED [4512]\n",
      "\t\tIRS NUMBER:\t\t\t\t751825172\n",
      "\t\tSTATE OF INCORPORATION:\t\t\tDE\n",
      "\t\tFISCAL YEAR END:\t\t\t1231\n",
      "\n",
      "\tFILING VALUES:\n",
      "\t\tFORM TYPE:\t\t10-K\n",
      "\t\tSEC ACT:\t\t1934 Act\n",
      "\t\tSEC FILE NUMBER:\t001-08400\n",
      "\t\tFILM NUMBER:\t\t19628071\n",
      "\n",
      "\tBUSINESS ADDRESS:\t\n",
      "\t\tSTREET 1:\t\t4333 AMON CARTER BLVD\n",
      "\t\tCITY:\t\t\tFORT WORTH\n",
      "\t\tSTATE:\t\t\tTX\n",
      "\t\tZIP:\t\t\t76155\n",
      "\t\tBUSINESS PHONE:\t\t8179631234\n",
      "\n",
      "\tMAIL ADDRESS:\t\n",
      "\t\tSTREET 1:\t\t4333 AMON CARTER BLVD\n",
      "\t\tCITY:\t\t\tFORT WORTH\n",
      "\t\tSTATE:\t\t\tTX\n",
      "\t\tZIP:\t\t\t75261-9616\n",
      "\n",
      "\tFORMER COMPANY:\t\n",
      "\t\tFORMER CONFORMED \n"
     ]
    }
   ],
   "source": [
    "print(getReadableEntity(data[:1000]))"
   ]
  },
  {
   "cell_type": "code",
   "execution_count": null,
   "metadata": {},
   "outputs": [],
   "source": []
  },
  {
   "cell_type": "markdown",
   "metadata": {},
   "source": [
    "---\n",
    "From EDGAR extraction implementation"
   ]
  },
  {
   "cell_type": "code",
   "execution_count": 13,
   "metadata": {},
   "outputs": [],
   "source": [
    "# Text extraction patterns\n",
    "mda_regex = r\"item[^a-zA-Z\\n]*\\d\\s*\\.\\s*management\\'s discussion and analysis.*?^\\s*item[^a-zA-Z\\n]*\\d\\s*\\.*\"\n",
    "qqd_regex = r\"item[^a-zA-Z\\n]*\\d[a-z]?\\.?\\s*Quantitative and Qualitative Disclosures about \" \\\n",
    "            r\"Market Risk.*?^\\s*item\\s*\\d\\s*\"\n",
    "riskfactor_regex = r\"item[^a-zA-Z\\n]*\\d[a-z]?\\.?\\s*Risk Factors.*?^\\s*item\\s*\\d\\s*\""
   ]
  },
  {
   "cell_type": "code",
   "execution_count": 16,
   "metadata": {},
   "outputs": [
    {
     "data": {
      "text/plain": [
       "[]"
      ]
     },
     "execution_count": 16,
     "metadata": {},
     "output_type": "execute_result"
    }
   ],
   "source": [
    "re.findall(mda_regex, data, re.IGNORECASE | re.DOTALL | re.MULTILINE)"
   ]
  },
  {
   "cell_type": "code",
   "execution_count": 17,
   "metadata": {},
   "outputs": [
    {
     "data": {
      "text/plain": [
       "60740"
      ]
     },
     "execution_count": 17,
     "metadata": {},
     "output_type": "execute_result"
    }
   ],
   "source": [
    "data.find('Risk Factors')"
   ]
  },
  {
   "cell_type": "code",
   "execution_count": null,
   "metadata": {},
   "outputs": [],
   "source": []
  }
 ],
 "metadata": {
  "kernelspec": {
   "display_name": "Python 3",
   "language": "python",
   "name": "python3"
  },
  "language_info": {
   "codemirror_mode": {
    "name": "ipython",
    "version": 3
   },
   "file_extension": ".py",
   "mimetype": "text/x-python",
   "name": "python",
   "nbconvert_exporter": "python",
   "pygments_lexer": "ipython3",
   "version": "3.7.3"
  }
 },
 "nbformat": 4,
 "nbformat_minor": 2
}
