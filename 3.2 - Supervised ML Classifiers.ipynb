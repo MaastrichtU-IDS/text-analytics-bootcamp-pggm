{
 "cells": [
  {
   "cell_type": "markdown",
   "metadata": {
    "slideshow": {
     "slide_type": "slide"
    }
   },
   "source": [
    "#### PGGM Bootcamp Text Analytics 2020\n",
    "*Notebook by [Pedro V Hernandez Serrano](https://github.com/pedrohserrano)*"
   ]
  },
  {
   "cell_type": "markdown",
   "metadata": {},
   "source": [
    "---\n",
    "![](images/3_2.png)"
   ]
  },
  {
   "cell_type": "markdown",
   "metadata": {},
   "source": [
    "# 3.2 Supervised ML Classifiers\n",
    "* [3.2.1. Core dataset](#3.2.1)\n",
    "* [3.2.2. Classifiers](#3.2.2)\n",
    "\n",
    "---"
   ]
  },
  {
   "cell_type": "code",
   "execution_count": 1,
   "metadata": {},
   "outputs": [],
   "source": [
    "import pandas as pd\n",
    "import numpy as np"
   ]
  },
  {
   "cell_type": "markdown",
   "metadata": {},
   "source": [
    "---\n",
    "### 3.2.1. Core dataset\n",
    "<a id=\"3.2.1\">"
   ]
  },
  {
   "cell_type": "code",
   "execution_count": 8,
   "metadata": {},
   "outputs": [],
   "source": [
    "# Read in the data\n",
    "dataset = pd.read_csv('datasets/table_text_features.csv', index_col=0)\n",
    "\n",
    "#df = df.sample(frac=0.1, random_state=10)\n",
    "# Drop missing values\n",
    "dataset.dropna(inplace=True)"
   ]
  },
  {
   "cell_type": "code",
   "execution_count": 10,
   "metadata": {},
   "outputs": [
    {
     "data": {
      "text/html": [
       "<div>\n",
       "<style scoped>\n",
       "    .dataframe tbody tr th:only-of-type {\n",
       "        vertical-align: middle;\n",
       "    }\n",
       "\n",
       "    .dataframe tbody tr th {\n",
       "        vertical-align: top;\n",
       "    }\n",
       "\n",
       "    .dataframe thead th {\n",
       "        text-align: right;\n",
       "    }\n",
       "</style>\n",
       "<table border=\"1\" class=\"dataframe\">\n",
       "  <thead>\n",
       "    <tr style=\"text-align: right;\">\n",
       "      <th></th>\n",
       "      <th>company_name</th>\n",
       "      <th>count_tokens</th>\n",
       "      <th>average_sentence_length</th>\n",
       "      <th>percentage_complex_word</th>\n",
       "      <th>positive_score</th>\n",
       "      <th>negative_score</th>\n",
       "      <th>uncertainty_score</th>\n",
       "      <th>constraining_score</th>\n",
       "    </tr>\n",
       "  </thead>\n",
       "  <tbody>\n",
       "    <tr>\n",
       "      <th>ABN_AMRO_Group_(2018).pdf</th>\n",
       "      <td>ABN_AMRO_Group</td>\n",
       "      <td>106119</td>\n",
       "      <td>106119</td>\n",
       "      <td>0.304931</td>\n",
       "      <td>834</td>\n",
       "      <td>1401</td>\n",
       "      <td>1728</td>\n",
       "      <td>686</td>\n",
       "    </tr>\n",
       "    <tr>\n",
       "      <th>AGNC_Investment_(2018).pdf</th>\n",
       "      <td>AGNC_Investment</td>\n",
       "      <td>47122</td>\n",
       "      <td>47122</td>\n",
       "      <td>0.301091</td>\n",
       "      <td>297</td>\n",
       "      <td>858</td>\n",
       "      <td>963</td>\n",
       "      <td>412</td>\n",
       "    </tr>\n",
       "    <tr>\n",
       "      <th>A_G_Barr_(2018).pdf</th>\n",
       "      <td>A_G_Barr</td>\n",
       "      <td>54311</td>\n",
       "      <td>54311</td>\n",
       "      <td>0.272947</td>\n",
       "      <td>662</td>\n",
       "      <td>461</td>\n",
       "      <td>457</td>\n",
       "      <td>230</td>\n",
       "    </tr>\n",
       "    <tr>\n",
       "      <th>Aboitiz_Power_(2018).pdf</th>\n",
       "      <td>Aboitiz_Power</td>\n",
       "      <td>68940</td>\n",
       "      <td>68940</td>\n",
       "      <td>0.261053</td>\n",
       "      <td>262</td>\n",
       "      <td>529</td>\n",
       "      <td>425</td>\n",
       "      <td>224</td>\n",
       "    </tr>\n",
       "    <tr>\n",
       "      <th>Acer_(2018).pdf</th>\n",
       "      <td>Acer</td>\n",
       "      <td>89820</td>\n",
       "      <td>89820</td>\n",
       "      <td>0.327533</td>\n",
       "      <td>684</td>\n",
       "      <td>1134</td>\n",
       "      <td>572</td>\n",
       "      <td>443</td>\n",
       "    </tr>\n",
       "  </tbody>\n",
       "</table>\n",
       "</div>"
      ],
      "text/plain": [
       "                               company_name  count_tokens  \\\n",
       "ABN_AMRO_Group_(2018).pdf    ABN_AMRO_Group        106119   \n",
       "AGNC_Investment_(2018).pdf  AGNC_Investment         47122   \n",
       "A_G_Barr_(2018).pdf                A_G_Barr         54311   \n",
       "Aboitiz_Power_(2018).pdf      Aboitiz_Power         68940   \n",
       "Acer_(2018).pdf                        Acer         89820   \n",
       "\n",
       "                            average_sentence_length  percentage_complex_word  \\\n",
       "ABN_AMRO_Group_(2018).pdf                    106119                 0.304931   \n",
       "AGNC_Investment_(2018).pdf                    47122                 0.301091   \n",
       "A_G_Barr_(2018).pdf                           54311                 0.272947   \n",
       "Aboitiz_Power_(2018).pdf                      68940                 0.261053   \n",
       "Acer_(2018).pdf                               89820                 0.327533   \n",
       "\n",
       "                            positive_score  negative_score  uncertainty_score  \\\n",
       "ABN_AMRO_Group_(2018).pdf              834            1401               1728   \n",
       "AGNC_Investment_(2018).pdf             297             858                963   \n",
       "A_G_Barr_(2018).pdf                    662             461                457   \n",
       "Aboitiz_Power_(2018).pdf               262             529                425   \n",
       "Acer_(2018).pdf                        684            1134                572   \n",
       "\n",
       "                            constraining_score  \n",
       "ABN_AMRO_Group_(2018).pdf                  686  \n",
       "AGNC_Investment_(2018).pdf                 412  \n",
       "A_G_Barr_(2018).pdf                        230  \n",
       "Aboitiz_Power_(2018).pdf                   224  \n",
       "Acer_(2018).pdf                            443  "
      ]
     },
     "execution_count": 10,
     "metadata": {},
     "output_type": "execute_result"
    }
   ],
   "source": [
    "dataset.head()"
   ]
  },
  {
   "cell_type": "code",
   "execution_count": 11,
   "metadata": {},
   "outputs": [
    {
     "data": {
      "text/html": [
       "<div>\n",
       "<style scoped>\n",
       "    .dataframe tbody tr th:only-of-type {\n",
       "        vertical-align: middle;\n",
       "    }\n",
       "\n",
       "    .dataframe tbody tr th {\n",
       "        vertical-align: top;\n",
       "    }\n",
       "\n",
       "    .dataframe thead th {\n",
       "        text-align: right;\n",
       "    }\n",
       "</style>\n",
       "<table border=\"1\" class=\"dataframe\">\n",
       "  <thead>\n",
       "    <tr style=\"text-align: right;\">\n",
       "      <th></th>\n",
       "      <th>count_tokens</th>\n",
       "      <th>average_sentence_length</th>\n",
       "      <th>percentage_complex_word</th>\n",
       "      <th>positive_score</th>\n",
       "      <th>negative_score</th>\n",
       "      <th>uncertainty_score</th>\n",
       "      <th>constraining_score</th>\n",
       "    </tr>\n",
       "  </thead>\n",
       "  <tbody>\n",
       "    <tr>\n",
       "      <th>count</th>\n",
       "      <td>92.000000</td>\n",
       "      <td>92.000000</td>\n",
       "      <td>92.000000</td>\n",
       "      <td>92.000000</td>\n",
       "      <td>92.000000</td>\n",
       "      <td>92.000000</td>\n",
       "      <td>92.000000</td>\n",
       "    </tr>\n",
       "    <tr>\n",
       "      <th>mean</th>\n",
       "      <td>65845.902174</td>\n",
       "      <td>65845.902174</td>\n",
       "      <td>0.287568</td>\n",
       "      <td>496.989130</td>\n",
       "      <td>743.967391</td>\n",
       "      <td>655.043478</td>\n",
       "      <td>333.108696</td>\n",
       "    </tr>\n",
       "    <tr>\n",
       "      <th>std</th>\n",
       "      <td>38649.860479</td>\n",
       "      <td>38649.860479</td>\n",
       "      <td>0.023180</td>\n",
       "      <td>318.515392</td>\n",
       "      <td>544.926963</td>\n",
       "      <td>520.477737</td>\n",
       "      <td>244.290966</td>\n",
       "    </tr>\n",
       "    <tr>\n",
       "      <th>min</th>\n",
       "      <td>3446.000000</td>\n",
       "      <td>3446.000000</td>\n",
       "      <td>0.219561</td>\n",
       "      <td>42.000000</td>\n",
       "      <td>26.000000</td>\n",
       "      <td>13.000000</td>\n",
       "      <td>5.000000</td>\n",
       "    </tr>\n",
       "    <tr>\n",
       "      <th>25%</th>\n",
       "      <td>39658.000000</td>\n",
       "      <td>39658.000000</td>\n",
       "      <td>0.274329</td>\n",
       "      <td>263.500000</td>\n",
       "      <td>380.750000</td>\n",
       "      <td>326.000000</td>\n",
       "      <td>142.000000</td>\n",
       "    </tr>\n",
       "    <tr>\n",
       "      <th>50%</th>\n",
       "      <td>61156.000000</td>\n",
       "      <td>61156.000000</td>\n",
       "      <td>0.288838</td>\n",
       "      <td>425.500000</td>\n",
       "      <td>624.500000</td>\n",
       "      <td>584.000000</td>\n",
       "      <td>299.000000</td>\n",
       "    </tr>\n",
       "    <tr>\n",
       "      <th>75%</th>\n",
       "      <td>80126.000000</td>\n",
       "      <td>80126.000000</td>\n",
       "      <td>0.302842</td>\n",
       "      <td>625.750000</td>\n",
       "      <td>954.500000</td>\n",
       "      <td>832.250000</td>\n",
       "      <td>443.750000</td>\n",
       "    </tr>\n",
       "    <tr>\n",
       "      <th>max</th>\n",
       "      <td>195942.000000</td>\n",
       "      <td>195942.000000</td>\n",
       "      <td>0.344767</td>\n",
       "      <td>1417.000000</td>\n",
       "      <td>3246.000000</td>\n",
       "      <td>3470.000000</td>\n",
       "      <td>1340.000000</td>\n",
       "    </tr>\n",
       "  </tbody>\n",
       "</table>\n",
       "</div>"
      ],
      "text/plain": [
       "        count_tokens  average_sentence_length  percentage_complex_word  \\\n",
       "count      92.000000                92.000000                92.000000   \n",
       "mean    65845.902174             65845.902174                 0.287568   \n",
       "std     38649.860479             38649.860479                 0.023180   \n",
       "min      3446.000000              3446.000000                 0.219561   \n",
       "25%     39658.000000             39658.000000                 0.274329   \n",
       "50%     61156.000000             61156.000000                 0.288838   \n",
       "75%     80126.000000             80126.000000                 0.302842   \n",
       "max    195942.000000            195942.000000                 0.344767   \n",
       "\n",
       "       positive_score  negative_score  uncertainty_score  constraining_score  \n",
       "count       92.000000       92.000000          92.000000           92.000000  \n",
       "mean       496.989130      743.967391         655.043478          333.108696  \n",
       "std        318.515392      544.926963         520.477737          244.290966  \n",
       "min         42.000000       26.000000          13.000000            5.000000  \n",
       "25%        263.500000      380.750000         326.000000          142.000000  \n",
       "50%        425.500000      624.500000         584.000000          299.000000  \n",
       "75%        625.750000      954.500000         832.250000          443.750000  \n",
       "max       1417.000000     3246.000000        3470.000000         1340.000000  "
      ]
     },
     "execution_count": 11,
     "metadata": {},
     "output_type": "execute_result"
    }
   ],
   "source": [
    "dataset.describe()"
   ]
  },
  {
   "cell_type": "code",
   "execution_count": 12,
   "metadata": {},
   "outputs": [],
   "source": [
    "#np.where(df['uncertainty_score'] > 3, 1, 0)\n",
    "dataset['invest'] = [1 if i < dataset.uncertainty_score.median() else 0 for i in dataset.uncertainty_score]"
   ]
  },
  {
   "cell_type": "code",
   "execution_count": 14,
   "metadata": {},
   "outputs": [
    {
     "data": {
      "text/plain": [
       "0.5"
      ]
     },
     "execution_count": 14,
     "metadata": {},
     "output_type": "execute_result"
    }
   ],
   "source": [
    "dataset['invest'].mean()"
   ]
  },
  {
   "cell_type": "code",
   "execution_count": 16,
   "metadata": {},
   "outputs": [
    {
     "data": {
      "text/plain": [
       "array([0, 0, 1, 1, 1, 1, 1, 1, 1, 0, 1, 0, 1, 0, 0, 0, 0, 1, 0, 1, 0, 1,\n",
       "       1, 1, 0, 1, 0, 0, 0, 0, 1, 1, 0, 1, 0, 0, 1, 0, 1, 1, 1, 0, 1, 0,\n",
       "       1, 0, 1, 1, 0, 0, 0, 0, 0, 1, 1, 1, 1, 0, 0, 0, 0, 0, 1, 1, 0, 1,\n",
       "       0, 1, 0, 1, 1, 1, 1, 1, 0, 1, 1, 0, 1, 0, 0, 0, 1, 0, 1, 1, 0, 0,\n",
       "       0, 0, 1, 0])"
      ]
     },
     "execution_count": 16,
     "metadata": {},
     "output_type": "execute_result"
    }
   ],
   "source": [
    "dataset.loc[:,'invest'].values"
   ]
  },
  {
   "cell_type": "code",
   "execution_count": 32,
   "metadata": {},
   "outputs": [
    {
     "data": {
      "text/html": [
       "<div>\n",
       "<style scoped>\n",
       "    .dataframe tbody tr th:only-of-type {\n",
       "        vertical-align: middle;\n",
       "    }\n",
       "\n",
       "    .dataframe tbody tr th {\n",
       "        vertical-align: top;\n",
       "    }\n",
       "\n",
       "    .dataframe thead th {\n",
       "        text-align: right;\n",
       "    }\n",
       "</style>\n",
       "<table border=\"1\" class=\"dataframe\">\n",
       "  <thead>\n",
       "    <tr style=\"text-align: right;\">\n",
       "      <th></th>\n",
       "      <th>company_name</th>\n",
       "      <th>count_tokens</th>\n",
       "      <th>average_sentence_length</th>\n",
       "      <th>percentage_complex_word</th>\n",
       "      <th>positive_score</th>\n",
       "      <th>negative_score</th>\n",
       "      <th>uncertainty_score</th>\n",
       "      <th>constraining_score</th>\n",
       "      <th>invest</th>\n",
       "    </tr>\n",
       "  </thead>\n",
       "  <tbody>\n",
       "    <tr>\n",
       "      <th>ABN_AMRO_Group_(2018).pdf</th>\n",
       "      <td>ABN_AMRO_Group</td>\n",
       "      <td>106119</td>\n",
       "      <td>106119</td>\n",
       "      <td>0.304931</td>\n",
       "      <td>834</td>\n",
       "      <td>1401</td>\n",
       "      <td>1728</td>\n",
       "      <td>686</td>\n",
       "      <td>0</td>\n",
       "    </tr>\n",
       "    <tr>\n",
       "      <th>AGNC_Investment_(2018).pdf</th>\n",
       "      <td>AGNC_Investment</td>\n",
       "      <td>47122</td>\n",
       "      <td>47122</td>\n",
       "      <td>0.301091</td>\n",
       "      <td>297</td>\n",
       "      <td>858</td>\n",
       "      <td>963</td>\n",
       "      <td>412</td>\n",
       "      <td>0</td>\n",
       "    </tr>\n",
       "    <tr>\n",
       "      <th>A_G_Barr_(2018).pdf</th>\n",
       "      <td>A_G_Barr</td>\n",
       "      <td>54311</td>\n",
       "      <td>54311</td>\n",
       "      <td>0.272947</td>\n",
       "      <td>662</td>\n",
       "      <td>461</td>\n",
       "      <td>457</td>\n",
       "      <td>230</td>\n",
       "      <td>1</td>\n",
       "    </tr>\n",
       "    <tr>\n",
       "      <th>Aboitiz_Power_(2018).pdf</th>\n",
       "      <td>Aboitiz_Power</td>\n",
       "      <td>68940</td>\n",
       "      <td>68940</td>\n",
       "      <td>0.261053</td>\n",
       "      <td>262</td>\n",
       "      <td>529</td>\n",
       "      <td>425</td>\n",
       "      <td>224</td>\n",
       "      <td>1</td>\n",
       "    </tr>\n",
       "    <tr>\n",
       "      <th>Acer_(2018).pdf</th>\n",
       "      <td>Acer</td>\n",
       "      <td>89820</td>\n",
       "      <td>89820</td>\n",
       "      <td>0.327533</td>\n",
       "      <td>684</td>\n",
       "      <td>1134</td>\n",
       "      <td>572</td>\n",
       "      <td>443</td>\n",
       "      <td>1</td>\n",
       "    </tr>\n",
       "  </tbody>\n",
       "</table>\n",
       "</div>"
      ],
      "text/plain": [
       "                               company_name  count_tokens  \\\n",
       "ABN_AMRO_Group_(2018).pdf    ABN_AMRO_Group        106119   \n",
       "AGNC_Investment_(2018).pdf  AGNC_Investment         47122   \n",
       "A_G_Barr_(2018).pdf                A_G_Barr         54311   \n",
       "Aboitiz_Power_(2018).pdf      Aboitiz_Power         68940   \n",
       "Acer_(2018).pdf                        Acer         89820   \n",
       "\n",
       "                            average_sentence_length  percentage_complex_word  \\\n",
       "ABN_AMRO_Group_(2018).pdf                    106119                 0.304931   \n",
       "AGNC_Investment_(2018).pdf                    47122                 0.301091   \n",
       "A_G_Barr_(2018).pdf                           54311                 0.272947   \n",
       "Aboitiz_Power_(2018).pdf                      68940                 0.261053   \n",
       "Acer_(2018).pdf                               89820                 0.327533   \n",
       "\n",
       "                            positive_score  negative_score  uncertainty_score  \\\n",
       "ABN_AMRO_Group_(2018).pdf              834            1401               1728   \n",
       "AGNC_Investment_(2018).pdf             297             858                963   \n",
       "A_G_Barr_(2018).pdf                    662             461                457   \n",
       "Aboitiz_Power_(2018).pdf               262             529                425   \n",
       "Acer_(2018).pdf                        684            1134                572   \n",
       "\n",
       "                            constraining_score  invest  \n",
       "ABN_AMRO_Group_(2018).pdf                  686       0  \n",
       "AGNC_Investment_(2018).pdf                 412       0  \n",
       "A_G_Barr_(2018).pdf                        230       1  \n",
       "Aboitiz_Power_(2018).pdf                   224       1  \n",
       "Acer_(2018).pdf                            443       1  "
      ]
     },
     "execution_count": 32,
     "metadata": {},
     "output_type": "execute_result"
    }
   ],
   "source": [
    "dataset.head()"
   ]
  },
  {
   "cell_type": "markdown",
   "metadata": {},
   "source": [
    "---\n",
    "### 3.2.1. Classifiers\n",
    "<a id=\"3.2.1\">"
   ]
  },
  {
   "cell_type": "markdown",
   "metadata": {},
   "source": [
    "We invoke the popolar libraries  for Machine learning"
   ]
  },
  {
   "cell_type": "code",
   "execution_count": 17,
   "metadata": {},
   "outputs": [],
   "source": [
    "from sklearn import model_selection, preprocessing, linear_model, naive_bayes, metrics, svm\n",
    "from sklearn.feature_extraction.text import TfidfVectorizer, CountVectorizer\n",
    "from sklearn import decomposition, ensemble\n",
    "\n",
    "import pandas, xgboost, numpy, textblob, string"
   ]
  },
  {
   "cell_type": "code",
   "execution_count": null,
   "metadata": {},
   "outputs": [],
   "source": []
  },
  {
   "cell_type": "code",
   "execution_count": 21,
   "metadata": {},
   "outputs": [
    {
     "name": "stderr",
     "output_type": "stream",
     "text": [
      "/Users/pedrohserrano/anaconda3/envs/py37/lib/python3.7/site-packages/sklearn/utils/validation.py:595: DataConversionWarning: Data with input dtype int64 was converted to float64 by StandardScaler.\n",
      "  warnings.warn(msg, DataConversionWarning)\n",
      "/Users/pedrohserrano/anaconda3/envs/py37/lib/python3.7/site-packages/sklearn/utils/validation.py:595: DataConversionWarning: Data with input dtype int64 was converted to float64 by StandardScaler.\n",
      "  warnings.warn(msg, DataConversionWarning)\n",
      "/Users/pedrohserrano/anaconda3/envs/py37/lib/python3.7/site-packages/sklearn/utils/validation.py:595: DataConversionWarning: Data with input dtype int64 was converted to float64 by StandardScaler.\n",
      "  warnings.warn(msg, DataConversionWarning)\n"
     ]
    }
   ],
   "source": [
    "# Importing the dataset\n",
    "X = dataset.loc[:, ['count_tokens','constraining_score', 'negative_score']].values\n",
    "y = dataset.loc[:,'invest'].values\n",
    "\n",
    "# Splitting the dataset into the Training set and Test set\n",
    "from sklearn.model_selection import train_test_split\n",
    "X_train, X_test, y_train, y_test = train_test_split(X, y, test_size = 0.25, random_state = 0)\n",
    "\n",
    "# label encode the target variable \n",
    "encoder = preprocessing.LabelEncoder()\n",
    "y_train = encoder.fit_transform(y_train)\n",
    "y_test = encoder.fit_transform(y_test)\n",
    "\n",
    "# Feature Scaling\n",
    "from sklearn.preprocessing import StandardScaler\n",
    "sc = StandardScaler()\n",
    "X_train = sc.fit_transform(X_train)\n",
    "X_test = sc.transform(X_test)"
   ]
  },
  {
   "cell_type": "code",
   "execution_count": 22,
   "metadata": {},
   "outputs": [],
   "source": [
    "def train_model(classifier, feature_vector_train, label, feature_vector_test, label_test):\n",
    "    # fit the training dataset on the classifier\n",
    "    classifier.fit(feature_vector_train, label)\n",
    "    # predict the labels on validation dataset\n",
    "    predictions = classifier.predict(feature_vector_test)\n",
    "    return metrics.accuracy_score(predictions, label_test)"
   ]
  },
  {
   "cell_type": "code",
   "execution_count": 23,
   "metadata": {},
   "outputs": [
    {
     "name": "stdout",
     "output_type": "stream",
     "text": [
      "RF, Selected variables: 0.9565217391304348\n"
     ]
    },
    {
     "name": "stderr",
     "output_type": "stream",
     "text": [
      "/Users/pedrohserrano/anaconda3/envs/py37/lib/python3.7/site-packages/sklearn/ensemble/forest.py:246: FutureWarning: The default value of n_estimators will change from 10 in version 0.20 to 100 in 0.22.\n",
      "  \"10 in version 0.20 to 100 in 0.22.\", FutureWarning)\n"
     ]
    }
   ],
   "source": [
    "accuracy = train_model(ensemble.RandomForestClassifier(), X_train, y_train, X_test, y_test)\n",
    "print (\"RF, Selected variables: {}\".format(accuracy))"
   ]
  },
  {
   "cell_type": "code",
   "execution_count": null,
   "metadata": {},
   "outputs": [],
   "source": []
  },
  {
   "cell_type": "markdown",
   "metadata": {},
   "source": [
    "---"
   ]
  },
  {
   "cell_type": "code",
   "execution_count": null,
   "metadata": {},
   "outputs": [],
   "source": []
  }
 ],
 "metadata": {
  "kernelspec": {
   "display_name": "Python 3",
   "language": "python",
   "name": "python3"
  },
  "language_info": {
   "codemirror_mode": {
    "name": "ipython",
    "version": 3
   },
   "file_extension": ".py",
   "mimetype": "text/x-python",
   "name": "python",
   "nbconvert_exporter": "python",
   "pygments_lexer": "ipython3",
   "version": "3.7.3"
  }
 },
 "nbformat": 4,
 "nbformat_minor": 2
}
