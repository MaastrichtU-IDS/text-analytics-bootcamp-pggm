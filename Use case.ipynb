{
 "cells": [
  {
   "cell_type": "markdown",
   "metadata": {},
   "source": [
    "# Use case"
   ]
  },
  {
   "cell_type": "markdown",
   "metadata": {},
   "source": [
    "## Building a Recommender System for Responsible Investment\n",
    "---"
   ]
  },
  {
   "cell_type": "markdown",
   "metadata": {},
   "source": [
    "The goal of this assignment is to build a final product that can be used as proof of concept and show the some capabilities that the fields of text mining and NLP can bring.\n",
    "\n",
    "\n",
    "The expected output of this notebook will be an executable computer software which main goal is to rank and recommend the best companies to invest based in your own interpretaton of responsible.\n",
    "\n",
    "\n",
    "1. **Dataset Pipeline** - Executable code that will generate the core dataset\n",
    "2. **Product Pipeline** - Executable code that will generate a rank of companies to invest in"
   ]
  },
  {
   "cell_type": "markdown",
   "metadata": {},
   "source": [
    "Misselanious projects for inspiration:\n",
    "    https://github.com/marrrcin/ml-twitter-sentiment-analysis/blob/develop/twitter_sentiment_analysis.ipynb\n",
    "    https://github.com/ychennay/dso-599-text-analytics-nlp\n",
    "    https://github.com/gyanesh-m/Sentiment-analysis-of-financial-news-data\n",
    "    https://chrisalbon.com\n",
    "    https://towardsdatascience.com/a-complete-exploratory-data-analysis-and-visualization-for-text-data-29fb1b96fb6a"
   ]
  },
  {
   "cell_type": "markdown",
   "metadata": {},
   "source": [
    "---\n",
    "### Example: \n",
    "#### An API of sentiment analysis [text-processing.com/docs/sentiment](https://text-processing.com/docs/sentiment.html)"
   ]
  },
  {
   "cell_type": "code",
   "execution_count": null,
   "metadata": {},
   "outputs": [],
   "source": [
    "curl -d \"text=great\" http://text-processing.com/api/sentiment/"
   ]
  },
  {
   "cell_type": "markdown",
   "metadata": {},
   "source": [
    "---\n",
    "## Part 1: Automation of core dataset creation"
   ]
  },
  {
   "cell_type": "markdown",
   "metadata": {},
   "source": [
    "The objective is to generate an executable code that will take raw text files where each text file is a company report and the output will be a clean and enriched dataset"
   ]
  },
  {
   "cell_type": "markdown",
   "metadata": {},
   "source": [
    "---\n",
    "## Part 2: Recommender system creation"
   ]
  },
  {
   "cell_type": "markdown",
   "metadata": {},
   "source": [
    "|Take into account the sentiment, then the similarity score"
   ]
  },
  {
   "cell_type": "markdown",
   "metadata": {},
   "source": [
    "Open edgar setsup a database for research proposes and querying edgar filings through a python library \n",
    "https://github.com/LexPredict/openedgar/blob/master/INSTALL.md\n",
    "\n",
    "Publication \n",
    "https://arxiv.org/pdf/1806.04973.pdf"
   ]
  },
  {
   "cell_type": "code",
   "execution_count": null,
   "metadata": {},
   "outputs": [],
   "source": []
  }
 ],
 "metadata": {
  "kernelspec": {
   "display_name": "Python 3",
   "language": "python",
   "name": "python3"
  },
  "language_info": {
   "codemirror_mode": {
    "name": "ipython",
    "version": 3
   },
   "file_extension": ".py",
   "mimetype": "text/x-python",
   "name": "python",
   "nbconvert_exporter": "python",
   "pygments_lexer": "ipython3",
   "version": "3.7.3"
  },
  "nteract": {
   "version": "0.15.0"
  }
 },
 "nbformat": 4,
 "nbformat_minor": 2
}
