{
 "cells": [
  {
   "cell_type": "markdown",
   "metadata": {},
   "source": [
    "## Bootcamp Text Mining"
   ]
  },
  {
   "cell_type": "code",
   "execution_count": null,
   "metadata": {},
   "outputs": [],
   "source": []
  },
  {
   "cell_type": "markdown",
   "metadata": {},
   "source": [
    "- I should start with the family of AI and TEXT\n",
    "- 80 percent of the info is unstructured text\n",
    "\n",
    "- we are doing text mining (processing text to numbers)\n",
    "- we are not doing nlp, because simulates the human ability to understand a natural language (chatbots, alexa, siri, etc) ..... some people will ask why are we not doing this and I will respond that requieres a lot of implememetation time and knowledge and the application are sector specifi, so an example is a company (APG) who invested in chatbot, and was not reliable, wheter a less sexy technology (grapg database) was better\n",
    "- what are ontologies and graph databases\n",
    "---\n",
    "Topics in text mining\n",
    "1. Search and matching\n",
    "2. Preprocessing (convert to numbers)\n",
    "3. Feature extraction, (feature reduction)"
   ]
  },
  {
   "cell_type": "markdown",
   "metadata": {},
   "source": [
    "Open edgar setsup a database for research proposes and querying edgar filings through a python library \n",
    "https://github.com/LexPredict/openedgar/blob/master/INSTALL.md\n",
    "\n",
    "Publication \n",
    "https://arxiv.org/pdf/1806.04973.pdf"
   ]
  },
  {
   "cell_type": "markdown",
   "metadata": {},
   "source": [
    "---\n",
    "A Central Index Key or CIK number is a number given to an individual, company, or foreign government by the United States Securities and Exchange Commission. The number is used to identify its filings in several online databases, including EDGAR.\n",
    "\n",
    "The numbers are ten digits in length."
   ]
  },
  {
   "cell_type": "markdown",
   "metadata": {},
   "source": [
    "tempttative topics from the lecture\n",
    "\n",
    "http://www.whartonwrds.com/wp-content/uploads/2018/08/Fintech-and-Financial-Big-Data-Analytics.pdf\n",
    "    \n",
    "• Introduction to Financial News and Textual Analytics\n",
    "• Foundations of Sentiment Analysis\n",
    "• Financial Lexicon: Essential Step for Financial Applications\n",
    "• Overview of Corporate Regulatory Disclosures and SEC Filings Repository • Demo of SEC’s EDGAR and WRDS SEC Analytics database\n",
    "• Application: Sentiment Analysis on Valeant Pharmaceuticals’ SEC Filings"
   ]
  },
  {
   "cell_type": "code",
   "execution_count": null,
   "metadata": {},
   "outputs": [],
   "source": [
    "#Techniques and Applications for Sentiment Analysis\n",
    "#https://www.youtube.com/watch?v=QXlCAFPtmbg|"
   ]
  },
  {
   "cell_type": "markdown",
   "metadata": {},
   "source": [
    "- sentiment analysis: Sentiment analysis is a subfield within: • Textual analysis\n",
    "• Natural language processing\n",
    "• Content analysis\n",
    "• Computational linguistics\n",
    "Increased interest attributable to:\n",
    "• Bigger, faster computers→faster processing of data (HFTs)\n",
    "• Availability of large quantities of text→better interpretation of information\n",
    "• New technologies derived from search engines→improve quality of information\n",
    "\n",
    "early financial sentiment analysis  \n",
    "https://www.jstor.org/stable/4622297?seq=1#metadata_info_tab_contents\n",
    "\n",
    "---\n",
    "\n",
    "- Is not enough on the words level, context is needed  \n",
    "- Stock prediction is a concurrent application of text mining to give scores (financial sentiments) and trade\n",
    "\n",
    "Automatic analysis of news and textual information of companies, regardless of the source\n",
    "• Automate news analysis: Contents and Tone\n",
    "• Measurement of qualitative and quantitative attributes of these news: • Major attributes: Sentiment, Relevance, Novelty\n",
    "• Other attributes: entity recognition, event categories, etc.\n",
    "\n",
    "---\n",
    "\n",
    "- The lexicon (dictionare) is domain specific, some serious customization need to be in place\n",
    "- You have also events (predicates) we can say that is organization events, on an unsupervised approach\n",
    "https://pdfs.semanticscholar.org/a9b7/bf3e34c1a0235d07d423eb9d0c3b46c630e5.pdf\n",
    "- more applications; better interfaces, product reviews, plotting happines of the world (hedenometer) http://hedonometer.org/index.html, flow  of informarion and dispersion rate, depression detection \n",
    "- http://www.wjh.harvard.edu/~inquirer/\n",
    "now we go more into emotions analysis, \n",
    "of course, we have sarcasm, metaphor, text speak\n",
    "\n",
    "---\n",
    "\n",
    "- we have NLTK the widest resrouce for text processing, tokenization, stemming (plurals to singulars) , tagging, from startnford, it has already corpus, name entity recognition\n",
    "- the sentinent is in the adjective (most of the time\n",
    "- sentoment dictionaries (SnticNet, AFINN-111, SentiWordNet) other modules, TextBlob (native classifier(, NLTK"
   ]
  },
  {
   "cell_type": "markdown",
   "metadata": {},
   "source": [
    "Examples of Data Sources\n",
    "Corporate Reports  \n",
    "• SEC’s EDGAR: 1994-2015, 15+ million filings, annual and quarterly reports\n",
    "• Regulatory disclosures: annual and interim filings (10-K and 10-Q), correspondences, IPO registration statements, etc.\n",
    "• Company Announcements: Websites, SEC 8-K filings, news feeds\n",
    "\n",
    "News: Newswires, articles, blogs...  \n",
    "• WSJ News Archive: XML encapsulated, 2000 - present\n",
    "• SEC’s Current Report filings (8-K): any material new information\n",
    "• Audio transcripts of conference calls by top executives, earnings announcements..\n",
    "• Analyst ratings and research reports, investor surveys, investors’ activism campaigns\n",
    "\n",
    "Social Media, other sources  \n",
    "• Twitter, Stocktwits, message boards, websites\n",
    "• Google searches (Google Analytics)\n",
    "• Patent Applications: http://patft.uspto.gov/netahtml/PTO/search-adv.htm and https://patents.google.com/"
   ]
  },
  {
   "cell_type": "markdown",
   "metadata": {},
   "source": [
    "---\n",
    "Basic concepts  \n",
    "• Corpus: dataset or collection of textual data/files/reports to analyze  \n",
    "• Dictionary: classification of important words into sentiment categories (positive,\n",
    "negative, risk, etc.), aka bag of words, sentiment lexicon, word categorization  \n",
    "• Syntax: the way words are grouped together into larger constituents and phrases and the way these phrases can be ordered  \n",
    "• Morphology: the way words are formed  \n",
    "• Semantics: the context-independent ‘meaning’ of utterances  \n",
    "• Pragmatics: the context-dependent ‘meaning’ of utterances  \n",
    "• Entity/Aspect /Features: textual content map with related entities and their attributes, components and characteristics  "
   ]
  },
  {
   "cell_type": "code",
   "execution_count": null,
   "metadata": {},
   "outputs": [],
   "source": []
  }
 ],
 "metadata": {
  "kernelspec": {
   "display_name": "Python 3",
   "language": "python",
   "name": "python3"
  },
  "language_info": {
   "codemirror_mode": {
    "name": "ipython",
    "version": 3
   },
   "file_extension": ".py",
   "mimetype": "text/x-python",
   "name": "python",
   "nbconvert_exporter": "python",
   "pygments_lexer": "ipython3",
   "version": "3.7.3"
  }
 },
 "nbformat": 4,
 "nbformat_minor": 2
}
