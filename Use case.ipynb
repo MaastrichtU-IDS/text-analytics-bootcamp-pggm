{
 "cells": [
  {
   "cell_type": "markdown",
   "metadata": {},
   "source": [
    "# Use case"
   ]
  },
  {
   "cell_type": "markdown",
   "metadata": {},
   "source": [
    "## Building a Recommender System for Responsible Investment\n",
    "---"
   ]
  },
  {
   "cell_type": "markdown",
   "metadata": {},
   "source": [
    "The goal of this assignment is to build a final product that can be used as proof of concept and show some capabilities in the fields of text mining and NLP can bring.\n",
    "\n",
    "\n",
    "The expected output of this notebook will be executable computer software whose main goal is to rank and recommend the best companies to invest based on your own interpretation of responsibility.\n",
    "\n",
    "\n",
    "1. **Dataset Pipeline** - Executable code that will generate the core dataset\n",
    "2. **Product Pipeline** - Executable code that will generate a prediction/rank/probability score of companies to invest in"
   ]
  },
  {
   "cell_type": "markdown",
   "metadata": {},
   "source": [
    "Misselanious projects for inspiration:\n",
    "- [Twitter sentiment analysis](https://github.com/marrrcin/ml-twitter-sentiment-analysis/blob/develop/twitter_sentiment_analysis.ipynb)\n",
    "- [Sentiment analysis financial news](https://github.com/gyanesh-m/Sentiment-analysis-of-financial-news-data)\n",
    "- [EDA for text](https://towardsdatascience.com/a-complete-exploratory-data-analysis-and-visualization-for-text-data-29fb1b96fb6a)\n",
    "\n",
    "Resources\n",
    "- [Text analytics NLP](https://github.com/ychennay/dso-599-text-analytics-nlp)\n",
    "- [Data science recipies](https://chrisalbon.com)"
   ]
  },
  {
   "cell_type": "markdown",
   "metadata": {},
   "source": [
    "---\n",
    "### Examples: \n",
    "- An API for sentiment analysis [text-processing.com](https://text-processing.com/docs/sentiment.html)\n",
    "- [A Text classsifier using Flask](https://www.bogotobogo.com/python/Flask/Python_Flask_Embedding_Machine_Learning_3.php) and [Githib repo](https://github.com/Einsteinish/ahaman-Flask-with-Machine-Learning-Sentiment-Analysis)\n",
    "- [SPAM classification with UI](https://heartbeat.fritz.ai/deploying-a-text-classification-model-using-flask-and-vue-js-25b9aa7ff048)|"
   ]
  },
  {
   "cell_type": "markdown",
   "metadata": {},
   "source": [
    "---\n",
    "#### Part 1: Automation of core dataset creation"
   ]
  },
  {
   "cell_type": "markdown",
   "metadata": {},
   "source": [
    "The objective is to generate an executable code that will take raw text files where each text file is a company report and the output will be a clean and enriched dataset"
   ]
  },
  {
   "cell_type": "markdown",
   "metadata": {},
   "source": [
    "---\n",
    "#### Part 2: Text data analysis"
   ]
  },
  {
   "cell_type": "markdown",
   "metadata": {},
   "source": [
    "The objective is to discover new insights hidden in the text data, you aim to create a narrative around the pipeline such that any reader could understand the rationale behind scoring financial sentiments"
   ]
  },
  {
   "cell_type": "markdown",
   "metadata": {},
   "source": [
    "---\n",
    "#### Part 3: Recommender system creation"
   ]
  },
  {
   "cell_type": "markdown",
   "metadata": {},
   "source": [
    "The objective is to recomend a company or set of companies that fits better on your investment strategy, with merely text data from annual reports."
   ]
  }
 ],
 "metadata": {
  "kernelspec": {
   "display_name": "Python 3",
   "language": "python",
   "name": "python3"
  },
  "language_info": {
   "codemirror_mode": {
    "name": "ipython",
    "version": 3
   },
   "file_extension": ".py",
   "mimetype": "text/x-python",
   "name": "python",
   "nbconvert_exporter": "python",
   "pygments_lexer": "ipython3",
   "version": "3.7.3"
  },
  "nteract": {
   "version": "0.15.0"
  }
 },
 "nbformat": 4,
 "nbformat_minor": 2
}
