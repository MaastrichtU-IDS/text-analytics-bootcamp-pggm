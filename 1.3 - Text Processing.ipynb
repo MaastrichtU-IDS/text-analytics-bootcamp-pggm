{
  "cells": [
    {
      "cell_type": "markdown",
      "source": [
        "#### PGGM Bootcamp Text Analytics 2020\n",
        "*Notebook by [Pedro V Hernandez Serrano](https://github.com/pedrohserrano)*"
      ],
      "metadata": {
        "slideshow": {
          "slide_type": "slide"
        }
      }
    },
    {
      "cell_type": "markdown",
      "source": [
        "---\n",
        "![](images/1_3.png)"
      ],
      "metadata": {}
    },
    {
      "cell_type": "markdown",
      "source": [
        "# 1.3 Text Processing\n",
        "* [1.3.1. Data cleaning](#1.3.1)\n",
        "* [1.3.2. Corpus organization](#1.3.2)\n",
        "* [1.3.3. Document-Term Matrix](#1.3.3)\n",
        "\n",
        "---"
      ],
      "metadata": {}
    },
    {
      "cell_type": "markdown",
      "source": [
        "- Data cleaning is a time consuming and unenjoyable task, yet it's a very important one. \n",
        "- Keep in mind, \"garbage in, garbage out\". \n",
        "- Feeding dirty data into a model will give us results that are meaningless.\n",
        "\n",
        "Specifically, we'll be walking through:\n",
        "\n",
        "1. **Getting the data - **in this case, the data we scraped from EDGAR filings\n",
        "2. **Cleaning the data - **we will walk through popular techniques\n",
        "3. **Organizing the data - **we will organize the cleaned data into a way that is easy to input into other algorithms"
      ],
      "metadata": {}
    },
    {
      "cell_type": "markdown",
      "source": [
        "The output of this notebook will be clean, organized data in two standard text formats:\n",
        "\n",
        "1. **Corpus** - a collection of text\n",
        "2. **Document-Term Matrix** - word counts in matrix format"
      ],
      "metadata": {}
    },
    {
      "cell_type": "markdown",
      "source": [
        "**Common data cleaning steps on all text:**\n",
        "* Make text all lower case\n",
        "* Remove punctuation\n",
        "* Remove or transform numerical values\n",
        "* Remove common non-sensical text (/n)\n",
        "* Remove stop words"
      ],
      "metadata": {}
    },
    {
      "cell_type": "markdown",
      "source": [
        "**NLP processing after tokenization:**\n",
        "* Stemming / lemmatization\n",
        "* Parts of speech tagging\n",
        "* Create bi-grams or tri-grams\n",
        "* Deal with typos\n",
        "* And more...\n",
        "(to be discussed in the second section)"
      ],
      "metadata": {}
    },
    {
      "cell_type": "markdown",
      "source": [
        "### Reading saved data"
      ],
      "metadata": {}
    },
    {
      "cell_type": "code",
      "source": [
        "import pandas as pd\n",
        "import pickle"
      ],
      "outputs": [],
      "execution_count": null,
      "metadata": {}
    },
    {
      "cell_type": "code",
      "source": [
        "df = pd.read_csv('datasets/table_companies_80.csv',sep='\\t')"
      ],
      "outputs": [],
      "execution_count": null,
      "metadata": {}
    },
    {
      "cell_type": "code",
      "source": [
        "df.head()"
      ],
      "outputs": [],
      "execution_count": null,
      "metadata": {}
    },
    {
      "cell_type": "code",
      "source": [
        "# get a list of only tickers\n",
        "tickers = list(df['ticker'])"
      ],
      "outputs": [],
      "execution_count": null,
      "metadata": {}
    },
    {
      "cell_type": "code",
      "source": [
        "# Load pickled files in series\n",
        "data = {}\n",
        "for i, t in enumerate(tickers):\n",
        "    with open(\"reports/\" + t + \".txt\", \"rb\") as file:\n",
        "        data[t] = pickle.load(file)"
      ],
      "outputs": [],
      "execution_count": null,
      "metadata": {
        "collapsed": true
      }
    },
    {
      "cell_type": "code",
      "source": [
        "len(df) == len(data)"
      ],
      "outputs": [],
      "execution_count": null,
      "metadata": {}
    },
    {
      "cell_type": "markdown",
      "source": [
        "**The way the data is now living in a dictionary where one can access via the ticker!!**"
      ],
      "metadata": {}
    },
    {
      "cell_type": "code",
      "source": [
        "# Print the first 800 caracters of the report\n",
        "# NOTE: print the whole document in a cell might not be a good idea!!\n",
        "print(data['ARX'][:800])"
      ],
      "outputs": [],
      "execution_count": null,
      "metadata": {}
    },
    {
      "cell_type": "markdown",
      "source": [
        "---\n",
        "### 1.3.1. Data cleaning\n",
        "<a id=\"1.3.1\">"
      ],
      "metadata": {}
    },
    {
      "cell_type": "markdown",
      "source": [
        "When dealing with numerical data, data cleaning often involves removing null values and duplicate data, dealing with outliers, etc. With text data, there are some common data cleaning techniques, which are also known as text pre-processing techniques.\n",
        "\n",
        "Note that his cleaning process can go on forever. There's always an exception to every cleaning step. So, we're going to follow the MVP (minimum viable product) approach - start simple and iterate."
      ],
      "metadata": {}
    },
    {
      "cell_type": "code",
      "source": [
        "# Let's take a look at our data again\n",
        "data.keys()"
      ],
      "outputs": [],
      "execution_count": null,
      "metadata": {}
    },
    {
      "cell_type": "code",
      "source": [
        "# Pandas friendly dictionary form\n",
        "data_formatted = {key: [value] for (key, value) in data.items()}"
      ],
      "outputs": [],
      "execution_count": null,
      "metadata": {}
    },
    {
      "cell_type": "code",
      "source": [
        "# We can either keep it in dictionary format or put it into a pandas dataframe\n",
        "pd.set_option('max_colwidth',1000)\n",
        "data_df = pd.DataFrame.from_dict(data_formatted).transpose()"
      ],
      "outputs": [],
      "execution_count": null,
      "metadata": {}
    },
    {
      "cell_type": "code",
      "source": [
        "data_df.columns = ['report']\n",
        "data_df = data_df.sort_index()\n",
        "data_df.head()"
      ],
      "outputs": [],
      "execution_count": null,
      "metadata": {}
    },
    {
      "cell_type": "code",
      "source": [
        "# Let's take a look at the ARX report\n",
        "print(data_df.report.loc['ARX'][0:800])"
      ],
      "outputs": [],
      "execution_count": null,
      "metadata": {}
    },
    {
      "cell_type": "markdown",
      "source": [
        "<br>\n",
        "Applying a first round of text cleaning techniques"
      ],
      "metadata": {}
    },
    {
      "cell_type": "code",
      "source": [
        "import re\n",
        "import string"
      ],
      "outputs": [],
      "execution_count": null,
      "metadata": {}
    },
    {
      "cell_type": "code",
      "source": [
        "def clean_text_round1(text):\n",
        "    '''Make text lowercase, remove text in square brackets, remove punctuation and remove words containing numbers.'''\n",
        "    text = text.lower()\n",
        "    text = re.sub('\\[.*?\\]', ' ', text)\n",
        "    text = re.sub('[%s]' % re.escape(string.punctuation), ' ', text)\n",
        "    text = re.sub('\\w*\\d\\w*', ' ', text)\n",
        "    return text"
      ],
      "outputs": [],
      "execution_count": null,
      "metadata": {
        "collapsed": true
      }
    },
    {
      "cell_type": "code",
      "source": [
        "# Let's apply and take a look at the updated text\n",
        "data_clean = pd.DataFrame(data_df.report.apply(clean_text_round1))"
      ],
      "outputs": [],
      "execution_count": null,
      "metadata": {}
    },
    {
      "cell_type": "code",
      "source": [
        "data_clean.head()"
      ],
      "outputs": [],
      "execution_count": null,
      "metadata": {}
    },
    {
      "cell_type": "markdown",
      "source": [
        "<br>\n",
        "Applying a second round of text cleaning techniques removing xml stuff"
      ],
      "metadata": {}
    },
    {
      "cell_type": "code",
      "source": [
        "def clean_text_round2(text):\n",
        "    '''Get rid of some additional punctuation and non-sensical text that was missed the first time around.'''\n",
        "    text = re.sub('[‘’“”…]', '', text)\n",
        "    text = re.sub('<.*?>', ' ', text)\n",
        "    text = re.sub('\\\\n', ' ', text) \n",
        "    text = re.sub('\\n', ' ', text) \n",
        "    text = re.sub('\\t', ' ', text) \n",
        "    return text"
      ],
      "outputs": [],
      "execution_count": null,
      "metadata": {
        "collapsed": true
      }
    },
    {
      "cell_type": "code",
      "source": [
        "# Let's take a look at the updated text\n",
        "data_clean = pd.DataFrame(data_clean.report.apply(clean_text_round2))"
      ],
      "outputs": [],
      "execution_count": null,
      "metadata": {}
    },
    {
      "cell_type": "markdown",
      "source": [
        "##### NOTE: we're overwriting the data object each time since we want to make better use of RAM memory"
      ],
      "metadata": {}
    },
    {
      "cell_type": "markdown",
      "source": [
        "<br>\n",
        "How does the report looks like?"
      ],
      "metadata": {}
    },
    {
      "cell_type": "markdown",
      "source": [
        "---\n",
        "### 1.3.2. Corpus organization\n",
        "<a id=\"1.3.2\">"
      ],
      "metadata": {}
    },
    {
      "cell_type": "markdown",
      "source": [
        "*Text Corpus [Wikipedia definition](https://en.wikipedia.org/wiki/Text_corpus)*"
      ],
      "metadata": {}
    },
    {
      "cell_type": "markdown",
      "source": [
        "- We already created a corpus in an earlier step. \n",
        "- The definition of a corpus is a collection of texts\n",
        "- They are all put together neatly in a pandas dataframe here.\n",
        "- The idea is to preserve the corpora in reproducible formats `csv`, `txt`, or `pickle`"
      ],
      "metadata": {}
    },
    {
      "cell_type": "code",
      "source": [
        "data_clean['company_name'] = list(df['name'])"
      ],
      "outputs": [],
      "execution_count": null,
      "metadata": {}
    },
    {
      "cell_type": "code",
      "source": [
        "data_clean.head()"
      ],
      "outputs": [],
      "execution_count": null,
      "metadata": {}
    },
    {
      "cell_type": "code",
      "source": [
        "print(data_clean.report[0][:800])"
      ],
      "outputs": [],
      "execution_count": null,
      "metadata": {}
    },
    {
      "cell_type": "code",
      "source": [
        "# Save the corpus\n",
        "data_clean.to_pickle(\"pickle/EDGAR_corpus.pkl\")"
      ],
      "outputs": [],
      "execution_count": null,
      "metadata": {
        "collapsed": true
      }
    },
    {
      "cell_type": "markdown",
      "source": [
        "---\n",
        "### 1.3.3. Document-Term Matrix\n",
        "<a id=\"1.3.3\">"
      ],
      "metadata": {}
    },
    {
      "cell_type": "markdown",
      "source": [
        "*Document-Term Matrix [Wikipedia definition](https://en.wikipedia.org/wiki/Document-term_matrix)*"
      ],
      "metadata": {}
    },
    {
      "cell_type": "markdown",
      "source": [
        "- For many of the techniques, the text must be tokenized, (broken down into smaller pieces). \n",
        "- The most common tokenization technique is to break down text into words. \n",
        "- We can do this using `scikit-learn`'s `CountVectorizer`, where every row will represent a different document and every column will represent a different word.\n",
        "- In addition, with `CountVectorizer`, we can remove stop words. Stop words are common words that add no additional meaning to text such as 'a', 'the', etc."
      ],
      "metadata": {}
    },
    {
      "cell_type": "code",
      "source": [
        "# CountVectorizer library\n",
        "from sklearn.feature_extraction.text import CountVectorizer"
      ],
      "outputs": [],
      "execution_count": null,
      "metadata": {}
    },
    {
      "cell_type": "code",
      "source": [
        "# Calling the CountVectorizer object and assign deletion of english stop words\n",
        "cv = CountVectorizer(stop_words='english')"
      ],
      "outputs": [],
      "execution_count": null,
      "metadata": {}
    },
    {
      "cell_type": "markdown",
      "source": [
        "*See [stop words](https://en.wikipedia.org/wiki/Stop_words)*"
      ],
      "metadata": {}
    },
    {
      "cell_type": "markdown",
      "source": [
        "`CountVectorizer` object has 2 main methods\n",
        "- `fit_transform`\n",
        "- `get_feature_names`"
      ],
      "metadata": {}
    },
    {
      "cell_type": "code",
      "source": [
        "data_cv = cv.fit_transform(data_clean.report)\n",
        "data_tokens = cv.get_feature_names()"
      ],
      "outputs": [],
      "execution_count": null,
      "metadata": {}
    },
    {
      "cell_type": "markdown",
      "source": [
        "<br>\n",
        "Having the elements simply just create dataframe using `pandas`"
      ],
      "metadata": {}
    },
    {
      "cell_type": "code",
      "source": [
        "data_matrix = pd.DataFrame(data_cv.toarray(), columns=data_tokens)\n",
        "data_matrix.index = data_clean.index"
      ],
      "outputs": [],
      "execution_count": null,
      "metadata": {}
    },
    {
      "cell_type": "code",
      "source": [
        "data_matrix.head()"
      ],
      "outputs": [],
      "execution_count": null,
      "metadata": {}
    },
    {
      "cell_type": "markdown",
      "source": [
        "<br>\n",
        "We can now dump the files on our binary pickles"
      ],
      "metadata": {}
    },
    {
      "cell_type": "code",
      "source": [
        "data_matrix.to_pickle(\"pickle/EDGAR_matrix.pkl\")"
      ],
      "outputs": [],
      "execution_count": null,
      "metadata": {
        "collapsed": true
      }
    },
    {
      "cell_type": "code",
      "source": [
        "# Let's also pickle the CountVectorizer object\n",
        "pickle.dump(cv, open(\"pickle/EDGAR_cv.pkl\", \"wb\"))"
      ],
      "outputs": [],
      "execution_count": null,
      "metadata": {
        "collapsed": true
      }
    },
    {
      "cell_type": "markdown",
      "source": [
        "---\n",
        "#### *Learn more about CountVectorizer at the official [scikit-learn.org](https://scikit-learn.org/stable/modules/generated/sklearn.feature_extraction.text.CountVectorizer.html) documentation*"
      ],
      "metadata": {}
    }
  ],
  "metadata": {
    "kernelspec": {
      "display_name": "Python 3",
      "language": "python",
      "name": "python3"
    },
    "language_info": {
      "codemirror_mode": {
        "name": "ipython",
        "version": 3
      },
      "file_extension": ".py",
      "mimetype": "text/x-python",
      "name": "python",
      "nbconvert_exporter": "python",
      "pygments_lexer": "ipython3",
      "version": "3.7.3"
    },
    "nteract": {
      "version": "0.15.0"
    },
    "toc": {
      "nav_menu": {},
      "number_sections": true,
      "sideBar": true,
      "skip_h1_title": false,
      "toc_cell": false,
      "toc_position": {},
      "toc_section_display": "block",
      "toc_window_display": false
    },
    "varInspector": {
      "cols": {
        "lenName": 16,
        "lenType": 16,
        "lenVar": 40
      },
      "kernels_config": {
        "python": {
          "delete_cmd_postfix": "",
          "delete_cmd_prefix": "del ",
          "library": "var_list.py",
          "varRefreshCmd": "print(var_dic_list())"
        },
        "r": {
          "delete_cmd_postfix": ") ",
          "delete_cmd_prefix": "rm(",
          "library": "var_list.r",
          "varRefreshCmd": "cat(var_dic_list()) "
        }
      },
      "types_to_exclude": [
        "module",
        "function",
        "builtin_function_or_method",
        "instance",
        "_Feature"
      ],
      "window_display": false
    }
  },
  "nbformat": 4,
  "nbformat_minor": 2
}