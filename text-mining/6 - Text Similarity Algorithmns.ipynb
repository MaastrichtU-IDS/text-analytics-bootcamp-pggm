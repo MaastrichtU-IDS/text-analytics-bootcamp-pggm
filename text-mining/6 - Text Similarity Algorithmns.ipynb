{
 "cells": [
  {
   "cell_type": "markdown",
   "metadata": {},
   "source": [
    "## Text Similarity"
   ]
  },
  {
   "cell_type": "markdown",
   "metadata": {},
   "source": [
    "What is text similarity?  \n",
    "\n",
    "Text similarity has to determine how ‘close’ two pieces of text are both in surface closeness [lexical similarity] and meaning [semantic similarity].  \n",
    "For instance, how similar are the phrases “the cat ate the mouse” with “the mouse ate the cat food” by just looking at the words?\n",
    "On the surface, if you consider only word level similarity, these two phrases appear very similar as 3 of the 4 unique words are an exact overlap. It typically does not take into account the actual meaning behind words or the entire phrase in context.\n",
    "Instead of doing a word for word comparison, we also need to pay attention to context in order to capture more of the semantics. To consider semantic similarity we need to focus on phrase/paragraph levels (or lexical chain level) where a piece of text is broken into a relevant group of related words prior to computing similarity. We know that while the words significantly overlap, these two phrases actually have different meaning.  \n",
    "\n",
    "There is a dependency structure in any sentences:  \n",
    "\n",
    "mouse is the object of ate in the first case and food is the object of ate in the second case\n",
    "Since differences in word order often go hand in hand with differences in meaning (compare the dog bites the man with the man bites the dog), we'd like our sentence embeddings to be sensitive to this variation.\n",
    "\n",
    "But lucky we are, word vectors have evolved over the years to know the difference between record the play vs play the record"
   ]
  },
  {
   "cell_type": "code",
   "execution_count": 15,
   "metadata": {},
   "outputs": [],
   "source": [
    "str1 = \"I am a man. She is a woman.\"\n",
    "str2 = \"\"\"Case C-40/08\n",
    "\n",
    "Asturcom Telecomunicaciones SL\n",
    "\n",
    "v\n",
    "\n",
    "Cristina Rodríguez Nogueira\n",
    "\n",
    "(Reference for a preliminary ruling from the Juzgado de Primera Instancia nº 4 de Bilbao)\n",
    "\n",
    "(Directive 93/13/EEC – Consumer contracts – Unfair arbitration clause – Measure void – Arbitration award which has become final – Enforcement – Whether the national court responsible for enforcement can consider of its own motion whether the unfair arbitration clause is null and void – Principles of equivalence and effectiveness)\n",
    "\"\"\""
   ]
  },
  {
   "cell_type": "code",
   "execution_count": 3,
   "metadata": {},
   "outputs": [
    {
     "name": "stdout",
     "output_type": "stream",
     "text": [
      "0.03125\n"
     ]
    }
   ],
   "source": [
    "def get_jaccard_sim(str1, str2): \n",
    "    a = set(str1.split()) \n",
    "    b = set(str2.split())\n",
    "    c = a.intersection(b)\n",
    "    return float(len(c)) / (len(a) + len(b) - len(c))\n",
    "\n",
    "print(get_jaccard_sim(str1,str2))"
   ]
  },
  {
   "cell_type": "code",
   "execution_count": 17,
   "metadata": {},
   "outputs": [
    {
     "data": {
      "text/plain": [
       "0.025"
      ]
     },
     "execution_count": 17,
     "metadata": {},
     "output_type": "execute_result"
    }
   ],
   "source": [
    "tokens_1 = str1.split()\n",
    "tokens_2 = str2.split()\n",
    "textdistance.jaccard(tokens_1 , tokens_2)\n"
   ]
  },
  {
   "cell_type": "code",
   "execution_count": 18,
   "metadata": {},
   "outputs": [
    {
     "data": {
      "text/plain": [
       "0.0"
      ]
     },
     "execution_count": 18,
     "metadata": {},
     "output_type": "execute_result"
    }
   ],
   "source": [
    "tokens_3 = \"hello new world\".split()\n",
    "textdistance.jaccard(tokens_1 , tokens_3)"
   ]
  },
  {
   "cell_type": "code",
   "execution_count": null,
   "metadata": {},
   "outputs": [],
   "source": []
  },
  {
   "cell_type": "code",
   "execution_count": 19,
   "metadata": {},
   "outputs": [
    {
     "data": {
      "text/plain": [
       "2"
      ]
     },
     "execution_count": 19,
     "metadata": {},
     "output_type": "execute_result"
    }
   ],
   "source": [
    "#https://github.com/life4/textdistance\n",
    "import textdistance\n",
    "\n",
    "textdistance.hamming('test', 'text')\n",
    "# 1\n",
    "\n",
    "textdistance.hamming.distance('test', 'text')\n",
    "# 1\n",
    "\n",
    "textdistance.hamming.similarity('test', 'text')\n",
    "# 3\n",
    "\n",
    "textdistance.hamming.normalized_distance('test', 'text')\n",
    "# 0.25\n",
    "\n",
    "textdistance.hamming.normalized_similarity('test', 'text')\n",
    "# 0.75\n",
    "\n",
    "textdistance.Hamming(qval=2).distance('test', 'text')\n",
    "# 2"
   ]
  },
  {
   "cell_type": "code",
   "execution_count": null,
   "metadata": {},
   "outputs": [],
   "source": []
  }
 ],
 "metadata": {
  "kernelspec": {
   "display_name": "Python 3",
   "language": "python",
   "name": "python3"
  },
  "language_info": {
   "codemirror_mode": {
    "name": "ipython",
    "version": 3
   },
   "file_extension": ".py",
   "mimetype": "text/x-python",
   "name": "python",
   "nbconvert_exporter": "python",
   "pygments_lexer": "ipython3",
   "version": "3.7.3"
  }
 },
 "nbformat": 4,
 "nbformat_minor": 2
}
