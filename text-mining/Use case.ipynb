{
 "cells": [
  {
   "cell_type": "markdown",
   "metadata": {},
   "source": [
    "# Case: Responsable investment recommender system \n",
    "Take into account the sentiment, then the similarity score"
   ]
  },
  {
   "cell_type": "code",
   "execution_count": null,
   "metadata": {},
   "outputs": [],
   "source": []
  },
  {
   "cell_type": "markdown",
   "metadata": {},
   "source": [
    "Open edgar setsup a database for research proposes and querying edgar filings through a python library \n",
    "https://github.com/LexPredict/openedgar/blob/master/INSTALL.md\n",
    "\n",
    "Publication \n",
    "https://arxiv.org/pdf/1806.04973.pdf"
   ]
  },
  {
   "cell_type": "markdown",
   "metadata": {},
   "source": [
    "---\n",
    "A Central Index Key or CIK number is a number given to an individual, company, or foreign government by the United States Securities and Exchange Commission. The number is used to identify its filings in several online databases, including EDGAR.\n",
    "\n",
    "The numbers are ten digits in length."
   ]
  },
  {
   "cell_type": "markdown",
   "metadata": {},
   "source": [
    "tempttative topics from the lecture\n",
    "\n",
    "http://www.whartonwrds.com/wp-content/uploads/2018/08/Fintech-and-Financial-Big-Data-Analytics.pdf\n",
    "    \n",
    "• Introduction to Financial News and Textual Analytics\n",
    "• Foundations of Sentiment Analysis\n",
    "• Financial Lexicon: Essential Step for Financial Applications\n",
    "• Overview of Corporate Regulatory Disclosures and SEC Filings Repository • Demo of SEC’s EDGAR and WRDS SEC Analytics database\n",
    "• Application: Sentiment Analysis on Valeant Pharmaceuticals’ SEC Filings"
   ]
  },
  {
   "cell_type": "code",
   "execution_count": null,
   "metadata": {},
   "outputs": [],
   "source": [
    "#Techniques and Applications for Sentiment Analysis\n",
    "#https://www.youtube.com/watch?v=QXlCAFPtmbg|"
   ]
  },
  {
   "cell_type": "markdown",
   "metadata": {},
   "source": [
    "Examples of Data Sources\n",
    "Corporate Reports  \n",
    "• SEC’s EDGAR: 1994-2015, 15+ million filings, annual and quarterly reports\n",
    "• Regulatory disclosures: annual and interim filings (10-K and 10-Q), correspondences, IPO registration statements, etc.\n",
    "• Company Announcements: Websites, SEC 8-K filings, news feeds\n",
    "\n",
    "News: Newswires, articles, blogs...  \n",
    "• WSJ News Archive: XML encapsulated, 2000 - present\n",
    "• SEC’s Current Report filings (8-K): any material new information\n",
    "• Audio transcripts of conference calls by top executives, earnings announcements..\n",
    "• Analyst ratings and research reports, investor surveys, investors’ activism campaigns\n",
    "\n",
    "Social Media, other sources  \n",
    "• Twitter, Stocktwits, message boards, websites\n",
    "• Google searches (Google Analytics)\n",
    "• Patent Applications: http://patft.uspto.gov/netahtml/PTO/search-adv.htm and https://patents.google.com/"
   ]
  },
  {
   "cell_type": "markdown",
   "metadata": {},
   "source": [
    "---\n",
    "Basic concepts  \n",
    "• Corpus: dataset or collection of textual data/files/reports to analyze  \n",
    "• Dictionary: classification of important words into sentiment categories (positive,\n",
    "negative, risk, etc.), aka bag of words, sentiment lexicon, word categorization  \n",
    "• Syntax: the way words are grouped together into larger constituents and phrases and the way these phrases can be ordered  \n",
    "• Morphology: the way words are formed  \n",
    "• Semantics: the context-independent ‘meaning’ of utterances  \n",
    "• Pragmatics: the context-dependent ‘meaning’ of utterances  \n",
    "• Entity/Aspect /Features: textual content map with related entities and their attributes, components and characteristics  "
   ]
  },
  {
   "cell_type": "code",
   "execution_count": null,
   "metadata": {},
   "outputs": [],
   "source": []
  }
 ],
 "metadata": {
  "kernelspec": {
   "display_name": "Python 3",
   "language": "python",
   "name": "python3"
  },
  "language_info": {
   "codemirror_mode": {
    "name": "ipython",
    "version": 3
   },
   "file_extension": ".py",
   "mimetype": "text/x-python",
   "name": "python",
   "nbconvert_exporter": "python",
   "pygments_lexer": "ipython3",
   "version": "3.7.3"
  },
  "nteract": {
   "version": "0.15.0"
  }
 },
 "nbformat": 4,
 "nbformat_minor": 2
}
