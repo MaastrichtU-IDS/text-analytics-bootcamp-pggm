{
  "cells": [
    {
      "cell_type": "markdown",
      "source": [
        "### Assigment 1"
      ],
      "metadata": {}
    },
    {
      "cell_type": "markdown",
      "source": [
        "# Annual Reports: Text to Data\n",
        "---"
      ],
      "metadata": {}
    },
    {
      "cell_type": "markdown",
      "source": [
        "This notebook goes through a necessary step of any data science project - data cleaning. Data cleaning is a time consuming and unenjoyable task, yet it's a very important one. Keep in mind, \"garbage in, garbage out\". Feeding dirty data into a model will give us results that are meaningless.\n",
        "\n",
        "Specifically, we'll be walking through:\n",
        "\n",
        "1. **Getting the data - **in this case, we'll be scraping data from EDGAR filings\n",
        "2. **Cleaning the data - **we will walk through popular text pre-processing techniques\n",
        "3. **Organizing the data - **we will organize the cleaned data into a way that is easy to input into other algorithms\n",
        "\n",
        "The output of this notebook will be clean, organized data in two standard text formats:\n",
        "\n",
        "1. **Corpus** - a collection of text\n",
        "2. **Document-Term Matrix** - word counts in matrix format"
      ],
      "metadata": {}
    },
    {
      "cell_type": "markdown",
      "source": [
        "## Data Source"
      ],
      "metadata": {}
    },
    {
      "cell_type": "markdown",
      "source": [
        "We aim to get insights from the financial reports of the companies intended to invest\n",
        "Corporate Reports  \n",
        "• SEC’s EDGAR: 1994-2015, 15+ million filings, annual and quarterly reports  \n",
        "• Regulatory disclosures: annual and interim filings (10-K and 10-Q), correspondences, IPO registration statements, etc.  \n",
        "• PGGM Annual reports"
      ],
      "metadata": {}
    },
    {
      "cell_type": "markdown",
      "source": [
        "---\n",
        "## Mining PDFs\n"
      ],
      "metadata": {}
    },
    {
      "cell_type": "code",
      "source": [
        "# from cbcm scrips\n",
        "#!pip install textract"
      ],
      "outputs": [],
      "execution_count": null,
      "metadata": {}
    },
    {
      "cell_type": "code",
      "source": [
        "#Getting the name of one file\n",
        "# Write a function that will create a list of names of files of certain folder"
      ],
      "outputs": [],
      "execution_count": 1,
      "metadata": {}
    },
    {
      "cell_type": "code",
      "source": [
        "import textract"
      ],
      "outputs": [],
      "execution_count": null,
      "metadata": {}
    },
    {
      "cell_type": "code",
      "source": [
        "import os  \n",
        "opath = os.getcwd()  \n",
        "print (\"The current working directory is %s\" % opath)"
      ],
      "outputs": [],
      "execution_count": null,
      "metadata": {}
    },
    {
      "cell_type": "code",
      "source": [
        "path = '../AnnualReports/'"
      ],
      "outputs": [],
      "execution_count": null,
      "metadata": {}
    },
    {
      "cell_type": "code",
      "source": [
        "file_names = []\n",
        "# iterate through all file names found in that path\n",
        "# This option gets all files = !ls AnnualReports\n",
        "for file in os.listdir(path):\n",
        "    # append all files names to a list\n",
        "    if file[0]!='.' and file[-3:]=='pdf': #to handle issue with hidden files and non-pdf files\n",
        "        file_names.append(file)"
      ],
      "outputs": [],
      "execution_count": null,
      "metadata": {}
    },
    {
      "cell_type": "code",
      "source": [
        "#write a function that will read every pdf file and will write to txt"
      ],
      "outputs": [],
      "execution_count": 2,
      "metadata": {}
    },
    {
      "cell_type": "code",
      "source": [
        "extracted_pdfs = []\n",
        "for file_name in file_names: \n",
        "    text = str(textract.process(path+file_name))\n",
        "    # each extracted text is saved in .txt with same file name\n",
        "    file = open(path+file_name+'.txt','w+')\n",
        "    file.write(text)"
      ],
      "outputs": [],
      "execution_count": null,
      "metadata": {}
    },
    {
      "cell_type": "markdown",
      "source": [
        "---\n",
        "## Retrieving files"
      ],
      "metadata": {}
    },
    {
      "cell_type": "code",
      "source": [
        "import pickle\n",
        "annual_report_files = !ls ../AnnualReports/*.txt"
      ],
      "outputs": [],
      "execution_count": 1,
      "metadata": {}
    },
    {
      "cell_type": "code",
      "source": [
        "# Load pickled files\n",
        "data = {}\n",
        "for i, c in enumerate(annual_report_files):\n",
        "    with open(c, \"r\") as file:\n",
        "        data[c[17:-4]] = file.read()"
      ],
      "outputs": [],
      "execution_count": 2,
      "metadata": {}
    },
    {
      "cell_type": "code",
      "source": [
        "len(data.keys())"
      ],
      "outputs": [
        {
          "output_type": "execute_result",
          "execution_count": 3,
          "data": {
            "text/plain": [
              "17"
            ]
          },
          "metadata": {}
        }
      ],
      "execution_count": 3,
      "metadata": {}
    },
    {
      "cell_type": "code",
      "source": [
        "print(data['ABN_AMRO_Group_(2018)'][:1000])"
      ],
      "outputs": [
        {
          "output_type": "stream",
          "name": "stdout",
          "text": [
            "b\"ABN AMRO Bank N.V.ABN AMRO Group N.V. Annual Report 2018\\x0c   \\n\\nTable of contents\\n\\n2Introduction\\n\\nAbout this report \\nKey figures and profile \\nABN AMRO shares \\n\\n2\\n3\\n4\\n\\n5Strategy and \\n\\nperformance\\n6\\nEconomic environment \\n8\\nRegulatory environment \\n10\\nStrategy \\n13\\nGroup performance \\nBusiness performance \\n20\\nResponsibility statement  34\\n\\n35Risk, funding & \\n\\ncapital\\nIntroduction to Risk, \\nfunding &\\xc2\\xa0capital \\n\\nRisk, funding & \\n\\n123Leadership & \\n\\ngovernance\\nIntroduction to Leadership \\n\\n36\\n\\n& governance \\n\\nExecutive Board and \\n\\ncapital\\xc2\\xa0management \\n\\n37\\n\\nExecutive\\xc2\\xa0Committee \\n\\nRisk, funding & \\ncapital\\xc2\\xa0review \\n\\nSupervisory Board \\nReport of the \\n\\n65\\n\\nAdditional risk, funding \\n\\n&\\xc2\\xa0capital\\xc2\\xa0disclosures  116\\n\\nSupervisory\\xc2\\xa0Board \\nGeneral Meeting and \\n\\nshareholder\\xc2\\xa0structure \\nCodes and regulations \\nLegal structure \\nRemuneration report \\n\\n124\\n\\n124\\n128\\n\\n132\\n\\n138\\n141\\n144\\n14\n"
          ]
        }
      ],
      "execution_count": 4,
      "metadata": {}
    },
    {
      "cell_type": "markdown",
      "source": [
        "---\n",
        "## Text data processing"
      ],
      "metadata": {}
    },
    {
      "cell_type": "markdown",
      "source": [
        "When dealing with numerical data, data cleaning often involves removing null values and duplicate data, dealing with outliers, etc. With text data, there are some common data cleaning techniques, which are also known as text pre-processing techniques.\n",
        "\n",
        "With text data, this cleaning process can go on forever. There's always an exception to every cleaning step. So, we're going to follow the MVP (minimum viable product) approach - start simple and iterate. Here are a bunch of things you can do to clean your data. We're going to execute just the common cleaning steps here and the rest can be done at a later point to improve our results.\n",
        "\n",
        "**Common data cleaning steps on all text:**\n",
        "* Make text all lower case\n",
        "* Remove punctuation\n",
        "* Remove numerical values\n",
        "* Remove common non-sensical text (/n)\n",
        "* Tokenize text\n",
        "* Remove stop words\n",
        "\n",
        "**More data cleaning steps after tokenization:**\n",
        "* Stemming / lemmatization\n",
        "* Parts of speech tagging\n",
        "* Create bi-grams or tri-grams\n",
        "* Deal with typos\n",
        "* And more..."
      ],
      "metadata": {}
    },
    {
      "cell_type": "code",
      "source": [
        "# Let's take a look at our data again\n",
        "next(iter(data.keys()))"
      ],
      "outputs": [
        {
          "output_type": "execute_result",
          "execution_count": 5,
          "data": {
            "text/plain": [
              "'ABN_AMRO_Group_(2018)'"
            ]
          },
          "metadata": {}
        }
      ],
      "execution_count": 5,
      "metadata": {}
    },
    {
      "cell_type": "code",
      "source": [
        "# We are going to change this to key: comedian, value: string format\n",
        "def combine_text(list_of_text):\n",
        "    '''Takes a list of text and combines them into one large chunk of text.'''\n",
        "    combined_text = ' '.join(list_of_text)\n",
        "    return combined_text"
      ],
      "outputs": [],
      "execution_count": 6,
      "metadata": {
        "collapsed": true
      }
    },
    {
      "cell_type": "code",
      "source": [
        "#data_combined = {key: [combine_text(value)] for (key, value) in data.items()}\n",
        "data_combined = {key: [value] for (key, value) in data.items()}"
      ],
      "outputs": [],
      "execution_count": 7,
      "metadata": {
        "collapsed": true
      }
    },
    {
      "cell_type": "code",
      "source": [
        "# We can either keep it in dictionary format or put it into a pandas dataframe\n",
        "import pandas as pd\n",
        "pd.set_option('max_colwidth',1000)\n",
        "\n",
        "data_df = pd.DataFrame.from_dict(data_combined).transpose()\n",
        "data_df.columns = ['report']\n",
        "data_df = data_df.sort_index()"
      ],
      "outputs": [],
      "execution_count": 8,
      "metadata": {}
    },
    {
      "cell_type": "code",
      "source": [
        "data_df.head()"
      ],
      "outputs": [
        {
          "output_type": "execute_result",
          "execution_count": 9,
          "data": {
            "text/html": [
              "<div>\n",
              "<style scoped>\n",
              "    .dataframe tbody tr th:only-of-type {\n",
              "        vertical-align: middle;\n",
              "    }\n",
              "\n",
              "    .dataframe tbody tr th {\n",
              "        vertical-align: top;\n",
              "    }\n",
              "\n",
              "    .dataframe thead th {\n",
              "        text-align: right;\n",
              "    }\n",
              "</style>\n",
              "<table border=\"1\" class=\"dataframe\">\n",
              "  <thead>\n",
              "    <tr style=\"text-align: right;\">\n",
              "      <th></th>\n",
              "      <th>report</th>\n",
              "    </tr>\n",
              "  </thead>\n",
              "  <tbody>\n",
              "    <tr>\n",
              "      <th>ABN_AMRO_Group_(2018)</th>\n",
              "      <td>b\"ABN AMRO Bank N.V.ABN AMRO Group N.V. Annual Report 2018\\x0c   \\n\\nTable of contents\\n\\n2Introduction\\n\\nAbout this report \\nKey figures and profile \\nABN AMRO shares \\n\\n2\\n3\\n4\\n\\n5Strategy and \\n\\nperformance\\n6\\nEconomic environment \\n8\\nRegulatory environment \\n10\\nStrategy \\n13\\nGroup performance \\nBusiness performance \\n20\\nResponsibility statement  34\\n\\n35Risk, funding &amp; \\n\\ncapital\\nIntroduction to Risk, \\nfunding &amp;\\xc2\\xa0capital \\n\\nRisk, funding &amp; \\n\\n123Leadership &amp; \\n\\ngovernance\\nIntroduction to Leadership \\n\\n36\\n\\n&amp; governance \\n\\nExecutive Board and \\n\\ncapital\\xc2\\xa0management \\n\\n37\\n\\nExecutive\\xc2\\xa0Committee \\n\\nRisk, funding &amp; \\ncapital\\xc2\\xa0review \\n\\nSupervisory Board \\nReport of the \\n\\n65\\n\\nAdditional risk, funding \\n\\n&amp;\\xc2\\xa0capital\\xc2\\xa0disclosures  116\\n\\nSupervisory\\xc2\\xa0Board \\nGeneral Meeting and \\n\\nshareholder\\xc2\\xa0structure \\nCodes and regulations \\nLegal structure \\nRemuneration report \\n\\n124\\n\\n124\\n128\\n\\n132\\n\\n138\\n141\\n144...</td>\n",
              "    </tr>\n",
              "    <tr>\n",
              "      <th>AGNC_Investment_(2018).pdf</th>\n",
              "      <td>b'Providing Private Capital to the U.S. Housing Market Through\\n\\nINVESTMENT EXCELLENCE\\n\\n2018 ANNUAL REPORT\\n\\n\\x0c\\x0cDEAR FELLOW STOCKHOLDERS:\\n\\n2018 marked a signi\\xef\\xac\\x81cant milestone for AGNC Investment Corp.\\xe2\\x80\\x94our tenth anniversary as a public\\ncompany, which we celebrated by ringing the Nasdaq opening bell on May 15, 2018.\\n\\nPictured (left to right) AGNC\\xe2\\x80\\x99s board of directors as of May 15, 2018: Paul Mullings, Larry Harvey, Gary Kain (Chief Executive\\nO\\xef\\xac\\x83cer and Chief Investment O\\xef\\xac\\x83cer), Prue Larocca (Chair), Morris Davis. Not Pictured: Donna Blank, who became a\\ndirector on December 3, 2018.\\n\\nWhile we remain steadfasff\\nour stockholders, this\\nsigni\\xef\\xac\\x81cant accomplishment provides an opportunity to re\\xef\\xac\\x82ect upon AGNC\\xe2\\x80\\x99s achievements over the past decade:\\n\\nsed on generating attractive long-term returns forff\\n\\ntly focuff\\n\\n\\xe2\\x80\\xa2 Industry-leading total stock and economic returns;\\n\\n\\xe2\\x...</td>\n",
              "    </tr>\n",
              "    <tr>\n",
              "      <th>Acer_(2018).pdf</th>\n",
              "      <td>b'ACER INCORPORTED\\n2018 ANNUAL REPORT\\n\\nPublication Date : April 16, 2019\\n\\n\\x0cAPPENDIX\\n\\n1. Name, Title and Contact Details of Company\\'s Spokespersons:\\n\\nPrincipal \\n\\nMeggy Chen\\n\\nCFO\\n\\n+886-2-2696-1234\\n\\nMeggy.Chen@acer.com\\n\\nDeputy\\n\\nWayne Chang\\n\\nManager\\n\\n+886-2-2719-5000\\n\\nWayne.Chang@acer.com\\n\\n2. Address and Telephone Numbers of Company\\'s Headquarter and Branches\\n\\nOffice\\n\\nAddress\\n\\nTel\\n\\nAcer Inc.\\nRegistered Address\\n\\n7F.-5, No.369, Fuxing N. Rd., Songshan Dist., \\nTaipei City 105, Taiwan  \\n\\n+886-2-2719-5000\\n\\nAcer Inc.\\n(Xizhi Office)\\n\\nAcer Inc.\\n(Hsinchu Branch)\\n\\nAcer Inc.\\n(Taichung Branch)\\n\\n8F., No.88, Sec. 1, Xintai 5th Rd., Xizhi Dist., New \\nTaipei City 221, Taiwan \\n\\n+886-2-2696-1234\\n\\n3F., No.139, Minzu Rd., East Dist., Hsinchu City \\n300, Taiwan\\n\\n+886-3-534-9490\\n\\n3F., No.371, Sec. 1, Wenxin Rd., Nantun Dist., \\nTaichung City 408, Taiwan\\n\\n+886-4-2250-3355\\n\\nAcer Inc.\\n(Kaohsiung Branch)\\n\\n4F.-6, No.38, Xinguang Rd., Ling...</td>\n",
              "    </tr>\n",
              "    <tr>\n",
              "      <th>Autohome_(2018).pdf</th>\n",
              "      <td>b'Table of Contents\\n\\n \\n \\n\\n \\n\\n \\n\\nUNITED STATES\\n\\nSECURITIES AND EXCHANGE COMMISSION\\n\\nWashington, D.C. 20549\\n\\n \\n\\nForm 20-F\\n\\n \\n\\n(Mark One)\\n\\xe2\\x98\\x90 REGISTRATION STATEMENT PURSUANT TO SECTION 12(b) OR 12(g) OF THE SECURITIES EXCHANGE\\n\\nACT OF 1934\\n\\n \\n\\nor\\n\\n\\xe2\\x98\\x92 ANNUAL REPORT PURSUANT TO SECTION 13 OR 15(d) OF THE SECURITIES EXCHANGE ACT OF 1934\\n\\n \\n\\n\\xe2\\x98\\x90 TRANSITION REPORT PURSUANT TO SECTION 13 OR 15(d) OF THE SECURITIES EXCHANGE ACT OF\\n\\nFor the fiscal year ended December 31, 2018.\\n\\nor\\n\\n1934\\n\\n \\n\\nFor the transition period from                      to                     \\n\\nor\\n\\n\\xe2\\x98\\x90 SHELL COMPANY REPORT PURSUANT TO SECTION 13 OR 15(d) OF THE SECURITIES EXCHANGE ACT\\n\\nOF 1934\\n\\n \\n\\n \\n\\n \\n\\n \\n\\n*\\n\\nDate of event requiring this shell company report                     \\n\\nFor the transition period from                      to                     \\n\\nCommission file number: 001-36222\\n\\n \\n\\nAutohome Inc.\\n\\n(Exact...</td>\n",
              "    </tr>\n",
              "    <tr>\n",
              "      <th>BAIC_Motor_Corporation_(2018).pdf</th>\n",
              "      <td>b'(A joint stock company incorporated in the People\\xe2\\x80\\x99s Republic of China with limited liability)\\nStock code: 1958\\n\\n\\xef\\xbc\\x8a\\n\\nAnnuAl RepoRt\\n2018\\n\\n\\xef\\xbc\\x8a\\n\\n\\xef\\xbc\\x8a\\n  For identification purpose only \\n\\n\\x0cSenova Zhidao\\n\\nONTENTSC\\x0c2\\n\\n4\\n\\n8\\n\\nCorporate Information\\n\\nChairman\\xe2\\x80\\x99s Statement\\n\\nSummary of Financial and Performance \\nInformation\\n\\n11\\n\\nCompany Profile and Business Overview \\n\\n26\\n\\nManagement Discussion and Analysis\\n\\n33\\n\\nReport of the Board of Directors\\n\\n61\\n\\nReport of the Board of Supervisors\\n\\n64\\n\\nCorporate Governance Report\\n\\n82\\n\\nDirectors, Supervisors and Senior Management\\n\\n93\\n\\nHuman Resources\\n\\n94\\n\\nIndependent Auditor\\xe2\\x80\\x99s Report\\n\\n102\\n\\nConsolidated Balance Sheet\\n\\n104\\n\\nConsolidated Statement of Comprehensive Income\\n\\n106\\n\\nConsolidated Statement of Changes in Equity\\n\\n108\\n\\nConsolidated Statement of Cash Flows\\n\\n109\\n\\nNotes to the Consolidated Financial Statements\\n\\n177\\...</td>\n",
              "    </tr>\n",
              "  </tbody>\n",
              "</table>\n",
              "</div>"
            ],
            "text/plain": [
              "                                                                                                                                                                                                                                                                                                                                                                                                                                                                                                                                                                                                                                                                                                                                                                                                                                                                                                                                                                                                                                                                    report\n",
              "ABN_AMRO_Group_(2018)              b\"ABN AMRO Bank N.V.ABN AMRO Group N.V. Annual Report 2018\\x0c   \\n\\nTable of contents\\n\\n2Introduction\\n\\nAbout this report \\nKey figures and profile \\nABN AMRO shares \\n\\n2\\n3\\n4\\n\\n5Strategy and \\n\\nperformance\\n6\\nEconomic environment \\n8\\nRegulatory environment \\n10\\nStrategy \\n13\\nGroup performance \\nBusiness performance \\n20\\nResponsibility statement  34\\n\\n35Risk, funding & \\n\\ncapital\\nIntroduction to Risk, \\nfunding &\\xc2\\xa0capital \\n\\nRisk, funding & \\n\\n123Leadership & \\n\\ngovernance\\nIntroduction to Leadership \\n\\n36\\n\\n& governance \\n\\nExecutive Board and \\n\\ncapital\\xc2\\xa0management \\n\\n37\\n\\nExecutive\\xc2\\xa0Committee \\n\\nRisk, funding & \\ncapital\\xc2\\xa0review \\n\\nSupervisory Board \\nReport of the \\n\\n65\\n\\nAdditional risk, funding \\n\\n&\\xc2\\xa0capital\\xc2\\xa0disclosures  116\\n\\nSupervisory\\xc2\\xa0Board \\nGeneral Meeting and \\n\\nshareholder\\xc2\\xa0structure \\nCodes and regulations \\nLegal structure \\nRemuneration report \\n\\n124\\n\\n124\\n128\\n\\n132\\n\\n138\\n141\\n144...\n",
              "AGNC_Investment_(2018).pdf         b'Providing Private Capital to the U.S. Housing Market Through\\n\\nINVESTMENT EXCELLENCE\\n\\n2018 ANNUAL REPORT\\n\\n\\x0c\\x0cDEAR FELLOW STOCKHOLDERS:\\n\\n2018 marked a signi\\xef\\xac\\x81cant milestone for AGNC Investment Corp.\\xe2\\x80\\x94our tenth anniversary as a public\\ncompany, which we celebrated by ringing the Nasdaq opening bell on May 15, 2018.\\n\\nPictured (left to right) AGNC\\xe2\\x80\\x99s board of directors as of May 15, 2018: Paul Mullings, Larry Harvey, Gary Kain (Chief Executive\\nO\\xef\\xac\\x83cer and Chief Investment O\\xef\\xac\\x83cer), Prue Larocca (Chair), Morris Davis. Not Pictured: Donna Blank, who became a\\ndirector on December 3, 2018.\\n\\nWhile we remain steadfasff\\nour stockholders, this\\nsigni\\xef\\xac\\x81cant accomplishment provides an opportunity to re\\xef\\xac\\x82ect upon AGNC\\xe2\\x80\\x99s achievements over the past decade:\\n\\nsed on generating attractive long-term returns forff\\n\\ntly focuff\\n\\n\\xe2\\x80\\xa2 Industry-leading total stock and economic returns;\\n\\n\\xe2\\x...\n",
              "Acer_(2018).pdf                    b'ACER INCORPORTED\\n2018 ANNUAL REPORT\\n\\nPublication Date : April 16, 2019\\n\\n\\x0cAPPENDIX\\n\\n1. Name, Title and Contact Details of Company\\'s Spokespersons:\\n\\nPrincipal \\n\\nMeggy Chen\\n\\nCFO\\n\\n+886-2-2696-1234\\n\\nMeggy.Chen@acer.com\\n\\nDeputy\\n\\nWayne Chang\\n\\nManager\\n\\n+886-2-2719-5000\\n\\nWayne.Chang@acer.com\\n\\n2. Address and Telephone Numbers of Company\\'s Headquarter and Branches\\n\\nOffice\\n\\nAddress\\n\\nTel\\n\\nAcer Inc.\\nRegistered Address\\n\\n7F.-5, No.369, Fuxing N. Rd., Songshan Dist., \\nTaipei City 105, Taiwan  \\n\\n+886-2-2719-5000\\n\\nAcer Inc.\\n(Xizhi Office)\\n\\nAcer Inc.\\n(Hsinchu Branch)\\n\\nAcer Inc.\\n(Taichung Branch)\\n\\n8F., No.88, Sec. 1, Xintai 5th Rd., Xizhi Dist., New \\nTaipei City 221, Taiwan \\n\\n+886-2-2696-1234\\n\\n3F., No.139, Minzu Rd., East Dist., Hsinchu City \\n300, Taiwan\\n\\n+886-3-534-9490\\n\\n3F., No.371, Sec. 1, Wenxin Rd., Nantun Dist., \\nTaichung City 408, Taiwan\\n\\n+886-4-2250-3355\\n\\nAcer Inc.\\n(Kaohsiung Branch)\\n\\n4F.-6, No.38, Xinguang Rd., Ling...\n",
              "Autohome_(2018).pdf                b'Table of Contents\\n\\n \\n \\n\\n \\n\\n \\n\\nUNITED STATES\\n\\nSECURITIES AND EXCHANGE COMMISSION\\n\\nWashington, D.C. 20549\\n\\n \\n\\nForm 20-F\\n\\n \\n\\n(Mark One)\\n\\xe2\\x98\\x90 REGISTRATION STATEMENT PURSUANT TO SECTION 12(b) OR 12(g) OF THE SECURITIES EXCHANGE\\n\\nACT OF 1934\\n\\n \\n\\nor\\n\\n\\xe2\\x98\\x92 ANNUAL REPORT PURSUANT TO SECTION 13 OR 15(d) OF THE SECURITIES EXCHANGE ACT OF 1934\\n\\n \\n\\n\\xe2\\x98\\x90 TRANSITION REPORT PURSUANT TO SECTION 13 OR 15(d) OF THE SECURITIES EXCHANGE ACT OF\\n\\nFor the fiscal year ended December 31, 2018.\\n\\nor\\n\\n1934\\n\\n \\n\\nFor the transition period from                      to                     \\n\\nor\\n\\n\\xe2\\x98\\x90 SHELL COMPANY REPORT PURSUANT TO SECTION 13 OR 15(d) OF THE SECURITIES EXCHANGE ACT\\n\\nOF 1934\\n\\n \\n\\n \\n\\n \\n\\n \\n\\n*\\n\\nDate of event requiring this shell company report                     \\n\\nFor the transition period from                      to                     \\n\\nCommission file number: 001-36222\\n\\n \\n\\nAutohome Inc.\\n\\n(Exact...\n",
              "BAIC_Motor_Corporation_(2018).pdf  b'(A joint stock company incorporated in the People\\xe2\\x80\\x99s Republic of China with limited liability)\\nStock code: 1958\\n\\n\\xef\\xbc\\x8a\\n\\nAnnuAl RepoRt\\n2018\\n\\n\\xef\\xbc\\x8a\\n\\n\\xef\\xbc\\x8a\\n  For identification purpose only \\n\\n\\x0cSenova Zhidao\\n\\nONTENTSC\\x0c2\\n\\n4\\n\\n8\\n\\nCorporate Information\\n\\nChairman\\xe2\\x80\\x99s Statement\\n\\nSummary of Financial and Performance \\nInformation\\n\\n11\\n\\nCompany Profile and Business Overview \\n\\n26\\n\\nManagement Discussion and Analysis\\n\\n33\\n\\nReport of the Board of Directors\\n\\n61\\n\\nReport of the Board of Supervisors\\n\\n64\\n\\nCorporate Governance Report\\n\\n82\\n\\nDirectors, Supervisors and Senior Management\\n\\n93\\n\\nHuman Resources\\n\\n94\\n\\nIndependent Auditor\\xe2\\x80\\x99s Report\\n\\n102\\n\\nConsolidated Balance Sheet\\n\\n104\\n\\nConsolidated Statement of Comprehensive Income\\n\\n106\\n\\nConsolidated Statement of Changes in Equity\\n\\n108\\n\\nConsolidated Statement of Cash Flows\\n\\n109\\n\\nNotes to the Consolidated Financial Statements\\n\\n177\\..."
            ]
          },
          "metadata": {}
        }
      ],
      "execution_count": 9,
      "metadata": {}
    },
    {
      "cell_type": "code",
      "source": [
        "# Apply a first round of text cleaning techniques\n",
        "import re\n",
        "import string\n",
        "\n",
        "def clean_text_round1(text):\n",
        "    '''Make text lowercase, remove text in square brackets, remove punctuation and remove words containing numbers.'''\n",
        "    text = text.lower()\n",
        "    text = re.sub('\\[.*?\\]', '', text)\n",
        "    text = re.sub('[%s]' % re.escape(string.punctuation), '', text)\n",
        "    text = re.sub('\\w*\\d\\w*', '', text)\n",
        "    return text\n",
        "\n",
        "round1 = lambda x: clean_text_round1(x)"
      ],
      "outputs": [],
      "execution_count": 10,
      "metadata": {
        "collapsed": true
      }
    },
    {
      "cell_type": "code",
      "source": [
        "# Let's take a look at the updated text\n",
        "data_clean = pd.DataFrame(data_df.report.apply(round1))"
      ],
      "outputs": [],
      "execution_count": 11,
      "metadata": {}
    },
    {
      "cell_type": "code",
      "source": [
        "data_clean.head()"
      ],
      "outputs": [
        {
          "output_type": "execute_result",
          "execution_count": 12,
          "data": {
            "text/html": [
              "<div>\n",
              "<style scoped>\n",
              "    .dataframe tbody tr th:only-of-type {\n",
              "        vertical-align: middle;\n",
              "    }\n",
              "\n",
              "    .dataframe tbody tr th {\n",
              "        vertical-align: top;\n",
              "    }\n",
              "\n",
              "    .dataframe thead th {\n",
              "        text-align: right;\n",
              "    }\n",
              "</style>\n",
              "<table border=\"1\" class=\"dataframe\">\n",
              "  <thead>\n",
              "    <tr style=\"text-align: right;\">\n",
              "      <th></th>\n",
              "      <th>report</th>\n",
              "    </tr>\n",
              "  </thead>\n",
              "  <tbody>\n",
              "    <tr>\n",
              "      <th>ABN_AMRO_Group_(2018)</th>\n",
              "      <td>babn amro bank nvabn amro group nv annual report    nntable of  this report nkey figures and profile nabn amro shares  and  environment  environment   performance nbusiness performance  statement   funding  nncapitalnintroduction to risk nfunding  nnrisk funding    nngovernancenintroduction to leadership  governance nnexecutive board and   nnrisk funding   nnsupervisory board nreport of the  risk funding    ngeneral meeting and  ncodes and regulations nlegal structure nremuneration report  financial statements  income statement nconsolidated statement  income nconsolidated statement  nconsolidated statement  nconsolidated statement  nnotes to the consolidated  ncompany financial statements    nother information  statements    amro group annual report  and performancerisk funding  capitalleadershipgovernanceannual financial statementsotherintroductionstrategy and performancerisk funding  capitalleadership  governanceannual financial     about this  this reportnnthis is the annual re...</td>\n",
              "    </tr>\n",
              "    <tr>\n",
              "      <th>AGNC_Investment_(2018).pdf</th>\n",
              "      <td>bproviding private capital to the us housing market throughnninvestment  annual  fellow  marked a  milestone for agnc investment  tenth anniversary as a publicncompany which we celebrated by ringing the nasdaq opening bell on may   left to right  board of directors as of may   paul mullings larry harvey gary kain chief  and chief investment  prue larocca chair morris davis not pictured donna blank who became andirector on december   we remain steadfasffnour stockholders  accomplishment provides an opportunity to  upon  achievements over the past decadennsed on generating attractive longterm returns forffnntly  industryleading total stock and economic   dividends paid to  internalization of management  remarkable growth in equity capital  successful navigation of challenging macroeconomic events economic cycles and interest rate environmentsnna g n c     a n n u a l r e p o r  total stock and economic returnsnsince  inception our primary objective has been to provide our stockholder...</td>\n",
              "    </tr>\n",
              "    <tr>\n",
              "      <th>Acer_(2018).pdf</th>\n",
              "      <td>bacer  annual reportnnpublication date  april   name title and contact details of companys spokespersonsnnprincipal nnmeggy   address and telephone numbers of companys headquarter and branchesnnofficennaddressnntelnnacer incnregistered   fuxing n rd songshan dist ntaipei city  taiwan   incnxizhi officennacer incnhsinchu branchnnacer incntaichung   sec  xintai  rd xizhi dist new ntaipei city  taiwan   minzu rd east dist hsinchu city    sec  wenxin rd nantun dist ntaichung city   incnkaohsiung   xinguang rd lingya dist nkaohsiung city   incnshipping  warehouse nmanagement center  neixin rd luzhu dist taoyuan city   address and contact details of acer shareholders servicesnnaddress    fuxing n rd songshan dist taipei city  taiwan ntel nemail  address and contact details of auditing cpas in the most recent yearnnhueichen chang and tzuchieh tang at kpmgnnname naddress    sec  xinyi rd xinyi dist taipei city  taiwan ntel    overseas securities exchangennlisted market for gdrs london stoc...</td>\n",
              "    </tr>\n",
              "    <tr>\n",
              "      <th>Autohome_(2018).pdf</th>\n",
              "      <td>btable of contentsnn n nn nn nnunited statesnnsecurities and exchange commissionnnwashington dc  nnform  nnmark  registration statement pursuant to section  or  of the securities exchangennact of   annual report pursuant to section  or  of the securities exchange act of   transition report pursuant to section  or  of the securities exchange act ofnnfor the fiscal year ended december   nnfor the transition period from                      to                      shell company report pursuant to section  or  of the securities exchange actnnof  nn nn nn nnnndate of event requiring this shell company report                     nnfor the transition period from                      to                     nncommission file number  nnautohome incnnexact name of registrant as specified in its charternn nnnanntranslation of  name into englishnncayman islandsnnjurisdiction of incorporation or  floor tower b cec  dan ling streetnnhaidian district beijing   republic of chinanaddress of principa...</td>\n",
              "    </tr>\n",
              "    <tr>\n",
              "      <th>BAIC_Motor_Corporation_(2018).pdf</th>\n",
              "      <td>ba joint stock company incorporated in the  republic of china with limited liabilitynstock code    for identification purpose only    statementnnsummary of financial and performance  profile and business overview  discussion and  of the board of  of the board of  governance  supervisors and senior     balance  statement of comprehensive  statement of changes in  statement of cash  to the consolidated financial  motor corporation  unit   floor building no  ncourtyard no  shuanghe street  nshunyi district beijing   headquartersnnno  shuanghe street shunyi district  nbeijing   tower two times square   matheson street causeway bay  nhong   shuanghe street shunyi district  nbeijing   shuanghe street shunyi district  nbeijing   shuanghe street shunyi district  nbeijing   shuanghe street shunyi district  nbeijing   shuanghe street shunyi district  nbeijing  tower two times square   matheson street causeway bay  nhong  tower two times square   matheson street causeway bay  nhong   floor al...</td>\n",
              "    </tr>\n",
              "  </tbody>\n",
              "</table>\n",
              "</div>"
            ],
            "text/plain": [
              "                                                                                                                                                                                                                                                                                                                                                                                                                                                                                                                                                                                                                                                                                                                                                                                                                                                                                                                                                                                                                                                                    report\n",
              "ABN_AMRO_Group_(2018)              babn amro bank nvabn amro group nv annual report    nntable of  this report nkey figures and profile nabn amro shares  and  environment  environment   performance nbusiness performance  statement   funding  nncapitalnintroduction to risk nfunding  nnrisk funding    nngovernancenintroduction to leadership  governance nnexecutive board and   nnrisk funding   nnsupervisory board nreport of the  risk funding    ngeneral meeting and  ncodes and regulations nlegal structure nremuneration report  financial statements  income statement nconsolidated statement  income nconsolidated statement  nconsolidated statement  nconsolidated statement  nnotes to the consolidated  ncompany financial statements    nother information  statements    amro group annual report  and performancerisk funding  capitalleadershipgovernanceannual financial statementsotherintroductionstrategy and performancerisk funding  capitalleadership  governanceannual financial     about this  this reportnnthis is the annual re...\n",
              "AGNC_Investment_(2018).pdf         bproviding private capital to the us housing market throughnninvestment  annual  fellow  marked a  milestone for agnc investment  tenth anniversary as a publicncompany which we celebrated by ringing the nasdaq opening bell on may   left to right  board of directors as of may   paul mullings larry harvey gary kain chief  and chief investment  prue larocca chair morris davis not pictured donna blank who became andirector on december   we remain steadfasffnour stockholders  accomplishment provides an opportunity to  upon  achievements over the past decadennsed on generating attractive longterm returns forffnntly  industryleading total stock and economic   dividends paid to  internalization of management  remarkable growth in equity capital  successful navigation of challenging macroeconomic events economic cycles and interest rate environmentsnna g n c     a n n u a l r e p o r  total stock and economic returnsnsince  inception our primary objective has been to provide our stockholder...\n",
              "Acer_(2018).pdf                    bacer  annual reportnnpublication date  april   name title and contact details of companys spokespersonsnnprincipal nnmeggy   address and telephone numbers of companys headquarter and branchesnnofficennaddressnntelnnacer incnregistered   fuxing n rd songshan dist ntaipei city  taiwan   incnxizhi officennacer incnhsinchu branchnnacer incntaichung   sec  xintai  rd xizhi dist new ntaipei city  taiwan   minzu rd east dist hsinchu city    sec  wenxin rd nantun dist ntaichung city   incnkaohsiung   xinguang rd lingya dist nkaohsiung city   incnshipping  warehouse nmanagement center  neixin rd luzhu dist taoyuan city   address and contact details of acer shareholders servicesnnaddress    fuxing n rd songshan dist taipei city  taiwan ntel nemail  address and contact details of auditing cpas in the most recent yearnnhueichen chang and tzuchieh tang at kpmgnnname naddress    sec  xinyi rd xinyi dist taipei city  taiwan ntel    overseas securities exchangennlisted market for gdrs london stoc...\n",
              "Autohome_(2018).pdf                btable of contentsnn n nn nn nnunited statesnnsecurities and exchange commissionnnwashington dc  nnform  nnmark  registration statement pursuant to section  or  of the securities exchangennact of   annual report pursuant to section  or  of the securities exchange act of   transition report pursuant to section  or  of the securities exchange act ofnnfor the fiscal year ended december   nnfor the transition period from                      to                      shell company report pursuant to section  or  of the securities exchange actnnof  nn nn nn nnnndate of event requiring this shell company report                     nnfor the transition period from                      to                     nncommission file number  nnautohome incnnexact name of registrant as specified in its charternn nnnanntranslation of  name into englishnncayman islandsnnjurisdiction of incorporation or  floor tower b cec  dan ling streetnnhaidian district beijing   republic of chinanaddress of principa...\n",
              "BAIC_Motor_Corporation_(2018).pdf  ba joint stock company incorporated in the  republic of china with limited liabilitynstock code    for identification purpose only    statementnnsummary of financial and performance  profile and business overview  discussion and  of the board of  of the board of  governance  supervisors and senior     balance  statement of comprehensive  statement of changes in  statement of cash  to the consolidated financial  motor corporation  unit   floor building no  ncourtyard no  shuanghe street  nshunyi district beijing   headquartersnnno  shuanghe street shunyi district  nbeijing   tower two times square   matheson street causeway bay  nhong   shuanghe street shunyi district  nbeijing   shuanghe street shunyi district  nbeijing   shuanghe street shunyi district  nbeijing   shuanghe street shunyi district  nbeijing   shuanghe street shunyi district  nbeijing  tower two times square   matheson street causeway bay  nhong  tower two times square   matheson street causeway bay  nhong   floor al..."
            ]
          },
          "metadata": {}
        }
      ],
      "execution_count": 12,
      "metadata": {}
    },
    {
      "cell_type": "code",
      "source": [
        "# Apply a second round of cleaning\n",
        "def clean_text_round2(text):\n",
        "    '''Get rid of some additional punctuation and non-sensical text that was missed the first time around.'''\n",
        "    text = re.sub('[‘’“”…]', '', text)\n",
        "    text = re.sub('\\n', '', text) \n",
        "    text = re.sub('<', '', text)\n",
        "    text = re.sub('>', '', text)\n",
        "    return text\n",
        "\n",
        "round2 = lambda x: clean_text_round2(x)"
      ],
      "outputs": [],
      "execution_count": 13,
      "metadata": {
        "collapsed": true
      }
    },
    {
      "cell_type": "code",
      "source": [
        "# Let's take a look at the updated text\n",
        "data_clean = pd.DataFrame(data_clean.report.apply(round2))"
      ],
      "outputs": [],
      "execution_count": 14,
      "metadata": {}
    },
    {
      "cell_type": "code",
      "source": [
        "data_clean.head()"
      ],
      "outputs": [
        {
          "output_type": "execute_result",
          "execution_count": 15,
          "data": {
            "text/html": [
              "<div>\n",
              "<style scoped>\n",
              "    .dataframe tbody tr th:only-of-type {\n",
              "        vertical-align: middle;\n",
              "    }\n",
              "\n",
              "    .dataframe tbody tr th {\n",
              "        vertical-align: top;\n",
              "    }\n",
              "\n",
              "    .dataframe thead th {\n",
              "        text-align: right;\n",
              "    }\n",
              "</style>\n",
              "<table border=\"1\" class=\"dataframe\">\n",
              "  <thead>\n",
              "    <tr style=\"text-align: right;\">\n",
              "      <th></th>\n",
              "      <th>report</th>\n",
              "    </tr>\n",
              "  </thead>\n",
              "  <tbody>\n",
              "    <tr>\n",
              "      <th>ABN_AMRO_Group_(2018)</th>\n",
              "      <td>babn amro bank nvabn amro group nv annual report    nntable of  this report nkey figures and profile nabn amro shares  and  environment  environment   performance nbusiness performance  statement   funding  nncapitalnintroduction to risk nfunding  nnrisk funding    nngovernancenintroduction to leadership  governance nnexecutive board and   nnrisk funding   nnsupervisory board nreport of the  risk funding    ngeneral meeting and  ncodes and regulations nlegal structure nremuneration report  financial statements  income statement nconsolidated statement  income nconsolidated statement  nconsolidated statement  nconsolidated statement  nnotes to the consolidated  ncompany financial statements    nother information  statements    amro group annual report  and performancerisk funding  capitalleadershipgovernanceannual financial statementsotherintroductionstrategy and performancerisk funding  capitalleadership  governanceannual financial     about this  this reportnnthis is the annual re...</td>\n",
              "    </tr>\n",
              "    <tr>\n",
              "      <th>AGNC_Investment_(2018).pdf</th>\n",
              "      <td>bproviding private capital to the us housing market throughnninvestment  annual  fellow  marked a  milestone for agnc investment  tenth anniversary as a publicncompany which we celebrated by ringing the nasdaq opening bell on may   left to right  board of directors as of may   paul mullings larry harvey gary kain chief  and chief investment  prue larocca chair morris davis not pictured donna blank who became andirector on december   we remain steadfasffnour stockholders  accomplishment provides an opportunity to  upon  achievements over the past decadennsed on generating attractive longterm returns forffnntly  industryleading total stock and economic   dividends paid to  internalization of management  remarkable growth in equity capital  successful navigation of challenging macroeconomic events economic cycles and interest rate environmentsnna g n c     a n n u a l r e p o r  total stock and economic returnsnsince  inception our primary objective has been to provide our stockholder...</td>\n",
              "    </tr>\n",
              "    <tr>\n",
              "      <th>Acer_(2018).pdf</th>\n",
              "      <td>bacer  annual reportnnpublication date  april   name title and contact details of companys spokespersonsnnprincipal nnmeggy   address and telephone numbers of companys headquarter and branchesnnofficennaddressnntelnnacer incnregistered   fuxing n rd songshan dist ntaipei city  taiwan   incnxizhi officennacer incnhsinchu branchnnacer incntaichung   sec  xintai  rd xizhi dist new ntaipei city  taiwan   minzu rd east dist hsinchu city    sec  wenxin rd nantun dist ntaichung city   incnkaohsiung   xinguang rd lingya dist nkaohsiung city   incnshipping  warehouse nmanagement center  neixin rd luzhu dist taoyuan city   address and contact details of acer shareholders servicesnnaddress    fuxing n rd songshan dist taipei city  taiwan ntel nemail  address and contact details of auditing cpas in the most recent yearnnhueichen chang and tzuchieh tang at kpmgnnname naddress    sec  xinyi rd xinyi dist taipei city  taiwan ntel    overseas securities exchangennlisted market for gdrs london stoc...</td>\n",
              "    </tr>\n",
              "    <tr>\n",
              "      <th>Autohome_(2018).pdf</th>\n",
              "      <td>btable of contentsnn n nn nn nnunited statesnnsecurities and exchange commissionnnwashington dc  nnform  nnmark  registration statement pursuant to section  or  of the securities exchangennact of   annual report pursuant to section  or  of the securities exchange act of   transition report pursuant to section  or  of the securities exchange act ofnnfor the fiscal year ended december   nnfor the transition period from                      to                      shell company report pursuant to section  or  of the securities exchange actnnof  nn nn nn nnnndate of event requiring this shell company report                     nnfor the transition period from                      to                     nncommission file number  nnautohome incnnexact name of registrant as specified in its charternn nnnanntranslation of  name into englishnncayman islandsnnjurisdiction of incorporation or  floor tower b cec  dan ling streetnnhaidian district beijing   republic of chinanaddress of principa...</td>\n",
              "    </tr>\n",
              "    <tr>\n",
              "      <th>BAIC_Motor_Corporation_(2018).pdf</th>\n",
              "      <td>ba joint stock company incorporated in the  republic of china with limited liabilitynstock code    for identification purpose only    statementnnsummary of financial and performance  profile and business overview  discussion and  of the board of  of the board of  governance  supervisors and senior     balance  statement of comprehensive  statement of changes in  statement of cash  to the consolidated financial  motor corporation  unit   floor building no  ncourtyard no  shuanghe street  nshunyi district beijing   headquartersnnno  shuanghe street shunyi district  nbeijing   tower two times square   matheson street causeway bay  nhong   shuanghe street shunyi district  nbeijing   shuanghe street shunyi district  nbeijing   shuanghe street shunyi district  nbeijing   shuanghe street shunyi district  nbeijing   shuanghe street shunyi district  nbeijing  tower two times square   matheson street causeway bay  nhong  tower two times square   matheson street causeway bay  nhong   floor al...</td>\n",
              "    </tr>\n",
              "  </tbody>\n",
              "</table>\n",
              "</div>"
            ],
            "text/plain": [
              "                                                                                                                                                                                                                                                                                                                                                                                                                                                                                                                                                                                                                                                                                                                                                                                                                                                                                                                                                                                                                                                                    report\n",
              "ABN_AMRO_Group_(2018)              babn amro bank nvabn amro group nv annual report    nntable of  this report nkey figures and profile nabn amro shares  and  environment  environment   performance nbusiness performance  statement   funding  nncapitalnintroduction to risk nfunding  nnrisk funding    nngovernancenintroduction to leadership  governance nnexecutive board and   nnrisk funding   nnsupervisory board nreport of the  risk funding    ngeneral meeting and  ncodes and regulations nlegal structure nremuneration report  financial statements  income statement nconsolidated statement  income nconsolidated statement  nconsolidated statement  nconsolidated statement  nnotes to the consolidated  ncompany financial statements    nother information  statements    amro group annual report  and performancerisk funding  capitalleadershipgovernanceannual financial statementsotherintroductionstrategy and performancerisk funding  capitalleadership  governanceannual financial     about this  this reportnnthis is the annual re...\n",
              "AGNC_Investment_(2018).pdf         bproviding private capital to the us housing market throughnninvestment  annual  fellow  marked a  milestone for agnc investment  tenth anniversary as a publicncompany which we celebrated by ringing the nasdaq opening bell on may   left to right  board of directors as of may   paul mullings larry harvey gary kain chief  and chief investment  prue larocca chair morris davis not pictured donna blank who became andirector on december   we remain steadfasffnour stockholders  accomplishment provides an opportunity to  upon  achievements over the past decadennsed on generating attractive longterm returns forffnntly  industryleading total stock and economic   dividends paid to  internalization of management  remarkable growth in equity capital  successful navigation of challenging macroeconomic events economic cycles and interest rate environmentsnna g n c     a n n u a l r e p o r  total stock and economic returnsnsince  inception our primary objective has been to provide our stockholder...\n",
              "Acer_(2018).pdf                    bacer  annual reportnnpublication date  april   name title and contact details of companys spokespersonsnnprincipal nnmeggy   address and telephone numbers of companys headquarter and branchesnnofficennaddressnntelnnacer incnregistered   fuxing n rd songshan dist ntaipei city  taiwan   incnxizhi officennacer incnhsinchu branchnnacer incntaichung   sec  xintai  rd xizhi dist new ntaipei city  taiwan   minzu rd east dist hsinchu city    sec  wenxin rd nantun dist ntaichung city   incnkaohsiung   xinguang rd lingya dist nkaohsiung city   incnshipping  warehouse nmanagement center  neixin rd luzhu dist taoyuan city   address and contact details of acer shareholders servicesnnaddress    fuxing n rd songshan dist taipei city  taiwan ntel nemail  address and contact details of auditing cpas in the most recent yearnnhueichen chang and tzuchieh tang at kpmgnnname naddress    sec  xinyi rd xinyi dist taipei city  taiwan ntel    overseas securities exchangennlisted market for gdrs london stoc...\n",
              "Autohome_(2018).pdf                btable of contentsnn n nn nn nnunited statesnnsecurities and exchange commissionnnwashington dc  nnform  nnmark  registration statement pursuant to section  or  of the securities exchangennact of   annual report pursuant to section  or  of the securities exchange act of   transition report pursuant to section  or  of the securities exchange act ofnnfor the fiscal year ended december   nnfor the transition period from                      to                      shell company report pursuant to section  or  of the securities exchange actnnof  nn nn nn nnnndate of event requiring this shell company report                     nnfor the transition period from                      to                     nncommission file number  nnautohome incnnexact name of registrant as specified in its charternn nnnanntranslation of  name into englishnncayman islandsnnjurisdiction of incorporation or  floor tower b cec  dan ling streetnnhaidian district beijing   republic of chinanaddress of principa...\n",
              "BAIC_Motor_Corporation_(2018).pdf  ba joint stock company incorporated in the  republic of china with limited liabilitynstock code    for identification purpose only    statementnnsummary of financial and performance  profile and business overview  discussion and  of the board of  of the board of  governance  supervisors and senior     balance  statement of comprehensive  statement of changes in  statement of cash  to the consolidated financial  motor corporation  unit   floor building no  ncourtyard no  shuanghe street  nshunyi district beijing   headquartersnnno  shuanghe street shunyi district  nbeijing   tower two times square   matheson street causeway bay  nhong   shuanghe street shunyi district  nbeijing   shuanghe street shunyi district  nbeijing   shuanghe street shunyi district  nbeijing   shuanghe street shunyi district  nbeijing   shuanghe street shunyi district  nbeijing  tower two times square   matheson street causeway bay  nhong  tower two times square   matheson street causeway bay  nhong   floor al..."
            ]
          },
          "metadata": {}
        }
      ],
      "execution_count": 15,
      "metadata": {}
    },
    {
      "cell_type": "code",
      "source": [
        "#data_clean.loc['ABN_AMRO_Group_(2018)','report']"
      ],
      "outputs": [],
      "execution_count": 16,
      "metadata": {}
    },
    {
      "cell_type": "markdown",
      "source": [
        "---\n",
        "## Organizing The Data"
      ],
      "metadata": {}
    },
    {
      "cell_type": "markdown",
      "source": [
        "1. **Corpus - **a collection of text\n",
        "2. **Document-Term Matrix - **word counts in matrix format"
      ],
      "metadata": {}
    },
    {
      "cell_type": "markdown",
      "source": [
        "### Corpus"
      ],
      "metadata": {}
    },
    {
      "cell_type": "markdown",
      "source": [
        "We already created a corpus in an earlier step. The definition of a corpus is a collection of texts, and they are all put together neatly in a pandas dataframe here."
      ],
      "metadata": {}
    },
    {
      "cell_type": "code",
      "source": [
        "data_clean['company_name'] = [c[17:-4] for c in annual_report_files]"
      ],
      "outputs": [],
      "execution_count": 17,
      "metadata": {}
    },
    {
      "cell_type": "code",
      "source": [
        "data_clean.head()"
      ],
      "outputs": [
        {
          "output_type": "execute_result",
          "execution_count": 18,
          "data": {
            "text/html": [
              "<div>\n",
              "<style scoped>\n",
              "    .dataframe tbody tr th:only-of-type {\n",
              "        vertical-align: middle;\n",
              "    }\n",
              "\n",
              "    .dataframe tbody tr th {\n",
              "        vertical-align: top;\n",
              "    }\n",
              "\n",
              "    .dataframe thead th {\n",
              "        text-align: right;\n",
              "    }\n",
              "</style>\n",
              "<table border=\"1\" class=\"dataframe\">\n",
              "  <thead>\n",
              "    <tr style=\"text-align: right;\">\n",
              "      <th></th>\n",
              "      <th>report</th>\n",
              "      <th>company_name</th>\n",
              "    </tr>\n",
              "  </thead>\n",
              "  <tbody>\n",
              "    <tr>\n",
              "      <th>ABN_AMRO_Group_(2018)</th>\n",
              "      <td>babn amro bank nvabn amro group nv annual report    nntable of  this report nkey figures and profile nabn amro shares  and  environment  environment   performance nbusiness performance  statement   funding  nncapitalnintroduction to risk nfunding  nnrisk funding    nngovernancenintroduction to leadership  governance nnexecutive board and   nnrisk funding   nnsupervisory board nreport of the  risk funding    ngeneral meeting and  ncodes and regulations nlegal structure nremuneration report  financial statements  income statement nconsolidated statement  income nconsolidated statement  nconsolidated statement  nconsolidated statement  nnotes to the consolidated  ncompany financial statements    nother information  statements    amro group annual report  and performancerisk funding  capitalleadershipgovernanceannual financial statementsotherintroductionstrategy and performancerisk funding  capitalleadership  governanceannual financial     about this  this reportnnthis is the annual re...</td>\n",
              "      <td>ABN_AMRO_Group_(2018)</td>\n",
              "    </tr>\n",
              "    <tr>\n",
              "      <th>AGNC_Investment_(2018).pdf</th>\n",
              "      <td>bproviding private capital to the us housing market throughnninvestment  annual  fellow  marked a  milestone for agnc investment  tenth anniversary as a publicncompany which we celebrated by ringing the nasdaq opening bell on may   left to right  board of directors as of may   paul mullings larry harvey gary kain chief  and chief investment  prue larocca chair morris davis not pictured donna blank who became andirector on december   we remain steadfasffnour stockholders  accomplishment provides an opportunity to  upon  achievements over the past decadennsed on generating attractive longterm returns forffnntly  industryleading total stock and economic   dividends paid to  internalization of management  remarkable growth in equity capital  successful navigation of challenging macroeconomic events economic cycles and interest rate environmentsnna g n c     a n n u a l r e p o r  total stock and economic returnsnsince  inception our primary objective has been to provide our stockholder...</td>\n",
              "      <td>AGNC_Investment_(2018).pdf</td>\n",
              "    </tr>\n",
              "    <tr>\n",
              "      <th>Acer_(2018).pdf</th>\n",
              "      <td>bacer  annual reportnnpublication date  april   name title and contact details of companys spokespersonsnnprincipal nnmeggy   address and telephone numbers of companys headquarter and branchesnnofficennaddressnntelnnacer incnregistered   fuxing n rd songshan dist ntaipei city  taiwan   incnxizhi officennacer incnhsinchu branchnnacer incntaichung   sec  xintai  rd xizhi dist new ntaipei city  taiwan   minzu rd east dist hsinchu city    sec  wenxin rd nantun dist ntaichung city   incnkaohsiung   xinguang rd lingya dist nkaohsiung city   incnshipping  warehouse nmanagement center  neixin rd luzhu dist taoyuan city   address and contact details of acer shareholders servicesnnaddress    fuxing n rd songshan dist taipei city  taiwan ntel nemail  address and contact details of auditing cpas in the most recent yearnnhueichen chang and tzuchieh tang at kpmgnnname naddress    sec  xinyi rd xinyi dist taipei city  taiwan ntel    overseas securities exchangennlisted market for gdrs london stoc...</td>\n",
              "      <td>Acer_(2018).pdf</td>\n",
              "    </tr>\n",
              "    <tr>\n",
              "      <th>Autohome_(2018).pdf</th>\n",
              "      <td>btable of contentsnn n nn nn nnunited statesnnsecurities and exchange commissionnnwashington dc  nnform  nnmark  registration statement pursuant to section  or  of the securities exchangennact of   annual report pursuant to section  or  of the securities exchange act of   transition report pursuant to section  or  of the securities exchange act ofnnfor the fiscal year ended december   nnfor the transition period from                      to                      shell company report pursuant to section  or  of the securities exchange actnnof  nn nn nn nnnndate of event requiring this shell company report                     nnfor the transition period from                      to                     nncommission file number  nnautohome incnnexact name of registrant as specified in its charternn nnnanntranslation of  name into englishnncayman islandsnnjurisdiction of incorporation or  floor tower b cec  dan ling streetnnhaidian district beijing   republic of chinanaddress of principa...</td>\n",
              "      <td>Autohome_(2018).pdf</td>\n",
              "    </tr>\n",
              "    <tr>\n",
              "      <th>BAIC_Motor_Corporation_(2018).pdf</th>\n",
              "      <td>ba joint stock company incorporated in the  republic of china with limited liabilitynstock code    for identification purpose only    statementnnsummary of financial and performance  profile and business overview  discussion and  of the board of  of the board of  governance  supervisors and senior     balance  statement of comprehensive  statement of changes in  statement of cash  to the consolidated financial  motor corporation  unit   floor building no  ncourtyard no  shuanghe street  nshunyi district beijing   headquartersnnno  shuanghe street shunyi district  nbeijing   tower two times square   matheson street causeway bay  nhong   shuanghe street shunyi district  nbeijing   shuanghe street shunyi district  nbeijing   shuanghe street shunyi district  nbeijing   shuanghe street shunyi district  nbeijing   shuanghe street shunyi district  nbeijing  tower two times square   matheson street causeway bay  nhong  tower two times square   matheson street causeway bay  nhong   floor al...</td>\n",
              "      <td>BAIC_Motor_Corporation_(2018).pdf</td>\n",
              "    </tr>\n",
              "  </tbody>\n",
              "</table>\n",
              "</div>"
            ],
            "text/plain": [
              "                                                                                                                                                                                                                                                                                                                                                                                                                                                                                                                                                                                                                                                                                                                                                                                                                                                                                                                                                                                                                                                                    report  \\\n",
              "ABN_AMRO_Group_(2018)              babn amro bank nvabn amro group nv annual report    nntable of  this report nkey figures and profile nabn amro shares  and  environment  environment   performance nbusiness performance  statement   funding  nncapitalnintroduction to risk nfunding  nnrisk funding    nngovernancenintroduction to leadership  governance nnexecutive board and   nnrisk funding   nnsupervisory board nreport of the  risk funding    ngeneral meeting and  ncodes and regulations nlegal structure nremuneration report  financial statements  income statement nconsolidated statement  income nconsolidated statement  nconsolidated statement  nconsolidated statement  nnotes to the consolidated  ncompany financial statements    nother information  statements    amro group annual report  and performancerisk funding  capitalleadershipgovernanceannual financial statementsotherintroductionstrategy and performancerisk funding  capitalleadership  governanceannual financial     about this  this reportnnthis is the annual re...   \n",
              "AGNC_Investment_(2018).pdf         bproviding private capital to the us housing market throughnninvestment  annual  fellow  marked a  milestone for agnc investment  tenth anniversary as a publicncompany which we celebrated by ringing the nasdaq opening bell on may   left to right  board of directors as of may   paul mullings larry harvey gary kain chief  and chief investment  prue larocca chair morris davis not pictured donna blank who became andirector on december   we remain steadfasffnour stockholders  accomplishment provides an opportunity to  upon  achievements over the past decadennsed on generating attractive longterm returns forffnntly  industryleading total stock and economic   dividends paid to  internalization of management  remarkable growth in equity capital  successful navigation of challenging macroeconomic events economic cycles and interest rate environmentsnna g n c     a n n u a l r e p o r  total stock and economic returnsnsince  inception our primary objective has been to provide our stockholder...   \n",
              "Acer_(2018).pdf                    bacer  annual reportnnpublication date  april   name title and contact details of companys spokespersonsnnprincipal nnmeggy   address and telephone numbers of companys headquarter and branchesnnofficennaddressnntelnnacer incnregistered   fuxing n rd songshan dist ntaipei city  taiwan   incnxizhi officennacer incnhsinchu branchnnacer incntaichung   sec  xintai  rd xizhi dist new ntaipei city  taiwan   minzu rd east dist hsinchu city    sec  wenxin rd nantun dist ntaichung city   incnkaohsiung   xinguang rd lingya dist nkaohsiung city   incnshipping  warehouse nmanagement center  neixin rd luzhu dist taoyuan city   address and contact details of acer shareholders servicesnnaddress    fuxing n rd songshan dist taipei city  taiwan ntel nemail  address and contact details of auditing cpas in the most recent yearnnhueichen chang and tzuchieh tang at kpmgnnname naddress    sec  xinyi rd xinyi dist taipei city  taiwan ntel    overseas securities exchangennlisted market for gdrs london stoc...   \n",
              "Autohome_(2018).pdf                btable of contentsnn n nn nn nnunited statesnnsecurities and exchange commissionnnwashington dc  nnform  nnmark  registration statement pursuant to section  or  of the securities exchangennact of   annual report pursuant to section  or  of the securities exchange act of   transition report pursuant to section  or  of the securities exchange act ofnnfor the fiscal year ended december   nnfor the transition period from                      to                      shell company report pursuant to section  or  of the securities exchange actnnof  nn nn nn nnnndate of event requiring this shell company report                     nnfor the transition period from                      to                     nncommission file number  nnautohome incnnexact name of registrant as specified in its charternn nnnanntranslation of  name into englishnncayman islandsnnjurisdiction of incorporation or  floor tower b cec  dan ling streetnnhaidian district beijing   republic of chinanaddress of principa...   \n",
              "BAIC_Motor_Corporation_(2018).pdf  ba joint stock company incorporated in the  republic of china with limited liabilitynstock code    for identification purpose only    statementnnsummary of financial and performance  profile and business overview  discussion and  of the board of  of the board of  governance  supervisors and senior     balance  statement of comprehensive  statement of changes in  statement of cash  to the consolidated financial  motor corporation  unit   floor building no  ncourtyard no  shuanghe street  nshunyi district beijing   headquartersnnno  shuanghe street shunyi district  nbeijing   tower two times square   matheson street causeway bay  nhong   shuanghe street shunyi district  nbeijing   shuanghe street shunyi district  nbeijing   shuanghe street shunyi district  nbeijing   shuanghe street shunyi district  nbeijing   shuanghe street shunyi district  nbeijing  tower two times square   matheson street causeway bay  nhong  tower two times square   matheson street causeway bay  nhong   floor al...   \n",
              "\n",
              "                                                        company_name  \n",
              "ABN_AMRO_Group_(2018)                          ABN_AMRO_Group_(2018)  \n",
              "AGNC_Investment_(2018).pdf                AGNC_Investment_(2018).pdf  \n",
              "Acer_(2018).pdf                                      Acer_(2018).pdf  \n",
              "Autohome_(2018).pdf                              Autohome_(2018).pdf  \n",
              "BAIC_Motor_Corporation_(2018).pdf  BAIC_Motor_Corporation_(2018).pdf  "
            ]
          },
          "metadata": {}
        }
      ],
      "execution_count": 18,
      "metadata": {}
    },
    {
      "cell_type": "code",
      "source": [
        "# Let's pickle it for later use\n",
        "data_clean.to_pickle(\"pickle/corpus_AnnualR.pkl\")"
      ],
      "outputs": [],
      "execution_count": 19,
      "metadata": {
        "collapsed": true
      }
    },
    {
      "cell_type": "markdown",
      "source": [
        "---\n",
        "### Document-Term Matrix"
      ],
      "metadata": {}
    },
    {
      "cell_type": "markdown",
      "source": [
        "For many of the techniques, the text must be tokenized, meaning broken down into smaller pieces. The most common tokenization technique is to break down text into words. We can do this using scikit-learn's CountVectorizer, where every row will represent a different document and every column will represent a different word.\n",
        "\n",
        "In addition, with CountVectorizer, we can remove stop words. Stop words are common words that add no additional meaning to text such as 'a', 'the', etc."
      ],
      "metadata": {}
    },
    {
      "cell_type": "code",
      "source": [
        "# We are going to create a document-term matrix using CountVectorizer, and exclude common English stop words\n",
        "from sklearn.feature_extraction.text import CountVectorizer\n",
        "\n",
        "cv = CountVectorizer(stop_words='english')"
      ],
      "outputs": [],
      "execution_count": 20,
      "metadata": {}
    },
    {
      "cell_type": "code",
      "source": [
        "data_cv = cv.fit_transform(data_clean.report)"
      ],
      "outputs": [],
      "execution_count": 21,
      "metadata": {}
    },
    {
      "cell_type": "code",
      "source": [
        "print(data_clean.report[0][:800])"
      ],
      "outputs": [
        {
          "output_type": "stream",
          "name": "stdout",
          "text": [
            "babn amro bank nvabn amro group nv annual report    nntable of  this report nkey figures and profile nabn amro shares  and  environment  environment   performance nbusiness performance  statement   funding  nncapitalnintroduction to risk nfunding  nnrisk funding    nngovernancenintroduction to leadership  governance nnexecutive board and   nnrisk funding   nnsupervisory board nreport of the  risk funding    ngeneral meeting and  ncodes and regulations nlegal structure nremuneration report  financial statements  income statement nconsolidated statement  income nconsolidated statement  nconsolidated statement  nconsolidated statement  nnotes to the consolidated  ncompany financial statements    nother information  statements    amro group annual report  and performancerisk funding  capitalle\n"
          ]
        }
      ],
      "execution_count": 22,
      "metadata": {}
    },
    {
      "cell_type": "code",
      "source": [
        "data_dtm = pd.DataFrame(data_cv.toarray(), columns=cv.get_feature_names())\n",
        "data_dtm.index = data_clean.index"
      ],
      "outputs": [],
      "execution_count": 23,
      "metadata": {}
    },
    {
      "cell_type": "code",
      "source": [
        "#data_dtm.head()"
      ],
      "outputs": [],
      "execution_count": 24,
      "metadata": {}
    },
    {
      "cell_type": "code",
      "source": [
        "# Let's pickle it for later use\n",
        "data_dtm.to_pickle(\"pickle/dtm_AnnualR.pkl\")"
      ],
      "outputs": [],
      "execution_count": 25,
      "metadata": {
        "collapsed": true
      }
    },
    {
      "cell_type": "code",
      "source": [
        "# Let's also pickle the cleaned data (before we put it in document-term matrix format) and the CountVectorizer object\n",
        "data_clean.to_pickle('pickle/data_clean_AnnualR.pkl')\n",
        "pickle.dump(cv, open(\"pickle/cv_AnnualR.pkl\", \"wb\"))"
      ],
      "outputs": [],
      "execution_count": 26,
      "metadata": {
        "collapsed": true
      }
    }
  ],
  "metadata": {
    "kernelspec": {
      "display_name": "Python 3",
      "language": "python",
      "name": "python3"
    },
    "language_info": {
      "codemirror_mode": {
        "name": "ipython",
        "version": 3
      },
      "file_extension": ".py",
      "mimetype": "text/x-python",
      "name": "python",
      "nbconvert_exporter": "python",
      "pygments_lexer": "ipython3",
      "version": "3.7.3"
    },
    "toc": {
      "nav_menu": {},
      "number_sections": true,
      "sideBar": true,
      "skip_h1_title": false,
      "toc_cell": false,
      "toc_position": {},
      "toc_section_display": "block",
      "toc_window_display": false
    },
    "varInspector": {
      "cols": {
        "lenName": 16,
        "lenType": 16,
        "lenVar": 40
      },
      "kernels_config": {
        "python": {
          "delete_cmd_postfix": "",
          "delete_cmd_prefix": "del ",
          "library": "var_list.py",
          "varRefreshCmd": "print(var_dic_list())"
        },
        "r": {
          "delete_cmd_postfix": ") ",
          "delete_cmd_prefix": "rm(",
          "library": "var_list.r",
          "varRefreshCmd": "cat(var_dic_list()) "
        }
      },
      "types_to_exclude": [
        "module",
        "function",
        "builtin_function_or_method",
        "instance",
        "_Feature"
      ],
      "window_display": false
    },
    "nteract": {
      "version": "0.15.0"
    }
  },
  "nbformat": 4,
  "nbformat_minor": 2
}