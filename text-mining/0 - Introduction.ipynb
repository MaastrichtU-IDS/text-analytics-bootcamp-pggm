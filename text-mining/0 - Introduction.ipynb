{
  "cells": [
    {
      "cell_type": "markdown",
      "source": [
        "![](images/bootcamp.png)"
      ],
      "metadata": {
        "slideshow": {
          "slide_type": "slide"
        }
      }
    },
    {
      "cell_type": "markdown",
      "source": [
        "## Bootcamp Structure\n",
        "|  Day| Topic |\n",
        "| :---: | :---: |\n",
        "|1| Text Extraction and Processing |\n",
        "|2| Financial Sentiment Analysis | \n",
        "|3| Computational Models in Text Data |"
      ],
      "metadata": {
        "slideshow": {
          "slide_type": "subslide"
        }
      }
    },
    {
      "cell_type": "markdown",
      "source": [
        "# Text Analytics\n",
        "## [Pedro Hernandez](https://www.maastrichtuniversity.nl/research/institutes/ids/people)"
      ],
      "metadata": {
        "slideshow": {
          "slide_type": "slide"
        }
      }
    },
    {
      "cell_type": "markdown",
      "source": [
        "![](images/analytics.png)\n",
        "#### Source: https://www.sciencedirect.com/topics/computer-science/text-mining"
      ],
      "metadata": {
        "slideshow": {
          "slide_type": "subslide"
        }
      }
    },
    {
      "cell_type": "markdown",
      "source": [
        "## The role of Text Mining and Natural Language Processing in AI development"
      ],
      "metadata": {
        "slideshow": {
          "slide_type": "slide"
        }
      }
    },
    {
      "cell_type": "markdown",
      "source": [
        "![](images/applications.png)"
      ],
      "metadata": {
        "slideshow": {
          "slide_type": "subslide"
        }
      }
    },
    {
      "cell_type": "markdown",
      "source": [
        "- 80 percent of the info is unstructured text\n",
        "- Text analytics -> Going from unstructured to valuable data\n",
        "- We are not going covering deep into NLP\n",
        "- We are not covering ontologies\n",
        "\n",
        "Text classification  \n",
        "Text/document similarity  \n",
        "Text Preprocessing (tokenization, Pos, chunk, Syntax)  \n",
        "Sentiment analysis  \n",
        "Feature extraction from text (entities, themes, categories, sentiments)  \n",
        "Topic modeling/Text clustering\n",
        "NLP (computer science meets linguistics)  \n",
        "    Computational  \n",
        "    Linguistic  \n",
        "    Logic/Ontology. Question answering  \n",
        "\n"
      ],
      "metadata": {}
    },
    {
      "cell_type": "markdown",
      "source": [
        "Since the technologies, names and trends change over time then we should focus on the 5 main applications computer science is been working for some time.\n",
        "\n",
        "1. Natural language querying\n",
        "2. Natural language text generation\n",
        "3. Automation of human-text interaction processes\n",
        "4. Enriching knowledge augmenting the data based on text features\n",
        "5. Enriching knowledge of the domain when discovering results in text\n",
        "\n",
        "See: https://www.xenonstack.com/blog/natural-language-processing-nlp/"
      ],
      "metadata": {
        "slideshow": {
          "slide_type": "subslide"
        }
      }
    },
    {
      "cell_type": "markdown",
      "source": [
        "## Research Examples"
      ],
      "metadata": {
        "slideshow": {
          "slide_type": "slide"
        }
      }
    },
    {
      "cell_type": "markdown",
      "source": [
        "- Entity recognition in Cross-border transcations\n",
        "- Text similarity CJEU\n",
        "- Automatic labeling on Cleantech\n",
        "- Relation extraction between drug and desease"
      ],
      "metadata": {
        "slideshow": {
          "slide_type": "subslide"
        }
      }
    },
    {
      "cell_type": "markdown",
      "source": [
        "## Why Python\n",
        "\n",
        "- As a general purpose language, Python supports a large range of tasks.\n",
        "    - Or put another way: 'Python isn't the best at anything, but it's second best at everything'\n",
        "    - This is useful. A data science project may include everything from scraping data from the web, analyzing a mixture or text and numerical data, computing features, training a model, creating high-quality graphs, and then hosting a website with your results.\n",
        "- Python is explicitly and by design, user-friendly.\n",
        "- Python also has a massive user community, who contribute to a large number of high-quality, well maintained open-source tools.\n",
        "    - The best language for your project is one which has the things you need.\n",
        "- In part for the reasons listed above, Python is heavily used in industry."
      ],
      "metadata": {
        "slideshow": {
          "slide_type": "subslide"
        }
      }
    },
    {
      "cell_type": "markdown",
      "source": [
        "Python is an ,\n",
        "    <a href=\"https://en.wikipedia.org/wiki/Open-source_model\" class=\"alert-link\">open-source</a>\n",
        "    <a href=\"https://en.wikipedia.org/wiki/High-level_programming_language\" class=\"alert-link\">high-level </a>,\n",
        "    <a href=\"https://en.wikipedia.org/wiki/General-purpose_programming_language\" class=\"alert-link\">general purpose</a>,\n",
        "    <a href=\"https://en.wikipedia.org/wiki/Interpreted_language\" class=\"alert-link\">interpreted</a>,\n",
        "    <a href=\"https://en.wikipedia.org/wiki/Programming_language\" class=\"alert-link\">programming language</a>,\n",
        "    one of the most popular for data science applications."
      ],
      "metadata": {
        "slideshow": {
          "slide_type": "subslide"
        }
      }
    },
    {
      "cell_type": "markdown",
      "source": [
        "## Technologies and methods\n",
        "\n",
        "- Nltk\n",
        "- Gensin\n",
        "- Keras\n",
        "- Regex\n",
        "- gensim\n",
        "- textract\n",
        "- beautifulsoup\n",
        "- similarity\n",
        "- textdistance\n"
      ],
      "metadata": {
        "slideshow": {
          "slide_type": "slide"
        }
      }
    },
    {
      "cell_type": "markdown",
      "source": [
        "## Oportunities\n",
        "\n",
        "- Which process you think a summary is useful?\n",
        "- Is there any repetitive reading task?\n",
        "- You want to learn more from you clients, comments and feedback?\n",
        "- Financial sentiment analysis"
      ],
      "metadata": {
        "slideshow": {
          "slide_type": "slide"
        }
      }
    },
    {
      "cell_type": "markdown",
      "source": [
        "## Walking through (with images)"
      ],
      "metadata": {}
    },
    {
      "cell_type": "markdown",
      "source": [
        "- Web crawling Edgar (data before and after)\n",
        "- Text processing\n",
        "- Words analysis\n",
        "- Assigment, replicate for the anual reports\n",
        "- Text distance algorithms\n",
        "- Data augmentation for modeling\n",
        "- Assigmnet, replicate for edgar adn cross-check with annual reports\n",
        "- Entity recognition\n",
        "- Build a product\n"
      ],
      "metadata": {}
    },
    {
      "cell_type": "markdown",
      "source": [
        "## The Data Science Pipeline\n",
        "\n",
        "![](images/ds.png)"
      ],
      "metadata": {
        "slideshow": {
          "slide_type": "subslide"
        }
      }
    },
    {
      "cell_type": "markdown",
      "source": [
        "## Reading and writing files\n",
        "1. Dataframes with Pandas\n",
        "2. Binary store with Pickle\n",
        "3. Text files with Python"
      ],
      "metadata": {}
    },
    {
      "cell_type": "markdown",
      "source": [
        "https://pythontips.com/2013/08/02/what-is-pickle-in-python/"
      ],
      "metadata": {}
    },
    {
      "cell_type": "code",
      "source": [
        "import pickle"
      ],
      "outputs": [],
      "execution_count": 64,
      "metadata": {}
    },
    {
      "cell_type": "code",
      "source": [
        "a = ['test value','test value 2','test value 3']\n",
        "a"
      ],
      "outputs": [
        {
          "output_type": "execute_result",
          "execution_count": 65,
          "data": {
            "text/plain": [
              "['test value', 'test value 2', 'test value 3']"
            ]
          },
          "metadata": {}
        }
      ],
      "execution_count": 65,
      "metadata": {}
    },
    {
      "cell_type": "code",
      "source": [
        "file_Name = \"testfile.pickle\"\n",
        "# open the file for writing\n",
        "fileObject = open(file_Name,'wb') "
      ],
      "outputs": [],
      "execution_count": 73,
      "metadata": {}
    },
    {
      "cell_type": "code",
      "source": [
        "# this writes the object a to the\n",
        "# file named 'testfile'\n",
        "pickle.dump(a,fileObject)   \n",
        "# here we close the fileObject\n",
        "fileObject.close()"
      ],
      "outputs": [],
      "execution_count": 74,
      "metadata": {}
    },
    {
      "cell_type": "code",
      "source": [
        "# we open the file for reading\n",
        "fileObject = open(file_Name,'r')  "
      ],
      "outputs": [],
      "execution_count": 75,
      "metadata": {}
    },
    {
      "cell_type": "code",
      "source": [
        "# load the object from the file into var b\n",
        "b = pickle.load(fileObject)\n",
        "b\n"
      ],
      "outputs": [],
      "execution_count": null,
      "metadata": {}
    },
    {
      "cell_type": "code",
      "source": [
        "fileObject"
      ],
      "outputs": [
        {
          "output_type": "execute_result",
          "execution_count": 72,
          "data": {
            "text/plain": [
              "<_io.TextIOWrapper name='testfile' mode='r' encoding='UTF-8'>"
            ]
          },
          "metadata": {}
        }
      ],
      "execution_count": 72,
      "metadata": {}
    },
    {
      "cell_type": "code",
      "source": [
        "['test value','test value 2','test value 3']\n",
        "a==b\n",
        "True"
      ],
      "outputs": [],
      "execution_count": null,
      "metadata": {}
    },
    {
      "cell_type": "markdown",
      "source": [
        "## Writing text files"
      ],
      "metadata": {}
    },
    {
      "cell_type": "code",
      "source": [
        "    file = open(path+file_name+'.txt','w+')\n",
        "    file.write(text)"
      ],
      "outputs": [],
      "execution_count": null,
      "metadata": {}
    },
    {
      "cell_type": "markdown",
      "source": [
        "## Writing Tables"
      ],
      "metadata": {}
    },
    {
      "cell_type": "code",
      "source": [
        "import pandas as pd\n",
        "table.to_csv()\n"
      ],
      "outputs": [],
      "execution_count": null,
      "metadata": {}
    }
  ],
  "metadata": {
    "celltoolbar": "Slideshow",
    "kernelspec": {
      "display_name": "Python 3",
      "language": "python",
      "name": "python3"
    },
    "language_info": {
      "codemirror_mode": {
        "name": "ipython",
        "version": 3
      },
      "file_extension": ".py",
      "mimetype": "text/x-python",
      "name": "python",
      "nbconvert_exporter": "python",
      "pygments_lexer": "ipython3",
      "version": "3.7.3"
    },
    "latex_envs": {
      "report_style_numbering": false,
      "hotkeys": {
        "equation": "Ctrl-E",
        "itemize": "Ctrl-I"
      },
      "LaTeX_envs_menu_present": true,
      "autocomplete": true,
      "autoclose": false,
      "eqNumInitial": 1,
      "bibliofile": "biblio.bib",
      "latex_user_defs": false,
      "current_citInitial": 1,
      "eqLabelWithNumbers": true,
      "labels_anchors": false,
      "cite_by": "apalike",
      "user_envs_cfg": false
    },
    "nteract": {
      "version": "0.15.0"
    }
  },
  "nbformat": 4,
  "nbformat_minor": 2
}