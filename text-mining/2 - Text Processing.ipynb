{
  "cells": [
    {
      "cell_type": "markdown",
      "source": [
        "---\n",
        "## Text data processing"
      ],
      "metadata": {}
    },
    {
      "cell_type": "markdown",
      "source": [
        "When dealing with numerical data, data cleaning often involves removing null values and duplicate data, dealing with outliers, etc. With text data, there are some common data cleaning techniques, which are also known as text pre-processing techniques.\n",
        "\n",
        "With text data, this cleaning process can go on forever. There's always an exception to every cleaning step. So, we're going to follow the MVP (minimum viable product) approach - start simple and iterate. Here are a bunch of things you can do to clean your data. We're going to execute just the common cleaning steps here and the rest can be done at a later point to improve our results.\n",
        "\n",
        "**Common data cleaning steps on all text:**\n",
        "* Make text all lower case\n",
        "* Remove punctuation\n",
        "* Remove numerical values\n",
        "* Remove common non-sensical text (/n)\n",
        "* Tokenize text\n",
        "* Remove stop words\n",
        "\n",
        "**More data cleaning steps after tokenization:**\n",
        "* Stemming / lemmatization\n",
        "* Parts of speech tagging\n",
        "* Create bi-grams or tri-grams\n",
        "* Deal with typos\n",
        "* And more..."
      ],
      "metadata": {}
    },
    {
      "cell_type": "markdown",
      "source": [
        "### Load"
      ],
      "metadata": {}
    },
    {
      "cell_type": "code",
      "source": [
        "import pandas as pd\n",
        "import pickle"
      ],
      "outputs": [],
      "execution_count": 7,
      "metadata": {}
    },
    {
      "cell_type": "code",
      "source": [
        "df = pd.read_csv('table.csv')"
      ],
      "outputs": [],
      "execution_count": 3,
      "metadata": {}
    },
    {
      "cell_type": "code",
      "source": [
        "len(df)"
      ],
      "outputs": [
        {
          "output_type": "execute_result",
          "execution_count": 4,
          "data": {
            "text/plain": [
              "15"
            ]
          },
          "metadata": {}
        }
      ],
      "execution_count": 4,
      "metadata": {}
    },
    {
      "cell_type": "code",
      "source": [
        "tickers = list(df['ticker'])"
      ],
      "outputs": [],
      "execution_count": 5,
      "metadata": {}
    },
    {
      "cell_type": "code",
      "source": [
        "# Load pickled files\n",
        "data = {}\n",
        "for i, c in enumerate(tickers):\n",
        "    with open(\"reports/\" + c + \".txt\", \"rb\") as file:\n",
        "        data[c] = pickle.load(file)"
      ],
      "outputs": [],
      "execution_count": 8,
      "metadata": {
        "collapsed": true
      }
    },
    {
      "cell_type": "code",
      "source": [
        "# Double check to make sure data has been loaded properly\n",
        "data.keys()"
      ],
      "outputs": [
        {
          "output_type": "execute_result",
          "execution_count": 9,
          "data": {
            "text/plain": [
              "dict_keys(['AAC', 'AAL', 'AAME', 'AAOI', 'AAPL', 'ABAX', 'ABCB', 'ABCD', 'ABFS', 'ABII', 'ABK', 'ABMD', 'ABTL', 'ACAD', 'ACAS'])"
            ]
          },
          "metadata": {}
        }
      ],
      "execution_count": 9,
      "metadata": {}
    },
    {
      "cell_type": "code",
      "source": [
        "# More checks\n",
        "print(data['AAL'][:800])"
      ],
      "outputs": [
        {
          "output_type": "stream",
          "name": "stdout",
          "text": [
            "<SEC-DOCUMENT>0000006201-19-000009.txt : 20190225\n",
            "<SEC-HEADER>0000006201-19-000009.hdr.sgml : 20190225\n",
            "<ACCEPTANCE-DATETIME>20190225073134\n",
            "ACCESSION NUMBER:\t\t0000006201-19-000009\n",
            "CONFORMED SUBMISSION TYPE:\t10-K\n",
            "PUBLIC DOCUMENT COUNT:\t\t140\n",
            "CONFORMED PERIOD OF REPORT:\t20181231\n",
            "FILED AS OF DATE:\t\t20190225\n",
            "DATE AS OF CHANGE:\t\t20190225\n",
            "\n",
            "FILER:\n",
            "\n",
            "\tCOMPANY DATA:\t\n",
            "\t\tCOMPANY CONFORMED NAME:\t\t\tAmerican Airlines Group Inc.\n",
            "\t\tCENTRAL INDEX KEY:\t\t\t0000006201\n",
            "\t\tSTANDARD INDUSTRIAL CLASSIFICATION:\tAIR TRANSPORTATION, SCHEDULED [4512]\n",
            "\t\tIRS NUMBER:\t\t\t\t751825172\n",
            "\t\tSTATE OF INCORPORATION:\t\t\tDE\n",
            "\t\tFISCAL YEAR END:\t\t\t1231\n",
            "\n",
            "\tFILING VALUES:\n",
            "\t\tFORM TYPE:\t\t10-K\n",
            "\t\tSEC ACT:\t\t1934 Act\n",
            "\t\tSEC FILE NUMBER:\t001-08400\n",
            "\t\tFILM NUMBER:\t\t19628071\n",
            "\n",
            "\tBUSINESS ADDRESS:\t\n",
            "\t\tSTREET 1:\t\t4333 AMON CARTER BLVD\n",
            "\t\tCITY:\t\t\tFORT WORTH\n",
            "\t\tST\n"
          ]
        }
      ],
      "execution_count": 10,
      "metadata": {}
    },
    {
      "cell_type": "markdown",
      "source": [
        "## Start processing"
      ],
      "metadata": {}
    },
    {
      "cell_type": "code",
      "source": [
        "# Let's take a look at our data again\n",
        "next(iter(data.keys()))"
      ],
      "outputs": [
        {
          "output_type": "execute_result",
          "execution_count": 21,
          "data": {
            "text/plain": [
              "'AAC'"
            ]
          },
          "metadata": {}
        }
      ],
      "execution_count": 21,
      "metadata": {}
    },
    {
      "cell_type": "code",
      "source": [
        "# We are going to change this to key: comedian, value: string format\n",
        "def combine_text(list_of_text):\n",
        "    '''Takes a list of text and combines them into one large chunk of text.'''\n",
        "    combined_text = ' '.join(list_of_text)\n",
        "    return combined_text"
      ],
      "outputs": [],
      "execution_count": 22,
      "metadata": {
        "collapsed": true
      }
    },
    {
      "cell_type": "code",
      "source": [
        "#data_combined = {key: [combine_text(value)] for (key, value) in data.items()}\n",
        "data_combined = {key: [value] for (key, value) in data.items()}"
      ],
      "outputs": [],
      "execution_count": 23,
      "metadata": {
        "collapsed": true
      }
    },
    {
      "cell_type": "code",
      "source": [
        "# We can either keep it in dictionary format or put it into a pandas dataframe\n",
        "pd.set_option('max_colwidth',1000)\n",
        "\n",
        "data_df = pd.DataFrame.from_dict(data_combined).transpose()\n",
        "data_df.columns = ['report']\n",
        "data_df = data_df.sort_index()\n",
        "data_df"
      ],
      "outputs": [
        {
          "output_type": "execute_result",
          "execution_count": 24,
          "data": {
            "text/html": [
              "<div>\n",
              "<style scoped>\n",
              "    .dataframe tbody tr th:only-of-type {\n",
              "        vertical-align: middle;\n",
              "    }\n",
              "\n",
              "    .dataframe tbody tr th {\n",
              "        vertical-align: top;\n",
              "    }\n",
              "\n",
              "    .dataframe thead th {\n",
              "        text-align: right;\n",
              "    }\n",
              "</style>\n",
              "<table border=\"1\" class=\"dataframe\">\n",
              "  <thead>\n",
              "    <tr style=\"text-align: right;\">\n",
              "      <th></th>\n",
              "      <th>report</th>\n",
              "    </tr>\n",
              "  </thead>\n",
              "  <tbody>\n",
              "    <tr>\n",
              "      <th>AAC</th>\n",
              "      <td>&lt;SEC-DOCUMENT&gt;0001144204-17-037280.txt : 20170719\\n&lt;SEC-HEADER&gt;0001144204-17-037280.hdr.sgml : 20170719\\n&lt;ACCEPTANCE-DATETIME&gt;20170719151214\\nACCESSION NUMBER:\\t\\t0001144204-17-037280\\nCONFORMED SUBMISSION TYPE:\\t10-K\\nPUBLIC DOCUMENT COUNT:\\t\\t123\\nCONFORMED PERIOD OF REPORT:\\t20160630\\nFILED AS OF DATE:\\t\\t20170719\\nDATE AS OF CHANGE:\\t\\t20170719\\n\\nFILER:\\n\\n\\tCOMPANY DATA:\\t\\n\\t\\tCOMPANY CONFORMED NAME:\\t\\t\\tHongli Clean Energy Technologies Corp.\\n\\t\\tCENTRAL INDEX KEY:\\t\\t\\t0001099290\\n\\t\\tSTANDARD INDUSTRIAL CLASSIFICATION:\\tSTEEL WORKS, BLAST FURNACES  ROLLING MILLS (COKE OVENS) [3312]\\n\\t\\tIRS NUMBER:\\t\\t\\t\\t593404233\\n\\t\\tSTATE OF INCORPORATION:\\t\\t\\tFL\\n\\t\\tFISCAL YEAR END:\\t\\t\\t0630\\n\\n\\tFILING VALUES:\\n\\t\\tFORM TYPE:\\t\\t10-K\\n\\t\\tSEC ACT:\\t\\t1934 Act\\n\\t\\tSEC FILE NUMBER:\\t001-15931\\n\\t\\tFILM NUMBER:\\t\\t17972216\\n\\n\\tBUSINESS ADDRESS:\\t\\n\\t\\tSTREET 1:\\t\\tKUANGGONG RD &amp; TIYU RD 10TH FLR,\\n\\t\\tSTREET 2:\\t\\tCHENGSHI XIN YONG SHE, TIYU RD, XINHUA\\n\\t\\tCITY:\\t\\t\\tPINGDINGSHA...</td>\n",
              "    </tr>\n",
              "    <tr>\n",
              "      <th>AAL</th>\n",
              "      <td>&lt;SEC-DOCUMENT&gt;0000006201-19-000009.txt : 20190225\\n&lt;SEC-HEADER&gt;0000006201-19-000009.hdr.sgml : 20190225\\n&lt;ACCEPTANCE-DATETIME&gt;20190225073134\\nACCESSION NUMBER:\\t\\t0000006201-19-000009\\nCONFORMED SUBMISSION TYPE:\\t10-K\\nPUBLIC DOCUMENT COUNT:\\t\\t140\\nCONFORMED PERIOD OF REPORT:\\t20181231\\nFILED AS OF DATE:\\t\\t20190225\\nDATE AS OF CHANGE:\\t\\t20190225\\n\\nFILER:\\n\\n\\tCOMPANY DATA:\\t\\n\\t\\tCOMPANY CONFORMED NAME:\\t\\t\\tAmerican Airlines Group Inc.\\n\\t\\tCENTRAL INDEX KEY:\\t\\t\\t0000006201\\n\\t\\tSTANDARD INDUSTRIAL CLASSIFICATION:\\tAIR TRANSPORTATION, SCHEDULED [4512]\\n\\t\\tIRS NUMBER:\\t\\t\\t\\t751825172\\n\\t\\tSTATE OF INCORPORATION:\\t\\t\\tDE\\n\\t\\tFISCAL YEAR END:\\t\\t\\t1231\\n\\n\\tFILING VALUES:\\n\\t\\tFORM TYPE:\\t\\t10-K\\n\\t\\tSEC ACT:\\t\\t1934 Act\\n\\t\\tSEC FILE NUMBER:\\t001-08400\\n\\t\\tFILM NUMBER:\\t\\t19628071\\n\\n\\tBUSINESS ADDRESS:\\t\\n\\t\\tSTREET 1:\\t\\t4333 AMON CARTER BLVD\\n\\t\\tCITY:\\t\\t\\tFORT WORTH\\n\\t\\tSTATE:\\t\\t\\tTX\\n\\t\\tZIP:\\t\\t\\t76155\\n\\t\\tBUSINESS PHONE:\\t\\t8179631234\\n\\n\\tMAIL ADDRESS:\\t\\n\\t\\tST...</td>\n",
              "    </tr>\n",
              "    <tr>\n",
              "      <th>AAME</th>\n",
              "      <td>&lt;SEC-DOCUMENT&gt;0001140361-19-006219.txt : 20190401\\n&lt;SEC-HEADER&gt;0001140361-19-006219.hdr.sgml : 20190401\\n&lt;ACCEPTANCE-DATETIME&gt;20190401164812\\nACCESSION NUMBER:\\t\\t0001140361-19-006219\\nCONFORMED SUBMISSION TYPE:\\t10-K\\nPUBLIC DOCUMENT COUNT:\\t\\t89\\nCONFORMED PERIOD OF REPORT:\\t20181231\\nFILED AS OF DATE:\\t\\t20190401\\nDATE AS OF CHANGE:\\t\\t20190401\\n\\nFILER:\\n\\n\\tCOMPANY DATA:\\t\\n\\t\\tCOMPANY CONFORMED NAME:\\t\\t\\tATLANTIC AMERICAN CORP\\n\\t\\tCENTRAL INDEX KEY:\\t\\t\\t0000008177\\n\\t\\tSTANDARD INDUSTRIAL CLASSIFICATION:\\tLIFE INSURANCE [6311]\\n\\t\\tIRS NUMBER:\\t\\t\\t\\t581027114\\n\\t\\tSTATE OF INCORPORATION:\\t\\t\\tGA\\n\\t\\tFISCAL YEAR END:\\t\\t\\t1231\\n\\n\\tFILING VALUES:\\n\\t\\tFORM TYPE:\\t\\t10-K\\n\\t\\tSEC ACT:\\t\\t1934 Act\\n\\t\\tSEC FILE NUMBER:\\t000-03722\\n\\t\\tFILM NUMBER:\\t\\t19721385\\n\\n\\tBUSINESS ADDRESS:\\t\\n\\t\\tSTREET 1:\\t\\t4370 PEACHTREE RD NE\\n\\t\\tCITY:\\t\\t\\tATLANTA\\n\\t\\tSTATE:\\t\\t\\tGA\\n\\t\\tZIP:\\t\\t\\t30319\\n\\t\\tBUSINESS PHONE:\\t\\t4042665500\\n\\n\\tMAIL ADDRESS:\\t\\n\\t\\tSTREET 1:\\t\\t4370 PEACHTREE ...</td>\n",
              "    </tr>\n",
              "    <tr>\n",
              "      <th>AAOI</th>\n",
              "      <td>&lt;SEC-DOCUMENT&gt;0001558370-19-001078.txt : 20190226\\n&lt;SEC-HEADER&gt;0001558370-19-001078.hdr.sgml : 20190226\\n&lt;ACCEPTANCE-DATETIME&gt;20190226160641\\nACCESSION NUMBER:\\t\\t0001558370-19-001078\\nCONFORMED SUBMISSION TYPE:\\t10-K\\nPUBLIC DOCUMENT COUNT:\\t\\t101\\nCONFORMED PERIOD OF REPORT:\\t20181231\\nFILED AS OF DATE:\\t\\t20190226\\nDATE AS OF CHANGE:\\t\\t20190226\\n\\nFILER:\\n\\n\\tCOMPANY DATA:\\t\\n\\t\\tCOMPANY CONFORMED NAME:\\t\\t\\tAPPLIED OPTOELECTRONICS, INC.\\n\\t\\tCENTRAL INDEX KEY:\\t\\t\\t0001158114\\n\\t\\tSTANDARD INDUSTRIAL CLASSIFICATION:\\tSEMICONDUCTORS &amp; RELATED DEVICES [3674]\\n\\t\\tIRS NUMBER:\\t\\t\\t\\t760533927\\n\\t\\tSTATE OF INCORPORATION:\\t\\t\\tDE\\n\\t\\tFISCAL YEAR END:\\t\\t\\t1231\\n\\n\\tFILING VALUES:\\n\\t\\tFORM TYPE:\\t\\t10-K\\n\\t\\tSEC ACT:\\t\\t1934 Act\\n\\t\\tSEC FILE NUMBER:\\t001-36083\\n\\t\\tFILM NUMBER:\\t\\t19633410\\n\\n\\tBUSINESS ADDRESS:\\t\\n\\t\\tSTREET 1:\\t\\t13139 JESS PIRTLE BLVD\\n\\t\\tCITY:\\t\\t\\tSUGAR LAND\\n\\t\\tSTATE:\\t\\t\\tTX\\n\\t\\tZIP:\\t\\t\\t77478\\n\\t\\tBUSINESS PHONE:\\t\\t281-295-1800\\n\\n\\tMAIL ADDRESS:\\t\\...</td>\n",
              "    </tr>\n",
              "    <tr>\n",
              "      <th>AAPL</th>\n",
              "      <td>&lt;SEC-DOCUMENT&gt;0000320193-19-000119.txt : 20191031\\n&lt;SEC-HEADER&gt;0000320193-19-000119.hdr.sgml : 20191031\\n&lt;ACCEPTANCE-DATETIME&gt;20191030181236\\nACCESSION NUMBER:\\t\\t0000320193-19-000119\\nCONFORMED SUBMISSION TYPE:\\t10-K\\nPUBLIC DOCUMENT COUNT:\\t\\t96\\nCONFORMED PERIOD OF REPORT:\\t20190928\\nFILED AS OF DATE:\\t\\t20191031\\nDATE AS OF CHANGE:\\t\\t20191030\\n\\nFILER:\\n\\n\\tCOMPANY DATA:\\t\\n\\t\\tCOMPANY CONFORMED NAME:\\t\\t\\tApple Inc.\\n\\t\\tCENTRAL INDEX KEY:\\t\\t\\t0000320193\\n\\t\\tSTANDARD INDUSTRIAL CLASSIFICATION:\\tELECTRONIC COMPUTERS [3571]\\n\\t\\tIRS NUMBER:\\t\\t\\t\\t942404110\\n\\t\\tSTATE OF INCORPORATION:\\t\\t\\tCA\\n\\t\\tFISCAL YEAR END:\\t\\t\\t0928\\n\\n\\tFILING VALUES:\\n\\t\\tFORM TYPE:\\t\\t10-K\\n\\t\\tSEC ACT:\\t\\t1934 Act\\n\\t\\tSEC FILE NUMBER:\\t001-36743\\n\\t\\tFILM NUMBER:\\t\\t191181423\\n\\n\\tBUSINESS ADDRESS:\\t\\n\\t\\tSTREET 1:\\t\\tONE APPLE PARK WAY\\n\\t\\tCITY:\\t\\t\\tCUPERTINO\\n\\t\\tSTATE:\\t\\t\\tCA\\n\\t\\tZIP:\\t\\t\\t95014\\n\\t\\tBUSINESS PHONE:\\t\\t(408) 996-1010\\n\\n\\tMAIL ADDRESS:\\t\\n\\t\\tSTREET 1:\\t\\tONE APPLE PARK W...</td>\n",
              "    </tr>\n",
              "    <tr>\n",
              "      <th>ABAX</th>\n",
              "      <td>&lt;SEC-DOCUMENT&gt;0001140361-18-034234.txt : 20180730\\n&lt;SEC-HEADER&gt;0001140361-18-034234.hdr.sgml : 20180730\\n&lt;ACCEPTANCE-DATETIME&gt;20180730171319\\nACCESSION NUMBER:\\t\\t0001140361-18-034234\\nCONFORMED SUBMISSION TYPE:\\t10-K/A\\nPUBLIC DOCUMENT COUNT:\\t\\t8\\nCONFORMED PERIOD OF REPORT:\\t20180331\\nFILED AS OF DATE:\\t\\t20180730\\nDATE AS OF CHANGE:\\t\\t20180730\\n\\nFILER:\\n\\n\\tCOMPANY DATA:\\t\\n\\t\\tCOMPANY CONFORMED NAME:\\t\\t\\tABAXIS INC\\n\\t\\tCENTRAL INDEX KEY:\\t\\t\\t0000881890\\n\\t\\tSTANDARD INDUSTRIAL CLASSIFICATION:\\tMEASURING &amp; CONTROLLING DEVICES, NEC [3829]\\n\\t\\tIRS NUMBER:\\t\\t\\t\\t770213001\\n\\t\\tSTATE OF INCORPORATION:\\t\\t\\tCA\\n\\t\\tFISCAL YEAR END:\\t\\t\\t0331\\n\\n\\tFILING VALUES:\\n\\t\\tFORM TYPE:\\t\\t10-K/A\\n\\t\\tSEC ACT:\\t\\t1934 Act\\n\\t\\tSEC FILE NUMBER:\\t000-19720\\n\\t\\tFILM NUMBER:\\t\\t18978522\\n\\n\\tBUSINESS ADDRESS:\\t\\n\\t\\tSTREET 1:\\t\\t3240 WHIPPLE\\n\\t\\tSTREET 2:\\t\\tROAD\\n\\t\\tCITY:\\t\\t\\tUNION CITY\\n\\t\\tSTATE:\\t\\t\\tCA\\n\\t\\tZIP:\\t\\t\\t94587\\n\\t\\tBUSINESS PHONE:\\t\\t(510) 675-6500\\n\\n\\tMAIL ADDRESS:\\...</td>\n",
              "    </tr>\n",
              "    <tr>\n",
              "      <th>ABCB</th>\n",
              "      <td>&lt;SEC-DOCUMENT&gt;0000351569-19-000006.txt : 20190301\\n&lt;SEC-HEADER&gt;0000351569-19-000006.hdr.sgml : 20190301\\n&lt;ACCEPTANCE-DATETIME&gt;20190301160717\\nACCESSION NUMBER:\\t\\t0000351569-19-000006\\nCONFORMED SUBMISSION TYPE:\\t10-K\\nPUBLIC DOCUMENT COUNT:\\t\\t154\\nCONFORMED PERIOD OF REPORT:\\t20181231\\nFILED AS OF DATE:\\t\\t20190301\\nDATE AS OF CHANGE:\\t\\t20190301\\n\\nFILER:\\n\\n\\tCOMPANY DATA:\\t\\n\\t\\tCOMPANY CONFORMED NAME:\\t\\t\\tAmeris Bancorp\\n\\t\\tCENTRAL INDEX KEY:\\t\\t\\t0000351569\\n\\t\\tSTANDARD INDUSTRIAL CLASSIFICATION:\\tSTATE COMMERCIAL BANKS [6022]\\n\\t\\tIRS NUMBER:\\t\\t\\t\\t581456434\\n\\t\\tSTATE OF INCORPORATION:\\t\\t\\tGA\\n\\t\\tFISCAL YEAR END:\\t\\t\\t1231\\n\\n\\tFILING VALUES:\\n\\t\\tFORM TYPE:\\t\\t10-K\\n\\t\\tSEC ACT:\\t\\t1934 Act\\n\\t\\tSEC FILE NUMBER:\\t001-13901\\n\\t\\tFILM NUMBER:\\t\\t19649333\\n\\n\\tBUSINESS ADDRESS:\\t\\n\\t\\tSTREET 1:\\t\\t24 2/ND/ AVENUE\\n\\t\\tCITY:\\t\\t\\tMOULTRIE\\n\\t\\tSTATE:\\t\\t\\tGA\\n\\t\\tZIP:\\t\\t\\t31768\\n\\t\\tBUSINESS PHONE:\\t\\t9128901111\\n\\n\\tMAIL ADDRESS:\\t\\n\\t\\tSTREET 1:\\t\\tPO BOX 1500\\n\\t\\tC...</td>\n",
              "    </tr>\n",
              "    <tr>\n",
              "      <th>ABCD</th>\n",
              "      <td>&lt;SEC-DOCUMENT&gt;0001466815-18-000016.txt : 20180307\\n&lt;SEC-HEADER&gt;0001466815-18-000016.hdr.sgml : 20180307\\n&lt;ACCEPTANCE-DATETIME&gt;20180306195519\\nACCESSION NUMBER:\\t\\t0001466815-18-000016\\nCONFORMED SUBMISSION TYPE:\\t10-K\\nPUBLIC DOCUMENT COUNT:\\t\\t106\\nCONFORMED PERIOD OF REPORT:\\t20171231\\nFILED AS OF DATE:\\t\\t20180307\\nDATE AS OF CHANGE:\\t\\t20180306\\n\\nFILER:\\n\\n\\tCOMPANY DATA:\\t\\n\\t\\tCOMPANY CONFORMED NAME:\\t\\t\\tCAMBIUM LEARNING GROUP, INC.\\n\\t\\tCENTRAL INDEX KEY:\\t\\t\\t0001466815\\n\\t\\tSTANDARD INDUSTRIAL CLASSIFICATION:\\tMISCELLANEOUS PUBLISHING [2741]\\n\\t\\tIRS NUMBER:\\t\\t\\t\\t270587428\\n\\t\\tFISCAL YEAR END:\\t\\t\\t1231\\n\\n\\tFILING VALUES:\\n\\t\\tFORM TYPE:\\t\\t10-K\\n\\t\\tSEC ACT:\\t\\t1934 Act\\n\\t\\tSEC FILE NUMBER:\\t001-34575\\n\\t\\tFILM NUMBER:\\t\\t18671602\\n\\n\\tBUSINESS ADDRESS:\\t\\n\\t\\tSTREET 1:\\t\\t17855 NORTH DALLAS PARKWAY, SUITE 400\\n\\t\\tCITY:\\t\\t\\tDALLAS\\n\\t\\tSTATE:\\t\\t\\tTX\\n\\t\\tZIP:\\t\\t\\t75287\\n\\t\\tBUSINESS PHONE:\\t\\t214-932-9500\\n\\n\\tMAIL ADDRESS:\\t\\n\\t\\tSTREET 1:\\t\\t17855 NORTH DALLA...</td>\n",
              "    </tr>\n",
              "    <tr>\n",
              "      <th>ABFS</th>\n",
              "      <td>&lt;SEC-DOCUMENT&gt;0001558370-19-001332.txt : 20190228\\n&lt;SEC-HEADER&gt;0001558370-19-001332.hdr.sgml : 20190228\\n&lt;ACCEPTANCE-DATETIME&gt;20190228164652\\nACCESSION NUMBER:\\t\\t0001558370-19-001332\\nCONFORMED SUBMISSION TYPE:\\t10-K\\nPUBLIC DOCUMENT COUNT:\\t\\t129\\nCONFORMED PERIOD OF REPORT:\\t20181231\\nFILED AS OF DATE:\\t\\t20190228\\nDATE AS OF CHANGE:\\t\\t20190228\\n\\nFILER:\\n\\n\\tCOMPANY DATA:\\t\\n\\t\\tCOMPANY CONFORMED NAME:\\t\\t\\tARCBEST CORP /DE/\\n\\t\\tCENTRAL INDEX KEY:\\t\\t\\t0000894405\\n\\t\\tSTANDARD INDUSTRIAL CLASSIFICATION:\\tTRUCKING (NO LOCAL) [4213]\\n\\t\\tIRS NUMBER:\\t\\t\\t\\t710673405\\n\\t\\tSTATE OF INCORPORATION:\\t\\t\\tDE\\n\\t\\tFISCAL YEAR END:\\t\\t\\t1231\\n\\n\\tFILING VALUES:\\n\\t\\tFORM TYPE:\\t\\t10-K\\n\\t\\tSEC ACT:\\t\\t1934 Act\\n\\t\\tSEC FILE NUMBER:\\t000-19969\\n\\t\\tFILM NUMBER:\\t\\t19644149\\n\\n\\tBUSINESS ADDRESS:\\t\\n\\t\\tSTREET 1:\\t\\t8401 MCCLURE DRIVE\\n\\t\\tCITY:\\t\\t\\tFORT SMITH\\n\\t\\tSTATE:\\t\\t\\tAR\\n\\t\\tZIP:\\t\\t\\t72916\\n\\t\\tBUSINESS PHONE:\\t\\t4797856000\\n\\n\\tMAIL ADDRESS:\\t\\n\\t\\tSTREET 1:\\t\\tP O BOX 10048...</td>\n",
              "    </tr>\n",
              "    <tr>\n",
              "      <th>ABII</th>\n",
              "      <td>-----BEGIN PRIVACY-ENHANCED MESSAGE-----\\nProc-Type: 2001,MIC-CLEAR\\nOriginator-Name: webmaster@www.sec.gov\\nOriginator-Key-Asymmetric:\\n MFgwCgYEVQgBAQICAf8DSgAwRwJAW2sNKK9AVtBzYZmr6aGjlWyK3XmZv3dTINen\\n TWSM7vrzLADbmYQaionwg5sDW3P6oaM5D3tdezXMm7z1T+B+twIDAQAB\\nMIC-Info: RSA-MD5,RSA,\\n CHkUjMkstEDpvbShoQauSoyOavtwbHq30cGukjchmSpeTxu1XA5MoFRR+wlBJDTc\\n kghpmwLL9rBB1LcOqAJPOw==\\n\\n&lt;SEC-DOCUMENT&gt;0001193125-10-093431.txt : 20100426\\n&lt;SEC-HEADER&gt;0001193125-10-093431.hdr.sgml : 20100426\\n&lt;ACCEPTANCE-DATETIME&gt;20100426170124\\nACCESSION NUMBER:\\t\\t0001193125-10-093431\\nCONFORMED SUBMISSION TYPE:\\t10-K/A\\nPUBLIC DOCUMENT COUNT:\\t\\t3\\nCONFORMED PERIOD OF REPORT:\\t20091231\\nFILED AS OF DATE:\\t\\t20100426\\nDATE AS OF CHANGE:\\t\\t20100426\\n\\nFILER:\\n\\n\\tCOMPANY DATA:\\t\\n\\t\\tCOMPANY CONFORMED NAME:\\t\\t\\tAbraxis BioScience, Inc.\\n\\t\\tCENTRAL INDEX KEY:\\t\\t\\t0001409012\\n\\t\\tSTANDARD INDUSTRIAL CLASSIFICATION:\\tPHARMACEUTICAL PREPARATIONS [2834]\\n\\t\\tIRS NUMBER:\\t\\t\\t\\t300431735\\n\\t\\tSTATE OF INCORPO...</td>\n",
              "    </tr>\n",
              "    <tr>\n",
              "      <th>ABK</th>\n",
              "      <td>&lt;SEC-DOCUMENT&gt;0000874501-19-000023.txt : 20190228\\n&lt;SEC-HEADER&gt;0000874501-19-000023.hdr.sgml : 20190228\\n&lt;ACCEPTANCE-DATETIME&gt;20190228171316\\nACCESSION NUMBER:\\t\\t0000874501-19-000023\\nCONFORMED SUBMISSION TYPE:\\t10-K\\nPUBLIC DOCUMENT COUNT:\\t\\t151\\nCONFORMED PERIOD OF REPORT:\\t20181231\\nFILED AS OF DATE:\\t\\t20190228\\nDATE AS OF CHANGE:\\t\\t20190228\\n\\nFILER:\\n\\n\\tCOMPANY DATA:\\t\\n\\t\\tCOMPANY CONFORMED NAME:\\t\\t\\tAMBAC FINANCIAL GROUP INC\\n\\t\\tCENTRAL INDEX KEY:\\t\\t\\t0000874501\\n\\t\\tSTANDARD INDUSTRIAL CLASSIFICATION:\\tSURETY INSURANCE [6351]\\n\\t\\tIRS NUMBER:\\t\\t\\t\\t133621676\\n\\t\\tSTATE OF INCORPORATION:\\t\\t\\tDE\\n\\t\\tFISCAL YEAR END:\\t\\t\\t1231\\n\\n\\tFILING VALUES:\\n\\t\\tFORM TYPE:\\t\\t10-K\\n\\t\\tSEC ACT:\\t\\t1934 Act\\n\\t\\tSEC FILE NUMBER:\\t001-10777\\n\\t\\tFILM NUMBER:\\t\\t19644770\\n\\n\\tBUSINESS ADDRESS:\\t\\n\\t\\tSTREET 1:\\t\\tONE STATE ST PLZ\\n\\t\\tCITY:\\t\\t\\tNEW YORK\\n\\t\\tSTATE:\\t\\t\\tNY\\n\\t\\tZIP:\\t\\t\\t10004\\n\\t\\tBUSINESS PHONE:\\t\\t2126680340\\n\\n\\tMAIL ADDRESS:\\t\\n\\t\\tSTREET 1:\\t\\tONE STATE ST...</td>\n",
              "    </tr>\n",
              "    <tr>\n",
              "      <th>ABMD</th>\n",
              "      <td>&lt;SEC-DOCUMENT&gt;0001564590-19-020329.txt : 20190523\\n&lt;SEC-HEADER&gt;0001564590-19-020329.hdr.sgml : 20190523\\n&lt;ACCEPTANCE-DATETIME&gt;20190523160701\\nACCESSION NUMBER:\\t\\t0001564590-19-020329\\nCONFORMED SUBMISSION TYPE:\\t10-K\\nPUBLIC DOCUMENT COUNT:\\t\\t102\\nCONFORMED PERIOD OF REPORT:\\t20190331\\nFILED AS OF DATE:\\t\\t20190523\\nDATE AS OF CHANGE:\\t\\t20190523\\n\\nFILER:\\n\\n\\tCOMPANY DATA:\\t\\n\\t\\tCOMPANY CONFORMED NAME:\\t\\t\\tABIOMED INC\\n\\t\\tCENTRAL INDEX KEY:\\t\\t\\t0000815094\\n\\t\\tSTANDARD INDUSTRIAL CLASSIFICATION:\\tSURGICAL &amp; MEDICAL INSTRUMENTS &amp; APPARATUS [3841]\\n\\t\\tIRS NUMBER:\\t\\t\\t\\t042743260\\n\\t\\tSTATE OF INCORPORATION:\\t\\t\\tDE\\n\\t\\tFISCAL YEAR END:\\t\\t\\t0331\\n\\n\\tFILING VALUES:\\n\\t\\tFORM TYPE:\\t\\t10-K\\n\\t\\tSEC ACT:\\t\\t1934 Act\\n\\t\\tSEC FILE NUMBER:\\t001-09585\\n\\t\\tFILM NUMBER:\\t\\t19850114\\n\\n\\tBUSINESS ADDRESS:\\t\\n\\t\\tSTREET 1:\\t\\t22 CHERRY HILL DR\\n\\t\\tCITY:\\t\\t\\tDANVERS\\n\\t\\tSTATE:\\t\\t\\tMA\\n\\t\\tZIP:\\t\\t\\t01923\\n\\t\\tBUSINESS PHONE:\\t\\t9787775410\\n\\n\\tMAIL ADDRESS:\\t\\n\\t\\tSTREET 1:\\t\\t...</td>\n",
              "    </tr>\n",
              "    <tr>\n",
              "      <th>ABTL</th>\n",
              "      <td>&lt;SEC-DOCUMENT&gt;0001654954-19-002504.txt : 20190311\\n&lt;SEC-HEADER&gt;0001654954-19-002504.hdr.sgml : 20190311\\n&lt;ACCEPTANCE-DATETIME&gt;20190311060201\\nACCESSION NUMBER:\\t\\t0001654954-19-002504\\nCONFORMED SUBMISSION TYPE:\\t10-K/A\\nPUBLIC DOCUMENT COUNT:\\t\\t5\\nCONFORMED PERIOD OF REPORT:\\t20181231\\nFILED AS OF DATE:\\t\\t20190311\\nDATE AS OF CHANGE:\\t\\t20190311\\n\\nFILER:\\n\\n\\tCOMPANY DATA:\\t\\n\\t\\tCOMPANY CONFORMED NAME:\\t\\t\\tAutoWeb, Inc.\\n\\t\\tCENTRAL INDEX KEY:\\t\\t\\t0001023364\\n\\t\\tSTANDARD INDUSTRIAL CLASSIFICATION:\\tSERVICES-COMPUTER PROGRAMMING, DATA PROCESSING, ETC. [7370]\\n\\t\\tIRS NUMBER:\\t\\t\\t\\t330711569\\n\\t\\tSTATE OF INCORPORATION:\\t\\t\\tDE\\n\\t\\tFISCAL YEAR END:\\t\\t\\t1231\\n\\n\\tFILING VALUES:\\n\\t\\tFORM TYPE:\\t\\t10-K/A\\n\\t\\tSEC ACT:\\t\\t1934 Act\\n\\t\\tSEC FILE NUMBER:\\t001-34761\\n\\t\\tFILM NUMBER:\\t\\t19670795\\n\\n\\tBUSINESS ADDRESS:\\t\\n\\t\\tSTREET 1:\\t\\t18872 MACARTHUR BLVD\\n\\t\\tSTREET 2:\\t\\tSUITE 200\\n\\t\\tCITY:\\t\\t\\tIRVINE\\n\\t\\tSTATE:\\t\\t\\tCA\\n\\t\\tZIP:\\t\\t\\t92612-1400\\n\\t\\tBUSINESS PHONE:\\t\\t9...</td>\n",
              "    </tr>\n",
              "    <tr>\n",
              "      <th>ACAD</th>\n",
              "      <td>&lt;SEC-DOCUMENT&gt;0001564590-19-004596.txt : 20190227\\n&lt;SEC-HEADER&gt;0001564590-19-004596.hdr.sgml : 20190227\\n&lt;ACCEPTANCE-DATETIME&gt;20190226194814\\nACCESSION NUMBER:\\t\\t0001564590-19-004596\\nCONFORMED SUBMISSION TYPE:\\t10-K\\nPUBLIC DOCUMENT COUNT:\\t\\t79\\nCONFORMED PERIOD OF REPORT:\\t20181231\\nFILED AS OF DATE:\\t\\t20190227\\nDATE AS OF CHANGE:\\t\\t20190226\\n\\nFILER:\\n\\n\\tCOMPANY DATA:\\t\\n\\t\\tCOMPANY CONFORMED NAME:\\t\\t\\tACADIA PHARMACEUTICALS INC\\n\\t\\tCENTRAL INDEX KEY:\\t\\t\\t0001070494\\n\\t\\tSTANDARD INDUSTRIAL CLASSIFICATION:\\tPHARMACEUTICAL PREPARATIONS [2834]\\n\\t\\tIRS NUMBER:\\t\\t\\t\\t061376651\\n\\t\\tSTATE OF INCORPORATION:\\t\\t\\tDE\\n\\t\\tFISCAL YEAR END:\\t\\t\\t1231\\n\\n\\tFILING VALUES:\\n\\t\\tFORM TYPE:\\t\\t10-K\\n\\t\\tSEC ACT:\\t\\t1934 Act\\n\\t\\tSEC FILE NUMBER:\\t000-50768\\n\\t\\tFILM NUMBER:\\t\\t19635327\\n\\n\\tBUSINESS ADDRESS:\\t\\n\\t\\tSTREET 1:\\t\\t3611 VALLEY CENTRE DRIVE\\n\\t\\tSTREET 2:\\t\\tSUITE 300\\n\\t\\tCITY:\\t\\t\\tSAN DIEGO\\n\\t\\tSTATE:\\t\\t\\tCA\\n\\t\\tZIP:\\t\\t\\t92130\\n\\t\\tBUSINESS PHONE:\\t\\t858-558-2871\\n...</td>\n",
              "    </tr>\n",
              "    <tr>\n",
              "      <th>ACAS</th>\n",
              "      <td>&lt;SEC-DOCUMENT&gt;0000817473-16-000082.txt : 20160429\\n&lt;SEC-HEADER&gt;0000817473-16-000082.hdr.sgml : 20160429\\n&lt;ACCEPTANCE-DATETIME&gt;20160429171631\\nACCESSION NUMBER:\\t\\t0000817473-16-000082\\nCONFORMED SUBMISSION TYPE:\\t10-K/A\\nPUBLIC DOCUMENT COUNT:\\t\\t10\\nCONFORMED PERIOD OF REPORT:\\t20151231\\nFILED AS OF DATE:\\t\\t20160429\\nDATE AS OF CHANGE:\\t\\t20160429\\n\\nFILER:\\n\\n\\tCOMPANY DATA:\\t\\n\\t\\tCOMPANY CONFORMED NAME:\\t\\t\\tAMERICAN CAPITAL, LTD\\n\\t\\tCENTRAL INDEX KEY:\\t\\t\\t0000817473\\n\\t\\tIRS NUMBER:\\t\\t\\t\\t521451377\\n\\n\\tFILING VALUES:\\n\\t\\tFORM TYPE:\\t\\t10-K/A\\n\\t\\tSEC ACT:\\t\\t1934 Act\\n\\t\\tSEC FILE NUMBER:\\t814-00149\\n\\t\\tFILM NUMBER:\\t\\t161608288\\n\\n\\tBUSINESS ADDRESS:\\t\\n\\t\\tSTREET 1:\\t\\t2 BETHESDA METRO CENTER\\n\\t\\tSTREET 2:\\t\\t14TH FL\\n\\t\\tCITY:\\t\\t\\tBETHESDA\\n\\t\\tSTATE:\\t\\t\\tMD\\n\\t\\tZIP:\\t\\t\\t20814\\n\\t\\tBUSINESS PHONE:\\t\\t301-951-6122\\n\\n\\tMAIL ADDRESS:\\t\\n\\t\\tSTREET 1:\\t\\t2 BETHESDA METRO CENTER\\n\\t\\tSTREET 2:\\t\\t14TH FL\\n\\t\\tCITY:\\t\\t\\tBETHESDA\\n\\t\\tSTATE:\\t\\t\\tMD\\n\\t\\tZIP:\\t\\t\\t20...</td>\n",
              "    </tr>\n",
              "  </tbody>\n",
              "</table>\n",
              "</div>"
            ],
            "text/plain": [
              "                                                                                                                                                                                                                                                                                                                                                                                                                                                                                                                                                                                                                                                                                                                                                                                                                                                                                                                                                                                                                                       report\n",
              "AAC   <SEC-DOCUMENT>0001144204-17-037280.txt : 20170719\\n<SEC-HEADER>0001144204-17-037280.hdr.sgml : 20170719\\n<ACCEPTANCE-DATETIME>20170719151214\\nACCESSION NUMBER:\\t\\t0001144204-17-037280\\nCONFORMED SUBMISSION TYPE:\\t10-K\\nPUBLIC DOCUMENT COUNT:\\t\\t123\\nCONFORMED PERIOD OF REPORT:\\t20160630\\nFILED AS OF DATE:\\t\\t20170719\\nDATE AS OF CHANGE:\\t\\t20170719\\n\\nFILER:\\n\\n\\tCOMPANY DATA:\\t\\n\\t\\tCOMPANY CONFORMED NAME:\\t\\t\\tHongli Clean Energy Technologies Corp.\\n\\t\\tCENTRAL INDEX KEY:\\t\\t\\t0001099290\\n\\t\\tSTANDARD INDUSTRIAL CLASSIFICATION:\\tSTEEL WORKS, BLAST FURNACES  ROLLING MILLS (COKE OVENS) [3312]\\n\\t\\tIRS NUMBER:\\t\\t\\t\\t593404233\\n\\t\\tSTATE OF INCORPORATION:\\t\\t\\tFL\\n\\t\\tFISCAL YEAR END:\\t\\t\\t0630\\n\\n\\tFILING VALUES:\\n\\t\\tFORM TYPE:\\t\\t10-K\\n\\t\\tSEC ACT:\\t\\t1934 Act\\n\\t\\tSEC FILE NUMBER:\\t001-15931\\n\\t\\tFILM NUMBER:\\t\\t17972216\\n\\n\\tBUSINESS ADDRESS:\\t\\n\\t\\tSTREET 1:\\t\\tKUANGGONG RD & TIYU RD 10TH FLR,\\n\\t\\tSTREET 2:\\t\\tCHENGSHI XIN YONG SHE, TIYU RD, XINHUA\\n\\t\\tCITY:\\t\\t\\tPINGDINGSHA...\n",
              "AAL   <SEC-DOCUMENT>0000006201-19-000009.txt : 20190225\\n<SEC-HEADER>0000006201-19-000009.hdr.sgml : 20190225\\n<ACCEPTANCE-DATETIME>20190225073134\\nACCESSION NUMBER:\\t\\t0000006201-19-000009\\nCONFORMED SUBMISSION TYPE:\\t10-K\\nPUBLIC DOCUMENT COUNT:\\t\\t140\\nCONFORMED PERIOD OF REPORT:\\t20181231\\nFILED AS OF DATE:\\t\\t20190225\\nDATE AS OF CHANGE:\\t\\t20190225\\n\\nFILER:\\n\\n\\tCOMPANY DATA:\\t\\n\\t\\tCOMPANY CONFORMED NAME:\\t\\t\\tAmerican Airlines Group Inc.\\n\\t\\tCENTRAL INDEX KEY:\\t\\t\\t0000006201\\n\\t\\tSTANDARD INDUSTRIAL CLASSIFICATION:\\tAIR TRANSPORTATION, SCHEDULED [4512]\\n\\t\\tIRS NUMBER:\\t\\t\\t\\t751825172\\n\\t\\tSTATE OF INCORPORATION:\\t\\t\\tDE\\n\\t\\tFISCAL YEAR END:\\t\\t\\t1231\\n\\n\\tFILING VALUES:\\n\\t\\tFORM TYPE:\\t\\t10-K\\n\\t\\tSEC ACT:\\t\\t1934 Act\\n\\t\\tSEC FILE NUMBER:\\t001-08400\\n\\t\\tFILM NUMBER:\\t\\t19628071\\n\\n\\tBUSINESS ADDRESS:\\t\\n\\t\\tSTREET 1:\\t\\t4333 AMON CARTER BLVD\\n\\t\\tCITY:\\t\\t\\tFORT WORTH\\n\\t\\tSTATE:\\t\\t\\tTX\\n\\t\\tZIP:\\t\\t\\t76155\\n\\t\\tBUSINESS PHONE:\\t\\t8179631234\\n\\n\\tMAIL ADDRESS:\\t\\n\\t\\tST...\n",
              "AAME  <SEC-DOCUMENT>0001140361-19-006219.txt : 20190401\\n<SEC-HEADER>0001140361-19-006219.hdr.sgml : 20190401\\n<ACCEPTANCE-DATETIME>20190401164812\\nACCESSION NUMBER:\\t\\t0001140361-19-006219\\nCONFORMED SUBMISSION TYPE:\\t10-K\\nPUBLIC DOCUMENT COUNT:\\t\\t89\\nCONFORMED PERIOD OF REPORT:\\t20181231\\nFILED AS OF DATE:\\t\\t20190401\\nDATE AS OF CHANGE:\\t\\t20190401\\n\\nFILER:\\n\\n\\tCOMPANY DATA:\\t\\n\\t\\tCOMPANY CONFORMED NAME:\\t\\t\\tATLANTIC AMERICAN CORP\\n\\t\\tCENTRAL INDEX KEY:\\t\\t\\t0000008177\\n\\t\\tSTANDARD INDUSTRIAL CLASSIFICATION:\\tLIFE INSURANCE [6311]\\n\\t\\tIRS NUMBER:\\t\\t\\t\\t581027114\\n\\t\\tSTATE OF INCORPORATION:\\t\\t\\tGA\\n\\t\\tFISCAL YEAR END:\\t\\t\\t1231\\n\\n\\tFILING VALUES:\\n\\t\\tFORM TYPE:\\t\\t10-K\\n\\t\\tSEC ACT:\\t\\t1934 Act\\n\\t\\tSEC FILE NUMBER:\\t000-03722\\n\\t\\tFILM NUMBER:\\t\\t19721385\\n\\n\\tBUSINESS ADDRESS:\\t\\n\\t\\tSTREET 1:\\t\\t4370 PEACHTREE RD NE\\n\\t\\tCITY:\\t\\t\\tATLANTA\\n\\t\\tSTATE:\\t\\t\\tGA\\n\\t\\tZIP:\\t\\t\\t30319\\n\\t\\tBUSINESS PHONE:\\t\\t4042665500\\n\\n\\tMAIL ADDRESS:\\t\\n\\t\\tSTREET 1:\\t\\t4370 PEACHTREE ...\n",
              "AAOI  <SEC-DOCUMENT>0001558370-19-001078.txt : 20190226\\n<SEC-HEADER>0001558370-19-001078.hdr.sgml : 20190226\\n<ACCEPTANCE-DATETIME>20190226160641\\nACCESSION NUMBER:\\t\\t0001558370-19-001078\\nCONFORMED SUBMISSION TYPE:\\t10-K\\nPUBLIC DOCUMENT COUNT:\\t\\t101\\nCONFORMED PERIOD OF REPORT:\\t20181231\\nFILED AS OF DATE:\\t\\t20190226\\nDATE AS OF CHANGE:\\t\\t20190226\\n\\nFILER:\\n\\n\\tCOMPANY DATA:\\t\\n\\t\\tCOMPANY CONFORMED NAME:\\t\\t\\tAPPLIED OPTOELECTRONICS, INC.\\n\\t\\tCENTRAL INDEX KEY:\\t\\t\\t0001158114\\n\\t\\tSTANDARD INDUSTRIAL CLASSIFICATION:\\tSEMICONDUCTORS & RELATED DEVICES [3674]\\n\\t\\tIRS NUMBER:\\t\\t\\t\\t760533927\\n\\t\\tSTATE OF INCORPORATION:\\t\\t\\tDE\\n\\t\\tFISCAL YEAR END:\\t\\t\\t1231\\n\\n\\tFILING VALUES:\\n\\t\\tFORM TYPE:\\t\\t10-K\\n\\t\\tSEC ACT:\\t\\t1934 Act\\n\\t\\tSEC FILE NUMBER:\\t001-36083\\n\\t\\tFILM NUMBER:\\t\\t19633410\\n\\n\\tBUSINESS ADDRESS:\\t\\n\\t\\tSTREET 1:\\t\\t13139 JESS PIRTLE BLVD\\n\\t\\tCITY:\\t\\t\\tSUGAR LAND\\n\\t\\tSTATE:\\t\\t\\tTX\\n\\t\\tZIP:\\t\\t\\t77478\\n\\t\\tBUSINESS PHONE:\\t\\t281-295-1800\\n\\n\\tMAIL ADDRESS:\\t\\...\n",
              "AAPL  <SEC-DOCUMENT>0000320193-19-000119.txt : 20191031\\n<SEC-HEADER>0000320193-19-000119.hdr.sgml : 20191031\\n<ACCEPTANCE-DATETIME>20191030181236\\nACCESSION NUMBER:\\t\\t0000320193-19-000119\\nCONFORMED SUBMISSION TYPE:\\t10-K\\nPUBLIC DOCUMENT COUNT:\\t\\t96\\nCONFORMED PERIOD OF REPORT:\\t20190928\\nFILED AS OF DATE:\\t\\t20191031\\nDATE AS OF CHANGE:\\t\\t20191030\\n\\nFILER:\\n\\n\\tCOMPANY DATA:\\t\\n\\t\\tCOMPANY CONFORMED NAME:\\t\\t\\tApple Inc.\\n\\t\\tCENTRAL INDEX KEY:\\t\\t\\t0000320193\\n\\t\\tSTANDARD INDUSTRIAL CLASSIFICATION:\\tELECTRONIC COMPUTERS [3571]\\n\\t\\tIRS NUMBER:\\t\\t\\t\\t942404110\\n\\t\\tSTATE OF INCORPORATION:\\t\\t\\tCA\\n\\t\\tFISCAL YEAR END:\\t\\t\\t0928\\n\\n\\tFILING VALUES:\\n\\t\\tFORM TYPE:\\t\\t10-K\\n\\t\\tSEC ACT:\\t\\t1934 Act\\n\\t\\tSEC FILE NUMBER:\\t001-36743\\n\\t\\tFILM NUMBER:\\t\\t191181423\\n\\n\\tBUSINESS ADDRESS:\\t\\n\\t\\tSTREET 1:\\t\\tONE APPLE PARK WAY\\n\\t\\tCITY:\\t\\t\\tCUPERTINO\\n\\t\\tSTATE:\\t\\t\\tCA\\n\\t\\tZIP:\\t\\t\\t95014\\n\\t\\tBUSINESS PHONE:\\t\\t(408) 996-1010\\n\\n\\tMAIL ADDRESS:\\t\\n\\t\\tSTREET 1:\\t\\tONE APPLE PARK W...\n",
              "ABAX  <SEC-DOCUMENT>0001140361-18-034234.txt : 20180730\\n<SEC-HEADER>0001140361-18-034234.hdr.sgml : 20180730\\n<ACCEPTANCE-DATETIME>20180730171319\\nACCESSION NUMBER:\\t\\t0001140361-18-034234\\nCONFORMED SUBMISSION TYPE:\\t10-K/A\\nPUBLIC DOCUMENT COUNT:\\t\\t8\\nCONFORMED PERIOD OF REPORT:\\t20180331\\nFILED AS OF DATE:\\t\\t20180730\\nDATE AS OF CHANGE:\\t\\t20180730\\n\\nFILER:\\n\\n\\tCOMPANY DATA:\\t\\n\\t\\tCOMPANY CONFORMED NAME:\\t\\t\\tABAXIS INC\\n\\t\\tCENTRAL INDEX KEY:\\t\\t\\t0000881890\\n\\t\\tSTANDARD INDUSTRIAL CLASSIFICATION:\\tMEASURING & CONTROLLING DEVICES, NEC [3829]\\n\\t\\tIRS NUMBER:\\t\\t\\t\\t770213001\\n\\t\\tSTATE OF INCORPORATION:\\t\\t\\tCA\\n\\t\\tFISCAL YEAR END:\\t\\t\\t0331\\n\\n\\tFILING VALUES:\\n\\t\\tFORM TYPE:\\t\\t10-K/A\\n\\t\\tSEC ACT:\\t\\t1934 Act\\n\\t\\tSEC FILE NUMBER:\\t000-19720\\n\\t\\tFILM NUMBER:\\t\\t18978522\\n\\n\\tBUSINESS ADDRESS:\\t\\n\\t\\tSTREET 1:\\t\\t3240 WHIPPLE\\n\\t\\tSTREET 2:\\t\\tROAD\\n\\t\\tCITY:\\t\\t\\tUNION CITY\\n\\t\\tSTATE:\\t\\t\\tCA\\n\\t\\tZIP:\\t\\t\\t94587\\n\\t\\tBUSINESS PHONE:\\t\\t(510) 675-6500\\n\\n\\tMAIL ADDRESS:\\...\n",
              "ABCB  <SEC-DOCUMENT>0000351569-19-000006.txt : 20190301\\n<SEC-HEADER>0000351569-19-000006.hdr.sgml : 20190301\\n<ACCEPTANCE-DATETIME>20190301160717\\nACCESSION NUMBER:\\t\\t0000351569-19-000006\\nCONFORMED SUBMISSION TYPE:\\t10-K\\nPUBLIC DOCUMENT COUNT:\\t\\t154\\nCONFORMED PERIOD OF REPORT:\\t20181231\\nFILED AS OF DATE:\\t\\t20190301\\nDATE AS OF CHANGE:\\t\\t20190301\\n\\nFILER:\\n\\n\\tCOMPANY DATA:\\t\\n\\t\\tCOMPANY CONFORMED NAME:\\t\\t\\tAmeris Bancorp\\n\\t\\tCENTRAL INDEX KEY:\\t\\t\\t0000351569\\n\\t\\tSTANDARD INDUSTRIAL CLASSIFICATION:\\tSTATE COMMERCIAL BANKS [6022]\\n\\t\\tIRS NUMBER:\\t\\t\\t\\t581456434\\n\\t\\tSTATE OF INCORPORATION:\\t\\t\\tGA\\n\\t\\tFISCAL YEAR END:\\t\\t\\t1231\\n\\n\\tFILING VALUES:\\n\\t\\tFORM TYPE:\\t\\t10-K\\n\\t\\tSEC ACT:\\t\\t1934 Act\\n\\t\\tSEC FILE NUMBER:\\t001-13901\\n\\t\\tFILM NUMBER:\\t\\t19649333\\n\\n\\tBUSINESS ADDRESS:\\t\\n\\t\\tSTREET 1:\\t\\t24 2/ND/ AVENUE\\n\\t\\tCITY:\\t\\t\\tMOULTRIE\\n\\t\\tSTATE:\\t\\t\\tGA\\n\\t\\tZIP:\\t\\t\\t31768\\n\\t\\tBUSINESS PHONE:\\t\\t9128901111\\n\\n\\tMAIL ADDRESS:\\t\\n\\t\\tSTREET 1:\\t\\tPO BOX 1500\\n\\t\\tC...\n",
              "ABCD  <SEC-DOCUMENT>0001466815-18-000016.txt : 20180307\\n<SEC-HEADER>0001466815-18-000016.hdr.sgml : 20180307\\n<ACCEPTANCE-DATETIME>20180306195519\\nACCESSION NUMBER:\\t\\t0001466815-18-000016\\nCONFORMED SUBMISSION TYPE:\\t10-K\\nPUBLIC DOCUMENT COUNT:\\t\\t106\\nCONFORMED PERIOD OF REPORT:\\t20171231\\nFILED AS OF DATE:\\t\\t20180307\\nDATE AS OF CHANGE:\\t\\t20180306\\n\\nFILER:\\n\\n\\tCOMPANY DATA:\\t\\n\\t\\tCOMPANY CONFORMED NAME:\\t\\t\\tCAMBIUM LEARNING GROUP, INC.\\n\\t\\tCENTRAL INDEX KEY:\\t\\t\\t0001466815\\n\\t\\tSTANDARD INDUSTRIAL CLASSIFICATION:\\tMISCELLANEOUS PUBLISHING [2741]\\n\\t\\tIRS NUMBER:\\t\\t\\t\\t270587428\\n\\t\\tFISCAL YEAR END:\\t\\t\\t1231\\n\\n\\tFILING VALUES:\\n\\t\\tFORM TYPE:\\t\\t10-K\\n\\t\\tSEC ACT:\\t\\t1934 Act\\n\\t\\tSEC FILE NUMBER:\\t001-34575\\n\\t\\tFILM NUMBER:\\t\\t18671602\\n\\n\\tBUSINESS ADDRESS:\\t\\n\\t\\tSTREET 1:\\t\\t17855 NORTH DALLAS PARKWAY, SUITE 400\\n\\t\\tCITY:\\t\\t\\tDALLAS\\n\\t\\tSTATE:\\t\\t\\tTX\\n\\t\\tZIP:\\t\\t\\t75287\\n\\t\\tBUSINESS PHONE:\\t\\t214-932-9500\\n\\n\\tMAIL ADDRESS:\\t\\n\\t\\tSTREET 1:\\t\\t17855 NORTH DALLA...\n",
              "ABFS  <SEC-DOCUMENT>0001558370-19-001332.txt : 20190228\\n<SEC-HEADER>0001558370-19-001332.hdr.sgml : 20190228\\n<ACCEPTANCE-DATETIME>20190228164652\\nACCESSION NUMBER:\\t\\t0001558370-19-001332\\nCONFORMED SUBMISSION TYPE:\\t10-K\\nPUBLIC DOCUMENT COUNT:\\t\\t129\\nCONFORMED PERIOD OF REPORT:\\t20181231\\nFILED AS OF DATE:\\t\\t20190228\\nDATE AS OF CHANGE:\\t\\t20190228\\n\\nFILER:\\n\\n\\tCOMPANY DATA:\\t\\n\\t\\tCOMPANY CONFORMED NAME:\\t\\t\\tARCBEST CORP /DE/\\n\\t\\tCENTRAL INDEX KEY:\\t\\t\\t0000894405\\n\\t\\tSTANDARD INDUSTRIAL CLASSIFICATION:\\tTRUCKING (NO LOCAL) [4213]\\n\\t\\tIRS NUMBER:\\t\\t\\t\\t710673405\\n\\t\\tSTATE OF INCORPORATION:\\t\\t\\tDE\\n\\t\\tFISCAL YEAR END:\\t\\t\\t1231\\n\\n\\tFILING VALUES:\\n\\t\\tFORM TYPE:\\t\\t10-K\\n\\t\\tSEC ACT:\\t\\t1934 Act\\n\\t\\tSEC FILE NUMBER:\\t000-19969\\n\\t\\tFILM NUMBER:\\t\\t19644149\\n\\n\\tBUSINESS ADDRESS:\\t\\n\\t\\tSTREET 1:\\t\\t8401 MCCLURE DRIVE\\n\\t\\tCITY:\\t\\t\\tFORT SMITH\\n\\t\\tSTATE:\\t\\t\\tAR\\n\\t\\tZIP:\\t\\t\\t72916\\n\\t\\tBUSINESS PHONE:\\t\\t4797856000\\n\\n\\tMAIL ADDRESS:\\t\\n\\t\\tSTREET 1:\\t\\tP O BOX 10048...\n",
              "ABII  -----BEGIN PRIVACY-ENHANCED MESSAGE-----\\nProc-Type: 2001,MIC-CLEAR\\nOriginator-Name: webmaster@www.sec.gov\\nOriginator-Key-Asymmetric:\\n MFgwCgYEVQgBAQICAf8DSgAwRwJAW2sNKK9AVtBzYZmr6aGjlWyK3XmZv3dTINen\\n TWSM7vrzLADbmYQaionwg5sDW3P6oaM5D3tdezXMm7z1T+B+twIDAQAB\\nMIC-Info: RSA-MD5,RSA,\\n CHkUjMkstEDpvbShoQauSoyOavtwbHq30cGukjchmSpeTxu1XA5MoFRR+wlBJDTc\\n kghpmwLL9rBB1LcOqAJPOw==\\n\\n<SEC-DOCUMENT>0001193125-10-093431.txt : 20100426\\n<SEC-HEADER>0001193125-10-093431.hdr.sgml : 20100426\\n<ACCEPTANCE-DATETIME>20100426170124\\nACCESSION NUMBER:\\t\\t0001193125-10-093431\\nCONFORMED SUBMISSION TYPE:\\t10-K/A\\nPUBLIC DOCUMENT COUNT:\\t\\t3\\nCONFORMED PERIOD OF REPORT:\\t20091231\\nFILED AS OF DATE:\\t\\t20100426\\nDATE AS OF CHANGE:\\t\\t20100426\\n\\nFILER:\\n\\n\\tCOMPANY DATA:\\t\\n\\t\\tCOMPANY CONFORMED NAME:\\t\\t\\tAbraxis BioScience, Inc.\\n\\t\\tCENTRAL INDEX KEY:\\t\\t\\t0001409012\\n\\t\\tSTANDARD INDUSTRIAL CLASSIFICATION:\\tPHARMACEUTICAL PREPARATIONS [2834]\\n\\t\\tIRS NUMBER:\\t\\t\\t\\t300431735\\n\\t\\tSTATE OF INCORPO...\n",
              "ABK   <SEC-DOCUMENT>0000874501-19-000023.txt : 20190228\\n<SEC-HEADER>0000874501-19-000023.hdr.sgml : 20190228\\n<ACCEPTANCE-DATETIME>20190228171316\\nACCESSION NUMBER:\\t\\t0000874501-19-000023\\nCONFORMED SUBMISSION TYPE:\\t10-K\\nPUBLIC DOCUMENT COUNT:\\t\\t151\\nCONFORMED PERIOD OF REPORT:\\t20181231\\nFILED AS OF DATE:\\t\\t20190228\\nDATE AS OF CHANGE:\\t\\t20190228\\n\\nFILER:\\n\\n\\tCOMPANY DATA:\\t\\n\\t\\tCOMPANY CONFORMED NAME:\\t\\t\\tAMBAC FINANCIAL GROUP INC\\n\\t\\tCENTRAL INDEX KEY:\\t\\t\\t0000874501\\n\\t\\tSTANDARD INDUSTRIAL CLASSIFICATION:\\tSURETY INSURANCE [6351]\\n\\t\\tIRS NUMBER:\\t\\t\\t\\t133621676\\n\\t\\tSTATE OF INCORPORATION:\\t\\t\\tDE\\n\\t\\tFISCAL YEAR END:\\t\\t\\t1231\\n\\n\\tFILING VALUES:\\n\\t\\tFORM TYPE:\\t\\t10-K\\n\\t\\tSEC ACT:\\t\\t1934 Act\\n\\t\\tSEC FILE NUMBER:\\t001-10777\\n\\t\\tFILM NUMBER:\\t\\t19644770\\n\\n\\tBUSINESS ADDRESS:\\t\\n\\t\\tSTREET 1:\\t\\tONE STATE ST PLZ\\n\\t\\tCITY:\\t\\t\\tNEW YORK\\n\\t\\tSTATE:\\t\\t\\tNY\\n\\t\\tZIP:\\t\\t\\t10004\\n\\t\\tBUSINESS PHONE:\\t\\t2126680340\\n\\n\\tMAIL ADDRESS:\\t\\n\\t\\tSTREET 1:\\t\\tONE STATE ST...\n",
              "ABMD  <SEC-DOCUMENT>0001564590-19-020329.txt : 20190523\\n<SEC-HEADER>0001564590-19-020329.hdr.sgml : 20190523\\n<ACCEPTANCE-DATETIME>20190523160701\\nACCESSION NUMBER:\\t\\t0001564590-19-020329\\nCONFORMED SUBMISSION TYPE:\\t10-K\\nPUBLIC DOCUMENT COUNT:\\t\\t102\\nCONFORMED PERIOD OF REPORT:\\t20190331\\nFILED AS OF DATE:\\t\\t20190523\\nDATE AS OF CHANGE:\\t\\t20190523\\n\\nFILER:\\n\\n\\tCOMPANY DATA:\\t\\n\\t\\tCOMPANY CONFORMED NAME:\\t\\t\\tABIOMED INC\\n\\t\\tCENTRAL INDEX KEY:\\t\\t\\t0000815094\\n\\t\\tSTANDARD INDUSTRIAL CLASSIFICATION:\\tSURGICAL & MEDICAL INSTRUMENTS & APPARATUS [3841]\\n\\t\\tIRS NUMBER:\\t\\t\\t\\t042743260\\n\\t\\tSTATE OF INCORPORATION:\\t\\t\\tDE\\n\\t\\tFISCAL YEAR END:\\t\\t\\t0331\\n\\n\\tFILING VALUES:\\n\\t\\tFORM TYPE:\\t\\t10-K\\n\\t\\tSEC ACT:\\t\\t1934 Act\\n\\t\\tSEC FILE NUMBER:\\t001-09585\\n\\t\\tFILM NUMBER:\\t\\t19850114\\n\\n\\tBUSINESS ADDRESS:\\t\\n\\t\\tSTREET 1:\\t\\t22 CHERRY HILL DR\\n\\t\\tCITY:\\t\\t\\tDANVERS\\n\\t\\tSTATE:\\t\\t\\tMA\\n\\t\\tZIP:\\t\\t\\t01923\\n\\t\\tBUSINESS PHONE:\\t\\t9787775410\\n\\n\\tMAIL ADDRESS:\\t\\n\\t\\tSTREET 1:\\t\\t...\n",
              "ABTL  <SEC-DOCUMENT>0001654954-19-002504.txt : 20190311\\n<SEC-HEADER>0001654954-19-002504.hdr.sgml : 20190311\\n<ACCEPTANCE-DATETIME>20190311060201\\nACCESSION NUMBER:\\t\\t0001654954-19-002504\\nCONFORMED SUBMISSION TYPE:\\t10-K/A\\nPUBLIC DOCUMENT COUNT:\\t\\t5\\nCONFORMED PERIOD OF REPORT:\\t20181231\\nFILED AS OF DATE:\\t\\t20190311\\nDATE AS OF CHANGE:\\t\\t20190311\\n\\nFILER:\\n\\n\\tCOMPANY DATA:\\t\\n\\t\\tCOMPANY CONFORMED NAME:\\t\\t\\tAutoWeb, Inc.\\n\\t\\tCENTRAL INDEX KEY:\\t\\t\\t0001023364\\n\\t\\tSTANDARD INDUSTRIAL CLASSIFICATION:\\tSERVICES-COMPUTER PROGRAMMING, DATA PROCESSING, ETC. [7370]\\n\\t\\tIRS NUMBER:\\t\\t\\t\\t330711569\\n\\t\\tSTATE OF INCORPORATION:\\t\\t\\tDE\\n\\t\\tFISCAL YEAR END:\\t\\t\\t1231\\n\\n\\tFILING VALUES:\\n\\t\\tFORM TYPE:\\t\\t10-K/A\\n\\t\\tSEC ACT:\\t\\t1934 Act\\n\\t\\tSEC FILE NUMBER:\\t001-34761\\n\\t\\tFILM NUMBER:\\t\\t19670795\\n\\n\\tBUSINESS ADDRESS:\\t\\n\\t\\tSTREET 1:\\t\\t18872 MACARTHUR BLVD\\n\\t\\tSTREET 2:\\t\\tSUITE 200\\n\\t\\tCITY:\\t\\t\\tIRVINE\\n\\t\\tSTATE:\\t\\t\\tCA\\n\\t\\tZIP:\\t\\t\\t92612-1400\\n\\t\\tBUSINESS PHONE:\\t\\t9...\n",
              "ACAD  <SEC-DOCUMENT>0001564590-19-004596.txt : 20190227\\n<SEC-HEADER>0001564590-19-004596.hdr.sgml : 20190227\\n<ACCEPTANCE-DATETIME>20190226194814\\nACCESSION NUMBER:\\t\\t0001564590-19-004596\\nCONFORMED SUBMISSION TYPE:\\t10-K\\nPUBLIC DOCUMENT COUNT:\\t\\t79\\nCONFORMED PERIOD OF REPORT:\\t20181231\\nFILED AS OF DATE:\\t\\t20190227\\nDATE AS OF CHANGE:\\t\\t20190226\\n\\nFILER:\\n\\n\\tCOMPANY DATA:\\t\\n\\t\\tCOMPANY CONFORMED NAME:\\t\\t\\tACADIA PHARMACEUTICALS INC\\n\\t\\tCENTRAL INDEX KEY:\\t\\t\\t0001070494\\n\\t\\tSTANDARD INDUSTRIAL CLASSIFICATION:\\tPHARMACEUTICAL PREPARATIONS [2834]\\n\\t\\tIRS NUMBER:\\t\\t\\t\\t061376651\\n\\t\\tSTATE OF INCORPORATION:\\t\\t\\tDE\\n\\t\\tFISCAL YEAR END:\\t\\t\\t1231\\n\\n\\tFILING VALUES:\\n\\t\\tFORM TYPE:\\t\\t10-K\\n\\t\\tSEC ACT:\\t\\t1934 Act\\n\\t\\tSEC FILE NUMBER:\\t000-50768\\n\\t\\tFILM NUMBER:\\t\\t19635327\\n\\n\\tBUSINESS ADDRESS:\\t\\n\\t\\tSTREET 1:\\t\\t3611 VALLEY CENTRE DRIVE\\n\\t\\tSTREET 2:\\t\\tSUITE 300\\n\\t\\tCITY:\\t\\t\\tSAN DIEGO\\n\\t\\tSTATE:\\t\\t\\tCA\\n\\t\\tZIP:\\t\\t\\t92130\\n\\t\\tBUSINESS PHONE:\\t\\t858-558-2871\\n...\n",
              "ACAS  <SEC-DOCUMENT>0000817473-16-000082.txt : 20160429\\n<SEC-HEADER>0000817473-16-000082.hdr.sgml : 20160429\\n<ACCEPTANCE-DATETIME>20160429171631\\nACCESSION NUMBER:\\t\\t0000817473-16-000082\\nCONFORMED SUBMISSION TYPE:\\t10-K/A\\nPUBLIC DOCUMENT COUNT:\\t\\t10\\nCONFORMED PERIOD OF REPORT:\\t20151231\\nFILED AS OF DATE:\\t\\t20160429\\nDATE AS OF CHANGE:\\t\\t20160429\\n\\nFILER:\\n\\n\\tCOMPANY DATA:\\t\\n\\t\\tCOMPANY CONFORMED NAME:\\t\\t\\tAMERICAN CAPITAL, LTD\\n\\t\\tCENTRAL INDEX KEY:\\t\\t\\t0000817473\\n\\t\\tIRS NUMBER:\\t\\t\\t\\t521451377\\n\\n\\tFILING VALUES:\\n\\t\\tFORM TYPE:\\t\\t10-K/A\\n\\t\\tSEC ACT:\\t\\t1934 Act\\n\\t\\tSEC FILE NUMBER:\\t814-00149\\n\\t\\tFILM NUMBER:\\t\\t161608288\\n\\n\\tBUSINESS ADDRESS:\\t\\n\\t\\tSTREET 1:\\t\\t2 BETHESDA METRO CENTER\\n\\t\\tSTREET 2:\\t\\t14TH FL\\n\\t\\tCITY:\\t\\t\\tBETHESDA\\n\\t\\tSTATE:\\t\\t\\tMD\\n\\t\\tZIP:\\t\\t\\t20814\\n\\t\\tBUSINESS PHONE:\\t\\t301-951-6122\\n\\n\\tMAIL ADDRESS:\\t\\n\\t\\tSTREET 1:\\t\\t2 BETHESDA METRO CENTER\\n\\t\\tSTREET 2:\\t\\t14TH FL\\n\\t\\tCITY:\\t\\t\\tBETHESDA\\n\\t\\tSTATE:\\t\\t\\tMD\\n\\t\\tZIP:\\t\\t\\t20..."
            ]
          },
          "metadata": {}
        }
      ],
      "execution_count": 24,
      "metadata": {}
    },
    {
      "cell_type": "code",
      "source": [
        "# Let's take a look at the transcript for Ali Wong\n",
        "print(data_df.report.loc['AAC'][0:800])"
      ],
      "outputs": [
        {
          "output_type": "stream",
          "name": "stdout",
          "text": [
            "<SEC-DOCUMENT>0001144204-17-037280.txt : 20170719\n",
            "<SEC-HEADER>0001144204-17-037280.hdr.sgml : 20170719\n",
            "<ACCEPTANCE-DATETIME>20170719151214\n",
            "ACCESSION NUMBER:\t\t0001144204-17-037280\n",
            "CONFORMED SUBMISSION TYPE:\t10-K\n",
            "PUBLIC DOCUMENT COUNT:\t\t123\n",
            "CONFORMED PERIOD OF REPORT:\t20160630\n",
            "FILED AS OF DATE:\t\t20170719\n",
            "DATE AS OF CHANGE:\t\t20170719\n",
            "\n",
            "FILER:\n",
            "\n",
            "\tCOMPANY DATA:\t\n",
            "\t\tCOMPANY CONFORMED NAME:\t\t\tHongli Clean Energy Technologies Corp.\n",
            "\t\tCENTRAL INDEX KEY:\t\t\t0001099290\n",
            "\t\tSTANDARD INDUSTRIAL CLASSIFICATION:\tSTEEL WORKS, BLAST FURNACES  ROLLING MILLS (COKE OVENS) [3312]\n",
            "\t\tIRS NUMBER:\t\t\t\t593404233\n",
            "\t\tSTATE OF INCORPORATION:\t\t\tFL\n",
            "\t\tFISCAL YEAR END:\t\t\t0630\n",
            "\n",
            "\tFILING VALUES:\n",
            "\t\tFORM TYPE:\t\t10-K\n",
            "\t\tSEC ACT:\t\t1934 Act\n",
            "\t\tSEC FILE NUMBER:\t001-15931\n",
            "\t\tFILM NUMBER:\t\t17972216\n",
            "\n",
            "\tBUSINESS ADDRESS:\t\n",
            "\t\tSTREET 1:\t\tKUANGGONG R\n"
          ]
        }
      ],
      "execution_count": 25,
      "metadata": {}
    },
    {
      "cell_type": "code",
      "source": [
        "# Apply a first round of text cleaning techniques\n",
        "import re\n",
        "import string\n",
        "\n",
        "def clean_text_round1(text):\n",
        "    '''Make text lowercase, remove text in square brackets, remove punctuation and remove words containing numbers.'''\n",
        "    text = text.lower()\n",
        "    text = re.sub('\\[.*?\\]', '', text)\n",
        "    text = re.sub('[%s]' % re.escape(string.punctuation), '', text)\n",
        "    text = re.sub('\\w*\\d\\w*', '', text)\n",
        "    return text\n",
        "\n",
        "round1 = lambda x: clean_text_round1(x)"
      ],
      "outputs": [],
      "execution_count": 26,
      "metadata": {
        "collapsed": true
      }
    },
    {
      "cell_type": "code",
      "source": [
        "# Let's take a look at the updated text\n",
        "data_clean = pd.DataFrame(data_df.report.apply(round1))"
      ],
      "outputs": [],
      "execution_count": 27,
      "metadata": {}
    },
    {
      "cell_type": "code",
      "source": [
        "data_clean.head()"
      ],
      "outputs": [
        {
          "output_type": "execute_result",
          "execution_count": 28,
          "data": {
            "text/html": [
              "<div>\n",
              "<style scoped>\n",
              "    .dataframe tbody tr th:only-of-type {\n",
              "        vertical-align: middle;\n",
              "    }\n",
              "\n",
              "    .dataframe tbody tr th {\n",
              "        vertical-align: top;\n",
              "    }\n",
              "\n",
              "    .dataframe thead th {\n",
              "        text-align: right;\n",
              "    }\n",
              "</style>\n",
              "<table border=\"1\" class=\"dataframe\">\n",
              "  <thead>\n",
              "    <tr style=\"text-align: right;\">\n",
              "      <th></th>\n",
              "      <th>report</th>\n",
              "    </tr>\n",
              "  </thead>\n",
              "  <tbody>\n",
              "    <tr>\n",
              "      <th>AAC</th>\n",
              "      <td>\\n  \\n\\naccession number\\t\\t\\nconformed submission type\\t\\npublic document count\\t\\t\\nconformed period of report\\t\\nfiled as of date\\t\\t\\ndate as of change\\t\\t\\n\\nfiler\\n\\n\\tcompany data\\t\\n\\t\\tcompany conformed name\\t\\t\\thongli clean energy technologies corp\\n\\t\\tcentral index key\\t\\t\\t\\n\\t\\tstandard industrial classification\\tsteel works blast furnaces  rolling mills coke ovens \\n\\t\\tirs number\\t\\t\\t\\t\\n\\t\\tstate of incorporation\\t\\t\\tfl\\n\\t\\tfiscal year end\\t\\t\\t\\n\\n\\tfiling values\\n\\t\\tform type\\t\\t\\n\\t\\tsec act\\t\\t act\\n\\t\\tsec file number\\t\\n\\t\\tfilm number\\t\\t\\n\\n\\tbusiness address\\t\\n\\t\\tstreet \\t\\tkuanggong rd  tiyu rd  flr\\n\\t\\tstreet \\t\\tchengshi xin yong she tiyu rd xinhua\\n\\t\\tcity\\t\\t\\tpingdingshan henan province\\n\\t\\tstate\\t\\t\\t\\n\\t\\tzip\\t\\t\\t\\n\\t\\tbusiness phone\\t\\t\\n\\n\\tmail address\\t\\n\\t\\tstreet \\t\\tkuanggong rd  tiyu rd  flr\\n\\t\\tstreet \\t\\tchengshi xin yong she tiyu rd xinhua\\n\\t\\tcity\\t\\t\\tpingdingshan henan province\\n\\t\\tstate\\t\\t\\t\\n\\t\\tzip\\t\\t\\t\\n\\n\\tforme...</td>\n",
              "    </tr>\n",
              "    <tr>\n",
              "      <th>AAL</th>\n",
              "      <td>\\n  \\n\\naccession number\\t\\t\\nconformed submission type\\t\\npublic document count\\t\\t\\nconformed period of report\\t\\nfiled as of date\\t\\t\\ndate as of change\\t\\t\\n\\nfiler\\n\\n\\tcompany data\\t\\n\\t\\tcompany conformed name\\t\\t\\tamerican airlines group inc\\n\\t\\tcentral index key\\t\\t\\t\\n\\t\\tstandard industrial classification\\tair transportation scheduled \\n\\t\\tirs number\\t\\t\\t\\t\\n\\t\\tstate of incorporation\\t\\t\\tde\\n\\t\\tfiscal year end\\t\\t\\t\\n\\n\\tfiling values\\n\\t\\tform type\\t\\t\\n\\t\\tsec act\\t\\t act\\n\\t\\tsec file number\\t\\n\\t\\tfilm number\\t\\t\\n\\n\\tbusiness address\\t\\n\\t\\tstreet \\t\\t amon carter blvd\\n\\t\\tcity\\t\\t\\tfort worth\\n\\t\\tstate\\t\\t\\ttx\\n\\t\\tzip\\t\\t\\t\\n\\t\\tbusiness phone\\t\\t\\n\\n\\tmail address\\t\\n\\t\\tstreet \\t\\t amon carter blvd\\n\\t\\tcity\\t\\t\\tfort worth\\n\\t\\tstate\\t\\t\\ttx\\n\\t\\tzip\\t\\t\\t\\n\\n\\tformer company\\t\\n\\t\\tformer conformed name\\tamr corp\\n\\t\\tdate of name change\\t\\n\\nfiler\\n\\n\\tcompany data\\t\\n\\t\\tcompany conformed name\\t\\t\\tamerican airlines inc\\n\\t\\tcentral index key\\t\\t\\t...</td>\n",
              "    </tr>\n",
              "    <tr>\n",
              "      <th>AAME</th>\n",
              "      <td>\\n  \\n\\naccession number\\t\\t\\nconformed submission type\\t\\npublic document count\\t\\t\\nconformed period of report\\t\\nfiled as of date\\t\\t\\ndate as of change\\t\\t\\n\\nfiler\\n\\n\\tcompany data\\t\\n\\t\\tcompany conformed name\\t\\t\\tatlantic american corp\\n\\t\\tcentral index key\\t\\t\\t\\n\\t\\tstandard industrial classification\\tlife insurance \\n\\t\\tirs number\\t\\t\\t\\t\\n\\t\\tstate of incorporation\\t\\t\\tga\\n\\t\\tfiscal year end\\t\\t\\t\\n\\n\\tfiling values\\n\\t\\tform type\\t\\t\\n\\t\\tsec act\\t\\t act\\n\\t\\tsec file number\\t\\n\\t\\tfilm number\\t\\t\\n\\n\\tbusiness address\\t\\n\\t\\tstreet \\t\\t peachtree rd ne\\n\\t\\tcity\\t\\t\\tatlanta\\n\\t\\tstate\\t\\t\\tga\\n\\t\\tzip\\t\\t\\t\\n\\t\\tbusiness phone\\t\\t\\n\\n\\tmail address\\t\\n\\t\\tstreet \\t\\t peachtree road\\n\\t\\tcity\\t\\t\\tatlanta\\n\\t\\tstate\\t\\t\\tga\\n\\t\\tzip\\t\\t\\t\\nsecheader\\ndocument\\n\\n\\n\\ndescriptionform \\ntext\\ndoctype html public  html \\nhtml\\nhead\\n    title title\\n meta contenttexthtml \\n meta namegeneratedby contentsummit financial printing llc \\n     licensed to broadridge fina...</td>\n",
              "    </tr>\n",
              "    <tr>\n",
              "      <th>AAOI</th>\n",
              "      <td>\\n  \\n\\naccession number\\t\\t\\nconformed submission type\\t\\npublic document count\\t\\t\\nconformed period of report\\t\\nfiled as of date\\t\\t\\ndate as of change\\t\\t\\n\\nfiler\\n\\n\\tcompany data\\t\\n\\t\\tcompany conformed name\\t\\t\\tapplied optoelectronics inc\\n\\t\\tcentral index key\\t\\t\\t\\n\\t\\tstandard industrial classification\\tsemiconductors  related devices \\n\\t\\tirs number\\t\\t\\t\\t\\n\\t\\tstate of incorporation\\t\\t\\tde\\n\\t\\tfiscal year end\\t\\t\\t\\n\\n\\tfiling values\\n\\t\\tform type\\t\\t\\n\\t\\tsec act\\t\\t act\\n\\t\\tsec file number\\t\\n\\t\\tfilm number\\t\\t\\n\\n\\tbusiness address\\t\\n\\t\\tstreet \\t\\t jess pirtle blvd\\n\\t\\tcity\\t\\t\\tsugar land\\n\\t\\tstate\\t\\t\\ttx\\n\\t\\tzip\\t\\t\\t\\n\\t\\tbusiness phone\\t\\t\\n\\n\\tmail address\\t\\n\\t\\tstreet \\t\\t jess pirtle blvd\\n\\t\\tcity\\t\\t\\tsugar land\\n\\t\\tstate\\t\\t\\ttx\\n\\t\\tzip\\t\\t\\t\\n\\n\\tformer company\\t\\n\\t\\tformer conformed name\\tapplied optoelectronics inc\\n\\t\\tdate of name change\\t\\nsecheader\\ndocument\\n\\n\\n\\n\\ntext\\nhtml document created with merrill bridge  \\ncreated o...</td>\n",
              "    </tr>\n",
              "    <tr>\n",
              "      <th>AAPL</th>\n",
              "      <td>\\n  \\n\\naccession number\\t\\t\\nconformed submission type\\t\\npublic document count\\t\\t\\nconformed period of report\\t\\nfiled as of date\\t\\t\\ndate as of change\\t\\t\\n\\nfiler\\n\\n\\tcompany data\\t\\n\\t\\tcompany conformed name\\t\\t\\tapple inc\\n\\t\\tcentral index key\\t\\t\\t\\n\\t\\tstandard industrial classification\\telectronic computers \\n\\t\\tirs number\\t\\t\\t\\t\\n\\t\\tstate of incorporation\\t\\t\\tca\\n\\t\\tfiscal year end\\t\\t\\t\\n\\n\\tfiling values\\n\\t\\tform type\\t\\t\\n\\t\\tsec act\\t\\t act\\n\\t\\tsec file number\\t\\n\\t\\tfilm number\\t\\t\\n\\n\\tbusiness address\\t\\n\\t\\tstreet \\t\\tone apple park way\\n\\t\\tcity\\t\\t\\tcupertino\\n\\t\\tstate\\t\\t\\tca\\n\\t\\tzip\\t\\t\\t\\n\\t\\tbusiness phone\\t\\t \\n\\n\\tmail address\\t\\n\\t\\tstreet \\t\\tone apple park way\\n\\t\\tcity\\t\\t\\tcupertino\\n\\t\\tstate\\t\\t\\tca\\n\\t\\tzip\\t\\t\\t\\n\\n\\tformer company\\t\\n\\t\\tformer conformed name\\tapple inc\\n\\t\\tdate of name change\\t\\n\\n\\tformer company\\t\\n\\t\\tformer conformed name\\tapple computer inc\\n\\t\\tdate of name change\\t\\nsecheader\\ndocument\\n\\n\\n\\n\\ntext\\nxbrl...</td>\n",
              "    </tr>\n",
              "  </tbody>\n",
              "</table>\n",
              "</div>"
            ],
            "text/plain": [
              "                                                                                                                                                                                                                                                                                                                                                                                                                                                                                                                                                                                                                                                                                                                                                                                                                                                                                                                                                                                                                                       report\n",
              "AAC     \\n  \\n\\naccession number\\t\\t\\nconformed submission type\\t\\npublic document count\\t\\t\\nconformed period of report\\t\\nfiled as of date\\t\\t\\ndate as of change\\t\\t\\n\\nfiler\\n\\n\\tcompany data\\t\\n\\t\\tcompany conformed name\\t\\t\\thongli clean energy technologies corp\\n\\t\\tcentral index key\\t\\t\\t\\n\\t\\tstandard industrial classification\\tsteel works blast furnaces  rolling mills coke ovens \\n\\t\\tirs number\\t\\t\\t\\t\\n\\t\\tstate of incorporation\\t\\t\\tfl\\n\\t\\tfiscal year end\\t\\t\\t\\n\\n\\tfiling values\\n\\t\\tform type\\t\\t\\n\\t\\tsec act\\t\\t act\\n\\t\\tsec file number\\t\\n\\t\\tfilm number\\t\\t\\n\\n\\tbusiness address\\t\\n\\t\\tstreet \\t\\tkuanggong rd  tiyu rd  flr\\n\\t\\tstreet \\t\\tchengshi xin yong she tiyu rd xinhua\\n\\t\\tcity\\t\\t\\tpingdingshan henan province\\n\\t\\tstate\\t\\t\\t\\n\\t\\tzip\\t\\t\\t\\n\\t\\tbusiness phone\\t\\t\\n\\n\\tmail address\\t\\n\\t\\tstreet \\t\\tkuanggong rd  tiyu rd  flr\\n\\t\\tstreet \\t\\tchengshi xin yong she tiyu rd xinhua\\n\\t\\tcity\\t\\t\\tpingdingshan henan province\\n\\t\\tstate\\t\\t\\t\\n\\t\\tzip\\t\\t\\t\\n\\n\\tforme...\n",
              "AAL     \\n  \\n\\naccession number\\t\\t\\nconformed submission type\\t\\npublic document count\\t\\t\\nconformed period of report\\t\\nfiled as of date\\t\\t\\ndate as of change\\t\\t\\n\\nfiler\\n\\n\\tcompany data\\t\\n\\t\\tcompany conformed name\\t\\t\\tamerican airlines group inc\\n\\t\\tcentral index key\\t\\t\\t\\n\\t\\tstandard industrial classification\\tair transportation scheduled \\n\\t\\tirs number\\t\\t\\t\\t\\n\\t\\tstate of incorporation\\t\\t\\tde\\n\\t\\tfiscal year end\\t\\t\\t\\n\\n\\tfiling values\\n\\t\\tform type\\t\\t\\n\\t\\tsec act\\t\\t act\\n\\t\\tsec file number\\t\\n\\t\\tfilm number\\t\\t\\n\\n\\tbusiness address\\t\\n\\t\\tstreet \\t\\t amon carter blvd\\n\\t\\tcity\\t\\t\\tfort worth\\n\\t\\tstate\\t\\t\\ttx\\n\\t\\tzip\\t\\t\\t\\n\\t\\tbusiness phone\\t\\t\\n\\n\\tmail address\\t\\n\\t\\tstreet \\t\\t amon carter blvd\\n\\t\\tcity\\t\\t\\tfort worth\\n\\t\\tstate\\t\\t\\ttx\\n\\t\\tzip\\t\\t\\t\\n\\n\\tformer company\\t\\n\\t\\tformer conformed name\\tamr corp\\n\\t\\tdate of name change\\t\\n\\nfiler\\n\\n\\tcompany data\\t\\n\\t\\tcompany conformed name\\t\\t\\tamerican airlines inc\\n\\t\\tcentral index key\\t\\t\\t...\n",
              "AAME    \\n  \\n\\naccession number\\t\\t\\nconformed submission type\\t\\npublic document count\\t\\t\\nconformed period of report\\t\\nfiled as of date\\t\\t\\ndate as of change\\t\\t\\n\\nfiler\\n\\n\\tcompany data\\t\\n\\t\\tcompany conformed name\\t\\t\\tatlantic american corp\\n\\t\\tcentral index key\\t\\t\\t\\n\\t\\tstandard industrial classification\\tlife insurance \\n\\t\\tirs number\\t\\t\\t\\t\\n\\t\\tstate of incorporation\\t\\t\\tga\\n\\t\\tfiscal year end\\t\\t\\t\\n\\n\\tfiling values\\n\\t\\tform type\\t\\t\\n\\t\\tsec act\\t\\t act\\n\\t\\tsec file number\\t\\n\\t\\tfilm number\\t\\t\\n\\n\\tbusiness address\\t\\n\\t\\tstreet \\t\\t peachtree rd ne\\n\\t\\tcity\\t\\t\\tatlanta\\n\\t\\tstate\\t\\t\\tga\\n\\t\\tzip\\t\\t\\t\\n\\t\\tbusiness phone\\t\\t\\n\\n\\tmail address\\t\\n\\t\\tstreet \\t\\t peachtree road\\n\\t\\tcity\\t\\t\\tatlanta\\n\\t\\tstate\\t\\t\\tga\\n\\t\\tzip\\t\\t\\t\\nsecheader\\ndocument\\n\\n\\n\\ndescriptionform \\ntext\\ndoctype html public  html \\nhtml\\nhead\\n    title title\\n meta contenttexthtml \\n meta namegeneratedby contentsummit financial printing llc \\n     licensed to broadridge fina...\n",
              "AAOI    \\n  \\n\\naccession number\\t\\t\\nconformed submission type\\t\\npublic document count\\t\\t\\nconformed period of report\\t\\nfiled as of date\\t\\t\\ndate as of change\\t\\t\\n\\nfiler\\n\\n\\tcompany data\\t\\n\\t\\tcompany conformed name\\t\\t\\tapplied optoelectronics inc\\n\\t\\tcentral index key\\t\\t\\t\\n\\t\\tstandard industrial classification\\tsemiconductors  related devices \\n\\t\\tirs number\\t\\t\\t\\t\\n\\t\\tstate of incorporation\\t\\t\\tde\\n\\t\\tfiscal year end\\t\\t\\t\\n\\n\\tfiling values\\n\\t\\tform type\\t\\t\\n\\t\\tsec act\\t\\t act\\n\\t\\tsec file number\\t\\n\\t\\tfilm number\\t\\t\\n\\n\\tbusiness address\\t\\n\\t\\tstreet \\t\\t jess pirtle blvd\\n\\t\\tcity\\t\\t\\tsugar land\\n\\t\\tstate\\t\\t\\ttx\\n\\t\\tzip\\t\\t\\t\\n\\t\\tbusiness phone\\t\\t\\n\\n\\tmail address\\t\\n\\t\\tstreet \\t\\t jess pirtle blvd\\n\\t\\tcity\\t\\t\\tsugar land\\n\\t\\tstate\\t\\t\\ttx\\n\\t\\tzip\\t\\t\\t\\n\\n\\tformer company\\t\\n\\t\\tformer conformed name\\tapplied optoelectronics inc\\n\\t\\tdate of name change\\t\\nsecheader\\ndocument\\n\\n\\n\\n\\ntext\\nhtml document created with merrill bridge  \\ncreated o...\n",
              "AAPL    \\n  \\n\\naccession number\\t\\t\\nconformed submission type\\t\\npublic document count\\t\\t\\nconformed period of report\\t\\nfiled as of date\\t\\t\\ndate as of change\\t\\t\\n\\nfiler\\n\\n\\tcompany data\\t\\n\\t\\tcompany conformed name\\t\\t\\tapple inc\\n\\t\\tcentral index key\\t\\t\\t\\n\\t\\tstandard industrial classification\\telectronic computers \\n\\t\\tirs number\\t\\t\\t\\t\\n\\t\\tstate of incorporation\\t\\t\\tca\\n\\t\\tfiscal year end\\t\\t\\t\\n\\n\\tfiling values\\n\\t\\tform type\\t\\t\\n\\t\\tsec act\\t\\t act\\n\\t\\tsec file number\\t\\n\\t\\tfilm number\\t\\t\\n\\n\\tbusiness address\\t\\n\\t\\tstreet \\t\\tone apple park way\\n\\t\\tcity\\t\\t\\tcupertino\\n\\t\\tstate\\t\\t\\tca\\n\\t\\tzip\\t\\t\\t\\n\\t\\tbusiness phone\\t\\t \\n\\n\\tmail address\\t\\n\\t\\tstreet \\t\\tone apple park way\\n\\t\\tcity\\t\\t\\tcupertino\\n\\t\\tstate\\t\\t\\tca\\n\\t\\tzip\\t\\t\\t\\n\\n\\tformer company\\t\\n\\t\\tformer conformed name\\tapple inc\\n\\t\\tdate of name change\\t\\n\\n\\tformer company\\t\\n\\t\\tformer conformed name\\tapple computer inc\\n\\t\\tdate of name change\\t\\nsecheader\\ndocument\\n\\n\\n\\n\\ntext\\nxbrl..."
            ]
          },
          "metadata": {}
        }
      ],
      "execution_count": 28,
      "metadata": {}
    },
    {
      "cell_type": "code",
      "source": [
        "# Apply a second round of cleaning\n",
        "def clean_text_round2(text):\n",
        "    '''Get rid of some additional punctuation and non-sensical text that was missed the first time around.'''\n",
        "    text = re.sub('[‘’“”…]', '', text)\n",
        "    text = re.sub('\\n', '', text) \n",
        "    text = re.sub('<', '', text)\n",
        "    text = re.sub('>', '', text)\n",
        "    return text\n",
        "\n",
        "round2 = lambda x: clean_text_round2(x)"
      ],
      "outputs": [],
      "execution_count": 29,
      "metadata": {
        "collapsed": true
      }
    },
    {
      "cell_type": "code",
      "source": [
        "# Let's take a look at the updated text\n",
        "data_clean = pd.DataFrame(data_clean.report.apply(round2))"
      ],
      "outputs": [],
      "execution_count": 30,
      "metadata": {}
    },
    {
      "cell_type": "code",
      "source": [
        "data_clean.head()"
      ],
      "outputs": [
        {
          "output_type": "execute_result",
          "execution_count": 31,
          "data": {
            "text/html": [
              "<div>\n",
              "<style scoped>\n",
              "    .dataframe tbody tr th:only-of-type {\n",
              "        vertical-align: middle;\n",
              "    }\n",
              "\n",
              "    .dataframe tbody tr th {\n",
              "        vertical-align: top;\n",
              "    }\n",
              "\n",
              "    .dataframe thead th {\n",
              "        text-align: right;\n",
              "    }\n",
              "</style>\n",
              "<table border=\"1\" class=\"dataframe\">\n",
              "  <thead>\n",
              "    <tr style=\"text-align: right;\">\n",
              "      <th></th>\n",
              "      <th>report</th>\n",
              "    </tr>\n",
              "  </thead>\n",
              "  <tbody>\n",
              "    <tr>\n",
              "      <th>AAC</th>\n",
              "      <td>accession number\\t\\tconformed submission type\\tpublic document count\\t\\tconformed period of report\\tfiled as of date\\t\\tdate as of change\\t\\tfiler\\tcompany data\\t\\t\\tcompany conformed name\\t\\t\\thongli clean energy technologies corp\\t\\tcentral index key\\t\\t\\t\\t\\tstandard industrial classification\\tsteel works blast furnaces  rolling mills coke ovens \\t\\tirs number\\t\\t\\t\\t\\t\\tstate of incorporation\\t\\t\\tfl\\t\\tfiscal year end\\t\\t\\t\\tfiling values\\t\\tform type\\t\\t\\t\\tsec act\\t\\t act\\t\\tsec file number\\t\\t\\tfilm number\\t\\t\\tbusiness address\\t\\t\\tstreet \\t\\tkuanggong rd  tiyu rd  flr\\t\\tstreet \\t\\tchengshi xin yong she tiyu rd xinhua\\t\\tcity\\t\\t\\tpingdingshan henan province\\t\\tstate\\t\\t\\t\\t\\tzip\\t\\t\\t\\t\\tbusiness phone\\t\\t\\tmail address\\t\\t\\tstreet \\t\\tkuanggong rd  tiyu rd  flr\\t\\tstreet \\t\\tchengshi xin yong she tiyu rd xinhua\\t\\tcity\\t\\t\\tpingdingshan henan province\\t\\tstate\\t\\t\\t\\t\\tzip\\t\\t\\t\\tformer company\\t\\t\\tformer conformed name\\tsinocoking coal  coke chemical industries in...</td>\n",
              "    </tr>\n",
              "    <tr>\n",
              "      <th>AAL</th>\n",
              "      <td>accession number\\t\\tconformed submission type\\tpublic document count\\t\\tconformed period of report\\tfiled as of date\\t\\tdate as of change\\t\\tfiler\\tcompany data\\t\\t\\tcompany conformed name\\t\\t\\tamerican airlines group inc\\t\\tcentral index key\\t\\t\\t\\t\\tstandard industrial classification\\tair transportation scheduled \\t\\tirs number\\t\\t\\t\\t\\t\\tstate of incorporation\\t\\t\\tde\\t\\tfiscal year end\\t\\t\\t\\tfiling values\\t\\tform type\\t\\t\\t\\tsec act\\t\\t act\\t\\tsec file number\\t\\t\\tfilm number\\t\\t\\tbusiness address\\t\\t\\tstreet \\t\\t amon carter blvd\\t\\tcity\\t\\t\\tfort worth\\t\\tstate\\t\\t\\ttx\\t\\tzip\\t\\t\\t\\t\\tbusiness phone\\t\\t\\tmail address\\t\\t\\tstreet \\t\\t amon carter blvd\\t\\tcity\\t\\t\\tfort worth\\t\\tstate\\t\\t\\ttx\\t\\tzip\\t\\t\\t\\tformer company\\t\\t\\tformer conformed name\\tamr corp\\t\\tdate of name change\\tfiler\\tcompany data\\t\\t\\tcompany conformed name\\t\\t\\tamerican airlines inc\\t\\tcentral index key\\t\\t\\t\\t\\tstandard industrial classification\\tair transportation scheduled \\t\\tirs number\\t\\t\\t\\t\\t\\...</td>\n",
              "    </tr>\n",
              "    <tr>\n",
              "      <th>AAME</th>\n",
              "      <td>accession number\\t\\tconformed submission type\\tpublic document count\\t\\tconformed period of report\\tfiled as of date\\t\\tdate as of change\\t\\tfiler\\tcompany data\\t\\t\\tcompany conformed name\\t\\t\\tatlantic american corp\\t\\tcentral index key\\t\\t\\t\\t\\tstandard industrial classification\\tlife insurance \\t\\tirs number\\t\\t\\t\\t\\t\\tstate of incorporation\\t\\t\\tga\\t\\tfiscal year end\\t\\t\\t\\tfiling values\\t\\tform type\\t\\t\\t\\tsec act\\t\\t act\\t\\tsec file number\\t\\t\\tfilm number\\t\\t\\tbusiness address\\t\\t\\tstreet \\t\\t peachtree rd ne\\t\\tcity\\t\\t\\tatlanta\\t\\tstate\\t\\t\\tga\\t\\tzip\\t\\t\\t\\t\\tbusiness phone\\t\\t\\tmail address\\t\\t\\tstreet \\t\\t peachtree road\\t\\tcity\\t\\t\\tatlanta\\t\\tstate\\t\\t\\tga\\t\\tzip\\t\\t\\tsecheaderdocumentdescriptionform textdoctype html public  html htmlhead    title title meta contenttexthtml  meta namegeneratedby contentsummit financial printing llc      licensed to broadridge financial solutions inc         document created using edgarfilings profile          copyright    broadrid...</td>\n",
              "    </tr>\n",
              "    <tr>\n",
              "      <th>AAOI</th>\n",
              "      <td>accession number\\t\\tconformed submission type\\tpublic document count\\t\\tconformed period of report\\tfiled as of date\\t\\tdate as of change\\t\\tfiler\\tcompany data\\t\\t\\tcompany conformed name\\t\\t\\tapplied optoelectronics inc\\t\\tcentral index key\\t\\t\\t\\t\\tstandard industrial classification\\tsemiconductors  related devices \\t\\tirs number\\t\\t\\t\\t\\t\\tstate of incorporation\\t\\t\\tde\\t\\tfiscal year end\\t\\t\\t\\tfiling values\\t\\tform type\\t\\t\\t\\tsec act\\t\\t act\\t\\tsec file number\\t\\t\\tfilm number\\t\\t\\tbusiness address\\t\\t\\tstreet \\t\\t jess pirtle blvd\\t\\tcity\\t\\t\\tsugar land\\t\\tstate\\t\\t\\ttx\\t\\tzip\\t\\t\\t\\t\\tbusiness phone\\t\\t\\tmail address\\t\\t\\tstreet \\t\\t jess pirtle blvd\\t\\tcity\\t\\t\\tsugar land\\t\\tstate\\t\\t\\ttx\\t\\tzip\\t\\t\\t\\tformer company\\t\\t\\tformer conformed name\\tapplied optoelectronics inc\\t\\tdate of name change\\tsecheaderdocumenttexthtml document created with merrill bridge  created on   pmhtml\\thead\\t\\ttitle\\t\\t\\t\\t\\ttitle\\thead\\tbodydiv  \\t\\tp    new romantimesseriffontsize \\t\\t\\t...</td>\n",
              "    </tr>\n",
              "    <tr>\n",
              "      <th>AAPL</th>\n",
              "      <td>accession number\\t\\tconformed submission type\\tpublic document count\\t\\tconformed period of report\\tfiled as of date\\t\\tdate as of change\\t\\tfiler\\tcompany data\\t\\t\\tcompany conformed name\\t\\t\\tapple inc\\t\\tcentral index key\\t\\t\\t\\t\\tstandard industrial classification\\telectronic computers \\t\\tirs number\\t\\t\\t\\t\\t\\tstate of incorporation\\t\\t\\tca\\t\\tfiscal year end\\t\\t\\t\\tfiling values\\t\\tform type\\t\\t\\t\\tsec act\\t\\t act\\t\\tsec file number\\t\\t\\tfilm number\\t\\t\\tbusiness address\\t\\t\\tstreet \\t\\tone apple park way\\t\\tcity\\t\\t\\tcupertino\\t\\tstate\\t\\t\\tca\\t\\tzip\\t\\t\\t\\t\\tbusiness phone\\t\\t \\tmail address\\t\\t\\tstreet \\t\\tone apple park way\\t\\tcity\\t\\t\\tcupertino\\t\\tstate\\t\\t\\tca\\t\\tzip\\t\\t\\t\\tformer company\\t\\t\\tformer conformed name\\tapple inc\\t\\tdate of name change\\t\\tformer company\\t\\t\\tformer conformed name\\tapple computer inc\\t\\tdate of name change\\tsecheaderdocumenttextxbrlxml  xbrl document created with wdesk from workiva document created using wdesk   copyright  workiva html ...</td>\n",
              "    </tr>\n",
              "  </tbody>\n",
              "</table>\n",
              "</div>"
            ],
            "text/plain": [
              "                                                                                                                                                                                                                                                                                                                                                                                                                                                                                                                                                                                                                                                                                                                                                                                                                                                                                                                                                                                                                                       report\n",
              "AAC       accession number\\t\\tconformed submission type\\tpublic document count\\t\\tconformed period of report\\tfiled as of date\\t\\tdate as of change\\t\\tfiler\\tcompany data\\t\\t\\tcompany conformed name\\t\\t\\thongli clean energy technologies corp\\t\\tcentral index key\\t\\t\\t\\t\\tstandard industrial classification\\tsteel works blast furnaces  rolling mills coke ovens \\t\\tirs number\\t\\t\\t\\t\\t\\tstate of incorporation\\t\\t\\tfl\\t\\tfiscal year end\\t\\t\\t\\tfiling values\\t\\tform type\\t\\t\\t\\tsec act\\t\\t act\\t\\tsec file number\\t\\t\\tfilm number\\t\\t\\tbusiness address\\t\\t\\tstreet \\t\\tkuanggong rd  tiyu rd  flr\\t\\tstreet \\t\\tchengshi xin yong she tiyu rd xinhua\\t\\tcity\\t\\t\\tpingdingshan henan province\\t\\tstate\\t\\t\\t\\t\\tzip\\t\\t\\t\\t\\tbusiness phone\\t\\t\\tmail address\\t\\t\\tstreet \\t\\tkuanggong rd  tiyu rd  flr\\t\\tstreet \\t\\tchengshi xin yong she tiyu rd xinhua\\t\\tcity\\t\\t\\tpingdingshan henan province\\t\\tstate\\t\\t\\t\\t\\tzip\\t\\t\\t\\tformer company\\t\\t\\tformer conformed name\\tsinocoking coal  coke chemical industries in...\n",
              "AAL       accession number\\t\\tconformed submission type\\tpublic document count\\t\\tconformed period of report\\tfiled as of date\\t\\tdate as of change\\t\\tfiler\\tcompany data\\t\\t\\tcompany conformed name\\t\\t\\tamerican airlines group inc\\t\\tcentral index key\\t\\t\\t\\t\\tstandard industrial classification\\tair transportation scheduled \\t\\tirs number\\t\\t\\t\\t\\t\\tstate of incorporation\\t\\t\\tde\\t\\tfiscal year end\\t\\t\\t\\tfiling values\\t\\tform type\\t\\t\\t\\tsec act\\t\\t act\\t\\tsec file number\\t\\t\\tfilm number\\t\\t\\tbusiness address\\t\\t\\tstreet \\t\\t amon carter blvd\\t\\tcity\\t\\t\\tfort worth\\t\\tstate\\t\\t\\ttx\\t\\tzip\\t\\t\\t\\t\\tbusiness phone\\t\\t\\tmail address\\t\\t\\tstreet \\t\\t amon carter blvd\\t\\tcity\\t\\t\\tfort worth\\t\\tstate\\t\\t\\ttx\\t\\tzip\\t\\t\\t\\tformer company\\t\\t\\tformer conformed name\\tamr corp\\t\\tdate of name change\\tfiler\\tcompany data\\t\\t\\tcompany conformed name\\t\\t\\tamerican airlines inc\\t\\tcentral index key\\t\\t\\t\\t\\tstandard industrial classification\\tair transportation scheduled \\t\\tirs number\\t\\t\\t\\t\\t\\...\n",
              "AAME      accession number\\t\\tconformed submission type\\tpublic document count\\t\\tconformed period of report\\tfiled as of date\\t\\tdate as of change\\t\\tfiler\\tcompany data\\t\\t\\tcompany conformed name\\t\\t\\tatlantic american corp\\t\\tcentral index key\\t\\t\\t\\t\\tstandard industrial classification\\tlife insurance \\t\\tirs number\\t\\t\\t\\t\\t\\tstate of incorporation\\t\\t\\tga\\t\\tfiscal year end\\t\\t\\t\\tfiling values\\t\\tform type\\t\\t\\t\\tsec act\\t\\t act\\t\\tsec file number\\t\\t\\tfilm number\\t\\t\\tbusiness address\\t\\t\\tstreet \\t\\t peachtree rd ne\\t\\tcity\\t\\t\\tatlanta\\t\\tstate\\t\\t\\tga\\t\\tzip\\t\\t\\t\\t\\tbusiness phone\\t\\t\\tmail address\\t\\t\\tstreet \\t\\t peachtree road\\t\\tcity\\t\\t\\tatlanta\\t\\tstate\\t\\t\\tga\\t\\tzip\\t\\t\\tsecheaderdocumentdescriptionform textdoctype html public  html htmlhead    title title meta contenttexthtml  meta namegeneratedby contentsummit financial printing llc      licensed to broadridge financial solutions inc         document created using edgarfilings profile          copyright    broadrid...\n",
              "AAOI      accession number\\t\\tconformed submission type\\tpublic document count\\t\\tconformed period of report\\tfiled as of date\\t\\tdate as of change\\t\\tfiler\\tcompany data\\t\\t\\tcompany conformed name\\t\\t\\tapplied optoelectronics inc\\t\\tcentral index key\\t\\t\\t\\t\\tstandard industrial classification\\tsemiconductors  related devices \\t\\tirs number\\t\\t\\t\\t\\t\\tstate of incorporation\\t\\t\\tde\\t\\tfiscal year end\\t\\t\\t\\tfiling values\\t\\tform type\\t\\t\\t\\tsec act\\t\\t act\\t\\tsec file number\\t\\t\\tfilm number\\t\\t\\tbusiness address\\t\\t\\tstreet \\t\\t jess pirtle blvd\\t\\tcity\\t\\t\\tsugar land\\t\\tstate\\t\\t\\ttx\\t\\tzip\\t\\t\\t\\t\\tbusiness phone\\t\\t\\tmail address\\t\\t\\tstreet \\t\\t jess pirtle blvd\\t\\tcity\\t\\t\\tsugar land\\t\\tstate\\t\\t\\ttx\\t\\tzip\\t\\t\\t\\tformer company\\t\\t\\tformer conformed name\\tapplied optoelectronics inc\\t\\tdate of name change\\tsecheaderdocumenttexthtml document created with merrill bridge  created on   pmhtml\\thead\\t\\ttitle\\t\\t\\t\\t\\ttitle\\thead\\tbodydiv  \\t\\tp    new romantimesseriffontsize \\t\\t\\t...\n",
              "AAPL      accession number\\t\\tconformed submission type\\tpublic document count\\t\\tconformed period of report\\tfiled as of date\\t\\tdate as of change\\t\\tfiler\\tcompany data\\t\\t\\tcompany conformed name\\t\\t\\tapple inc\\t\\tcentral index key\\t\\t\\t\\t\\tstandard industrial classification\\telectronic computers \\t\\tirs number\\t\\t\\t\\t\\t\\tstate of incorporation\\t\\t\\tca\\t\\tfiscal year end\\t\\t\\t\\tfiling values\\t\\tform type\\t\\t\\t\\tsec act\\t\\t act\\t\\tsec file number\\t\\t\\tfilm number\\t\\t\\tbusiness address\\t\\t\\tstreet \\t\\tone apple park way\\t\\tcity\\t\\t\\tcupertino\\t\\tstate\\t\\t\\tca\\t\\tzip\\t\\t\\t\\t\\tbusiness phone\\t\\t \\tmail address\\t\\t\\tstreet \\t\\tone apple park way\\t\\tcity\\t\\t\\tcupertino\\t\\tstate\\t\\t\\tca\\t\\tzip\\t\\t\\t\\tformer company\\t\\t\\tformer conformed name\\tapple inc\\t\\tdate of name change\\t\\tformer company\\t\\t\\tformer conformed name\\tapple computer inc\\t\\tdate of name change\\tsecheaderdocumenttextxbrlxml  xbrl document created with wdesk from workiva document created using wdesk   copyright  workiva html ..."
            ]
          },
          "metadata": {}
        }
      ],
      "execution_count": 31,
      "metadata": {}
    },
    {
      "cell_type": "markdown",
      "source": [
        "---\n",
        "## Organizing The Data"
      ],
      "metadata": {}
    },
    {
      "cell_type": "markdown",
      "source": [
        "1. **Corpus - **a collection of text\n",
        "2. **Document-Term Matrix - **word counts in matrix format"
      ],
      "metadata": {}
    },
    {
      "cell_type": "markdown",
      "source": [
        "### Corpus"
      ],
      "metadata": {}
    },
    {
      "cell_type": "markdown",
      "source": [
        "We already created a corpus in an earlier step. The definition of a corpus is a collection of texts, and they are all put together neatly in a pandas dataframe here."
      ],
      "metadata": {}
    },
    {
      "cell_type": "code",
      "source": [
        "data_clean['company_name'] = list(df['name'])"
      ],
      "outputs": [],
      "execution_count": 32,
      "metadata": {}
    },
    {
      "cell_type": "code",
      "source": [
        "data_clean.head()"
      ],
      "outputs": [
        {
          "output_type": "execute_result",
          "execution_count": 33,
          "data": {
            "text/html": [
              "<div>\n",
              "<style scoped>\n",
              "    .dataframe tbody tr th:only-of-type {\n",
              "        vertical-align: middle;\n",
              "    }\n",
              "\n",
              "    .dataframe tbody tr th {\n",
              "        vertical-align: top;\n",
              "    }\n",
              "\n",
              "    .dataframe thead th {\n",
              "        text-align: right;\n",
              "    }\n",
              "</style>\n",
              "<table border=\"1\" class=\"dataframe\">\n",
              "  <thead>\n",
              "    <tr style=\"text-align: right;\">\n",
              "      <th></th>\n",
              "      <th>report</th>\n",
              "      <th>company_name</th>\n",
              "    </tr>\n",
              "  </thead>\n",
              "  <tbody>\n",
              "    <tr>\n",
              "      <th>AAC</th>\n",
              "      <td>accession number\\t\\tconformed submission type\\tpublic document count\\t\\tconformed period of report\\tfiled as of date\\t\\tdate as of change\\t\\tfiler\\tcompany data\\t\\t\\tcompany conformed name\\t\\t\\thongli clean energy technologies corp\\t\\tcentral index key\\t\\t\\t\\t\\tstandard industrial classification\\tsteel works blast furnaces  rolling mills coke ovens \\t\\tirs number\\t\\t\\t\\t\\t\\tstate of incorporation\\t\\t\\tfl\\t\\tfiscal year end\\t\\t\\t\\tfiling values\\t\\tform type\\t\\t\\t\\tsec act\\t\\t act\\t\\tsec file number\\t\\t\\tfilm number\\t\\t\\tbusiness address\\t\\t\\tstreet \\t\\tkuanggong rd  tiyu rd  flr\\t\\tstreet \\t\\tchengshi xin yong she tiyu rd xinhua\\t\\tcity\\t\\t\\tpingdingshan henan province\\t\\tstate\\t\\t\\t\\t\\tzip\\t\\t\\t\\t\\tbusiness phone\\t\\t\\tmail address\\t\\t\\tstreet \\t\\tkuanggong rd  tiyu rd  flr\\t\\tstreet \\t\\tchengshi xin yong she tiyu rd xinhua\\t\\tcity\\t\\t\\tpingdingshan henan province\\t\\tstate\\t\\t\\t\\t\\tzip\\t\\t\\t\\tformer company\\t\\t\\tformer conformed name\\tsinocoking coal  coke chemical industries in...</td>\n",
              "      <td>Sinocoking Coal &amp; Coke Chemical Industries Inc</td>\n",
              "    </tr>\n",
              "    <tr>\n",
              "      <th>AAL</th>\n",
              "      <td>accession number\\t\\tconformed submission type\\tpublic document count\\t\\tconformed period of report\\tfiled as of date\\t\\tdate as of change\\t\\tfiler\\tcompany data\\t\\t\\tcompany conformed name\\t\\t\\tamerican airlines group inc\\t\\tcentral index key\\t\\t\\t\\t\\tstandard industrial classification\\tair transportation scheduled \\t\\tirs number\\t\\t\\t\\t\\t\\tstate of incorporation\\t\\t\\tde\\t\\tfiscal year end\\t\\t\\t\\tfiling values\\t\\tform type\\t\\t\\t\\tsec act\\t\\t act\\t\\tsec file number\\t\\t\\tfilm number\\t\\t\\tbusiness address\\t\\t\\tstreet \\t\\t amon carter blvd\\t\\tcity\\t\\t\\tfort worth\\t\\tstate\\t\\t\\ttx\\t\\tzip\\t\\t\\t\\t\\tbusiness phone\\t\\t\\tmail address\\t\\t\\tstreet \\t\\t amon carter blvd\\t\\tcity\\t\\t\\tfort worth\\t\\tstate\\t\\t\\ttx\\t\\tzip\\t\\t\\t\\tformer company\\t\\t\\tformer conformed name\\tamr corp\\t\\tdate of name change\\tfiler\\tcompany data\\t\\t\\tcompany conformed name\\t\\t\\tamerican airlines inc\\t\\tcentral index key\\t\\t\\t\\t\\tstandard industrial classification\\tair transportation scheduled \\t\\tirs number\\t\\t\\t\\t\\t\\...</td>\n",
              "      <td>American Airlines Group Inc</td>\n",
              "    </tr>\n",
              "    <tr>\n",
              "      <th>AAME</th>\n",
              "      <td>accession number\\t\\tconformed submission type\\tpublic document count\\t\\tconformed period of report\\tfiled as of date\\t\\tdate as of change\\t\\tfiler\\tcompany data\\t\\t\\tcompany conformed name\\t\\t\\tatlantic american corp\\t\\tcentral index key\\t\\t\\t\\t\\tstandard industrial classification\\tlife insurance \\t\\tirs number\\t\\t\\t\\t\\t\\tstate of incorporation\\t\\t\\tga\\t\\tfiscal year end\\t\\t\\t\\tfiling values\\t\\tform type\\t\\t\\t\\tsec act\\t\\t act\\t\\tsec file number\\t\\t\\tfilm number\\t\\t\\tbusiness address\\t\\t\\tstreet \\t\\t peachtree rd ne\\t\\tcity\\t\\t\\tatlanta\\t\\tstate\\t\\t\\tga\\t\\tzip\\t\\t\\t\\t\\tbusiness phone\\t\\t\\tmail address\\t\\t\\tstreet \\t\\t peachtree road\\t\\tcity\\t\\t\\tatlanta\\t\\tstate\\t\\t\\tga\\t\\tzip\\t\\t\\tsecheaderdocumentdescriptionform textdoctype html public  html htmlhead    title title meta contenttexthtml  meta namegeneratedby contentsummit financial printing llc      licensed to broadridge financial solutions inc         document created using edgarfilings profile          copyright    broadrid...</td>\n",
              "      <td>Atlantic American Corp</td>\n",
              "    </tr>\n",
              "    <tr>\n",
              "      <th>AAOI</th>\n",
              "      <td>accession number\\t\\tconformed submission type\\tpublic document count\\t\\tconformed period of report\\tfiled as of date\\t\\tdate as of change\\t\\tfiler\\tcompany data\\t\\t\\tcompany conformed name\\t\\t\\tapplied optoelectronics inc\\t\\tcentral index key\\t\\t\\t\\t\\tstandard industrial classification\\tsemiconductors  related devices \\t\\tirs number\\t\\t\\t\\t\\t\\tstate of incorporation\\t\\t\\tde\\t\\tfiscal year end\\t\\t\\t\\tfiling values\\t\\tform type\\t\\t\\t\\tsec act\\t\\t act\\t\\tsec file number\\t\\t\\tfilm number\\t\\t\\tbusiness address\\t\\t\\tstreet \\t\\t jess pirtle blvd\\t\\tcity\\t\\t\\tsugar land\\t\\tstate\\t\\t\\ttx\\t\\tzip\\t\\t\\t\\t\\tbusiness phone\\t\\t\\tmail address\\t\\t\\tstreet \\t\\t jess pirtle blvd\\t\\tcity\\t\\t\\tsugar land\\t\\tstate\\t\\t\\ttx\\t\\tzip\\t\\t\\t\\tformer company\\t\\t\\tformer conformed name\\tapplied optoelectronics inc\\t\\tdate of name change\\tsecheaderdocumenttexthtml document created with merrill bridge  created on   pmhtml\\thead\\t\\ttitle\\t\\t\\t\\t\\ttitle\\thead\\tbodydiv  \\t\\tp    new romantimesseriffontsize \\t\\t\\t...</td>\n",
              "      <td>Applied Optoelectronics Inc</td>\n",
              "    </tr>\n",
              "    <tr>\n",
              "      <th>AAPL</th>\n",
              "      <td>accession number\\t\\tconformed submission type\\tpublic document count\\t\\tconformed period of report\\tfiled as of date\\t\\tdate as of change\\t\\tfiler\\tcompany data\\t\\t\\tcompany conformed name\\t\\t\\tapple inc\\t\\tcentral index key\\t\\t\\t\\t\\tstandard industrial classification\\telectronic computers \\t\\tirs number\\t\\t\\t\\t\\t\\tstate of incorporation\\t\\t\\tca\\t\\tfiscal year end\\t\\t\\t\\tfiling values\\t\\tform type\\t\\t\\t\\tsec act\\t\\t act\\t\\tsec file number\\t\\t\\tfilm number\\t\\t\\tbusiness address\\t\\t\\tstreet \\t\\tone apple park way\\t\\tcity\\t\\t\\tcupertino\\t\\tstate\\t\\t\\tca\\t\\tzip\\t\\t\\t\\t\\tbusiness phone\\t\\t \\tmail address\\t\\t\\tstreet \\t\\tone apple park way\\t\\tcity\\t\\t\\tcupertino\\t\\tstate\\t\\t\\tca\\t\\tzip\\t\\t\\t\\tformer company\\t\\t\\tformer conformed name\\tapple inc\\t\\tdate of name change\\t\\tformer company\\t\\t\\tformer conformed name\\tapple computer inc\\t\\tdate of name change\\tsecheaderdocumenttextxbrlxml  xbrl document created with wdesk from workiva document created using wdesk   copyright  workiva html ...</td>\n",
              "      <td>Apple Inc</td>\n",
              "    </tr>\n",
              "  </tbody>\n",
              "</table>\n",
              "</div>"
            ],
            "text/plain": [
              "                                                                                                                                                                                                                                                                                                                                                                                                                                                                                                                                                                                                                                                                                                                                                                                                                                                                                                                                                                                                                                       report  \\\n",
              "AAC       accession number\\t\\tconformed submission type\\tpublic document count\\t\\tconformed period of report\\tfiled as of date\\t\\tdate as of change\\t\\tfiler\\tcompany data\\t\\t\\tcompany conformed name\\t\\t\\thongli clean energy technologies corp\\t\\tcentral index key\\t\\t\\t\\t\\tstandard industrial classification\\tsteel works blast furnaces  rolling mills coke ovens \\t\\tirs number\\t\\t\\t\\t\\t\\tstate of incorporation\\t\\t\\tfl\\t\\tfiscal year end\\t\\t\\t\\tfiling values\\t\\tform type\\t\\t\\t\\tsec act\\t\\t act\\t\\tsec file number\\t\\t\\tfilm number\\t\\t\\tbusiness address\\t\\t\\tstreet \\t\\tkuanggong rd  tiyu rd  flr\\t\\tstreet \\t\\tchengshi xin yong she tiyu rd xinhua\\t\\tcity\\t\\t\\tpingdingshan henan province\\t\\tstate\\t\\t\\t\\t\\tzip\\t\\t\\t\\t\\tbusiness phone\\t\\t\\tmail address\\t\\t\\tstreet \\t\\tkuanggong rd  tiyu rd  flr\\t\\tstreet \\t\\tchengshi xin yong she tiyu rd xinhua\\t\\tcity\\t\\t\\tpingdingshan henan province\\t\\tstate\\t\\t\\t\\t\\tzip\\t\\t\\t\\tformer company\\t\\t\\tformer conformed name\\tsinocoking coal  coke chemical industries in...   \n",
              "AAL       accession number\\t\\tconformed submission type\\tpublic document count\\t\\tconformed period of report\\tfiled as of date\\t\\tdate as of change\\t\\tfiler\\tcompany data\\t\\t\\tcompany conformed name\\t\\t\\tamerican airlines group inc\\t\\tcentral index key\\t\\t\\t\\t\\tstandard industrial classification\\tair transportation scheduled \\t\\tirs number\\t\\t\\t\\t\\t\\tstate of incorporation\\t\\t\\tde\\t\\tfiscal year end\\t\\t\\t\\tfiling values\\t\\tform type\\t\\t\\t\\tsec act\\t\\t act\\t\\tsec file number\\t\\t\\tfilm number\\t\\t\\tbusiness address\\t\\t\\tstreet \\t\\t amon carter blvd\\t\\tcity\\t\\t\\tfort worth\\t\\tstate\\t\\t\\ttx\\t\\tzip\\t\\t\\t\\t\\tbusiness phone\\t\\t\\tmail address\\t\\t\\tstreet \\t\\t amon carter blvd\\t\\tcity\\t\\t\\tfort worth\\t\\tstate\\t\\t\\ttx\\t\\tzip\\t\\t\\t\\tformer company\\t\\t\\tformer conformed name\\tamr corp\\t\\tdate of name change\\tfiler\\tcompany data\\t\\t\\tcompany conformed name\\t\\t\\tamerican airlines inc\\t\\tcentral index key\\t\\t\\t\\t\\tstandard industrial classification\\tair transportation scheduled \\t\\tirs number\\t\\t\\t\\t\\t\\...   \n",
              "AAME      accession number\\t\\tconformed submission type\\tpublic document count\\t\\tconformed period of report\\tfiled as of date\\t\\tdate as of change\\t\\tfiler\\tcompany data\\t\\t\\tcompany conformed name\\t\\t\\tatlantic american corp\\t\\tcentral index key\\t\\t\\t\\t\\tstandard industrial classification\\tlife insurance \\t\\tirs number\\t\\t\\t\\t\\t\\tstate of incorporation\\t\\t\\tga\\t\\tfiscal year end\\t\\t\\t\\tfiling values\\t\\tform type\\t\\t\\t\\tsec act\\t\\t act\\t\\tsec file number\\t\\t\\tfilm number\\t\\t\\tbusiness address\\t\\t\\tstreet \\t\\t peachtree rd ne\\t\\tcity\\t\\t\\tatlanta\\t\\tstate\\t\\t\\tga\\t\\tzip\\t\\t\\t\\t\\tbusiness phone\\t\\t\\tmail address\\t\\t\\tstreet \\t\\t peachtree road\\t\\tcity\\t\\t\\tatlanta\\t\\tstate\\t\\t\\tga\\t\\tzip\\t\\t\\tsecheaderdocumentdescriptionform textdoctype html public  html htmlhead    title title meta contenttexthtml  meta namegeneratedby contentsummit financial printing llc      licensed to broadridge financial solutions inc         document created using edgarfilings profile          copyright    broadrid...   \n",
              "AAOI      accession number\\t\\tconformed submission type\\tpublic document count\\t\\tconformed period of report\\tfiled as of date\\t\\tdate as of change\\t\\tfiler\\tcompany data\\t\\t\\tcompany conformed name\\t\\t\\tapplied optoelectronics inc\\t\\tcentral index key\\t\\t\\t\\t\\tstandard industrial classification\\tsemiconductors  related devices \\t\\tirs number\\t\\t\\t\\t\\t\\tstate of incorporation\\t\\t\\tde\\t\\tfiscal year end\\t\\t\\t\\tfiling values\\t\\tform type\\t\\t\\t\\tsec act\\t\\t act\\t\\tsec file number\\t\\t\\tfilm number\\t\\t\\tbusiness address\\t\\t\\tstreet \\t\\t jess pirtle blvd\\t\\tcity\\t\\t\\tsugar land\\t\\tstate\\t\\t\\ttx\\t\\tzip\\t\\t\\t\\t\\tbusiness phone\\t\\t\\tmail address\\t\\t\\tstreet \\t\\t jess pirtle blvd\\t\\tcity\\t\\t\\tsugar land\\t\\tstate\\t\\t\\ttx\\t\\tzip\\t\\t\\t\\tformer company\\t\\t\\tformer conformed name\\tapplied optoelectronics inc\\t\\tdate of name change\\tsecheaderdocumenttexthtml document created with merrill bridge  created on   pmhtml\\thead\\t\\ttitle\\t\\t\\t\\t\\ttitle\\thead\\tbodydiv  \\t\\tp    new romantimesseriffontsize \\t\\t\\t...   \n",
              "AAPL      accession number\\t\\tconformed submission type\\tpublic document count\\t\\tconformed period of report\\tfiled as of date\\t\\tdate as of change\\t\\tfiler\\tcompany data\\t\\t\\tcompany conformed name\\t\\t\\tapple inc\\t\\tcentral index key\\t\\t\\t\\t\\tstandard industrial classification\\telectronic computers \\t\\tirs number\\t\\t\\t\\t\\t\\tstate of incorporation\\t\\t\\tca\\t\\tfiscal year end\\t\\t\\t\\tfiling values\\t\\tform type\\t\\t\\t\\tsec act\\t\\t act\\t\\tsec file number\\t\\t\\tfilm number\\t\\t\\tbusiness address\\t\\t\\tstreet \\t\\tone apple park way\\t\\tcity\\t\\t\\tcupertino\\t\\tstate\\t\\t\\tca\\t\\tzip\\t\\t\\t\\t\\tbusiness phone\\t\\t \\tmail address\\t\\t\\tstreet \\t\\tone apple park way\\t\\tcity\\t\\t\\tcupertino\\t\\tstate\\t\\t\\tca\\t\\tzip\\t\\t\\t\\tformer company\\t\\t\\tformer conformed name\\tapple inc\\t\\tdate of name change\\t\\tformer company\\t\\t\\tformer conformed name\\tapple computer inc\\t\\tdate of name change\\tsecheaderdocumenttextxbrlxml  xbrl document created with wdesk from workiva document created using wdesk   copyright  workiva html ...   \n",
              "\n",
              "                                        company_name  \n",
              "AAC   Sinocoking Coal & Coke Chemical Industries Inc  \n",
              "AAL                      American Airlines Group Inc  \n",
              "AAME                          Atlantic American Corp  \n",
              "AAOI                     Applied Optoelectronics Inc  \n",
              "AAPL                                       Apple Inc  "
            ]
          },
          "metadata": {}
        }
      ],
      "execution_count": 33,
      "metadata": {}
    },
    {
      "cell_type": "code",
      "source": [
        "# Let's pickle it for later use\n",
        "data_clean.to_pickle(\"pickle/corpus_EDGAR.pkl\")"
      ],
      "outputs": [],
      "execution_count": 34,
      "metadata": {
        "collapsed": true
      }
    },
    {
      "cell_type": "markdown",
      "source": [
        "---\n",
        "### Document-Term Matrix"
      ],
      "metadata": {}
    },
    {
      "cell_type": "markdown",
      "source": [
        "For many of the techniques, the text must be tokenized, meaning broken down into smaller pieces. The most common tokenization technique is to break down text into words. We can do this using scikit-learn's CountVectorizer, where every row will represent a different document and every column will represent a different word.\n",
        "\n",
        "In addition, with CountVectorizer, we can remove stop words. Stop words are common words that add no additional meaning to text such as 'a', 'the', etc."
      ],
      "metadata": {}
    },
    {
      "cell_type": "code",
      "source": [
        "# We are going to create a document-term matrix using CountVectorizer, and exclude common English stop words\n",
        "from sklearn.feature_extraction.text import CountVectorizer\n",
        "\n",
        "cv = CountVectorizer(stop_words='english')"
      ],
      "outputs": [],
      "execution_count": 35,
      "metadata": {}
    },
    {
      "cell_type": "code",
      "source": [
        "data_cv = cv.fit_transform(data_clean.report)"
      ],
      "outputs": [],
      "execution_count": 36,
      "metadata": {}
    },
    {
      "cell_type": "code",
      "source": [
        "print(data_clean.report[0][:800])"
      ],
      "outputs": [
        {
          "output_type": "stream",
          "name": "stdout",
          "text": [
            "    accession number\t\tconformed submission type\tpublic document count\t\tconformed period of report\tfiled as of date\t\tdate as of change\t\tfiler\tcompany data\t\t\tcompany conformed name\t\t\thongli clean energy technologies corp\t\tcentral index key\t\t\t\t\tstandard industrial classification\tsteel works blast furnaces  rolling mills coke ovens \t\tirs number\t\t\t\t\t\tstate of incorporation\t\t\tfl\t\tfiscal year end\t\t\t\tfiling values\t\tform type\t\t\t\tsec act\t\t act\t\tsec file number\t\t\tfilm number\t\t\tbusiness address\t\t\tstreet \t\tkuanggong rd  tiyu rd  flr\t\tstreet \t\tchengshi xin yong she tiyu rd xinhua\t\tcity\t\t\tpingdingshan henan province\t\tstate\t\t\t\t\tzip\t\t\t\t\tbusiness phone\t\t\tmail address\t\t\tstreet \t\tkuanggong rd  tiyu rd  flr\t\tstreet \t\tchengshi xin yong she tiyu rd xinhua\t\tcity\t\t\tpingdingshan henan province\t\tstate\t\t\t\t\tzip\t\t\t\tfor\n"
          ]
        }
      ],
      "execution_count": 37,
      "metadata": {}
    },
    {
      "cell_type": "code",
      "source": [
        "data_dtm = pd.DataFrame(data_cv.toarray(), columns=cv.get_feature_names())\n",
        "data_dtm.index = data_clean.index"
      ],
      "outputs": [],
      "execution_count": 38,
      "metadata": {}
    },
    {
      "cell_type": "code",
      "source": [
        "data_dtm.head()"
      ],
      "outputs": [],
      "execution_count": null,
      "metadata": {}
    },
    {
      "cell_type": "code",
      "source": [
        "# Let's pickle it for later use\n",
        "data_dtm.to_pickle(\"pickle/dtm_EDGAR.pkl\")"
      ],
      "outputs": [],
      "execution_count": 40,
      "metadata": {
        "collapsed": true
      }
    },
    {
      "cell_type": "code",
      "source": [
        "# Let's also pickle the cleaned data (before we put it in document-term matrix format) and the CountVectorizer object\n",
        "data_clean.to_pickle('pickle/data_clean_EDGAR.pkl')\n",
        "pickle.dump(cv, open(\"pickle/cv_EDGAR.pkl\", \"wb\"))"
      ],
      "outputs": [],
      "execution_count": 41,
      "metadata": {
        "collapsed": true
      }
    },
    {
      "cell_type": "code",
      "source": [],
      "outputs": [],
      "execution_count": null,
      "metadata": {
        "collapsed": true
      }
    }
  ],
  "metadata": {
    "kernelspec": {
      "display_name": "Python 3",
      "language": "python",
      "name": "python3"
    },
    "language_info": {
      "codemirror_mode": {
        "name": "ipython",
        "version": 3
      },
      "file_extension": ".py",
      "mimetype": "text/x-python",
      "name": "python",
      "nbconvert_exporter": "python",
      "pygments_lexer": "ipython3",
      "version": "3.7.3"
    },
    "nteract": {
      "version": "0.15.0"
    },
    "toc": {
      "nav_menu": {},
      "number_sections": true,
      "sideBar": true,
      "skip_h1_title": false,
      "toc_cell": false,
      "toc_position": {},
      "toc_section_display": "block",
      "toc_window_display": false
    },
    "varInspector": {
      "cols": {
        "lenName": 16,
        "lenType": 16,
        "lenVar": 40
      },
      "kernels_config": {
        "python": {
          "delete_cmd_postfix": "",
          "delete_cmd_prefix": "del ",
          "library": "var_list.py",
          "varRefreshCmd": "print(var_dic_list())"
        },
        "r": {
          "delete_cmd_postfix": ") ",
          "delete_cmd_prefix": "rm(",
          "library": "var_list.r",
          "varRefreshCmd": "cat(var_dic_list()) "
        }
      },
      "types_to_exclude": [
        "module",
        "function",
        "builtin_function_or_method",
        "instance",
        "_Feature"
      ],
      "window_display": false
    }
  },
  "nbformat": 4,
  "nbformat_minor": 2
}